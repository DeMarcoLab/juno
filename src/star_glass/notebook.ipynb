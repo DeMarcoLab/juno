{
 "cells": [
  {
   "cell_type": "markdown",
   "metadata": {},
   "source": [
    "# Notebook\n",
    "Notebook for prototyping and experimenting. "
   ]
  },
  {
   "cell_type": "code",
   "execution_count": null,
   "metadata": {},
   "outputs": [],
   "source": []
  },
  {
   "cell_type": "markdown",
   "metadata": {},
   "source": [
    "### New Simulation Config\n"
   ]
  },
  {
   "cell_type": "code",
   "execution_count": null,
   "metadata": {},
   "outputs": [],
   "source": [
    "\n",
    "# beam_settings = load_beam_config(config[\"beam\"])\n",
    "\n",
    "# lenses = [load_lens_config(lc) for lc in config[\"lenses\"]]\n",
    "# stages = [load_sim_stage_config(sc) for sc in config[\"stages\"]]\n",
    "\n",
    "# options = generate_simulation_options(config, \"log\")\n",
    "# parameters = generate_simulation_parameters(config)\n",
    "\n",
    "\n",
    "# sim_config = SimulationConfig(\n",
    "#     beam=beam_settings,\n",
    "#     lenses=lenses,\n",
    "#     stages=stages,\n",
    "#     parameters=parameters,\n",
    "#     options=options\n",
    "# )\n",
    "\n",
    "\n",
    "# print(\"SIM CONFIG:\")\n",
    "# pprint(sim_config.beam)\n",
    "# print(\"-\"*50)\n",
    "# pprint(sim_config.lenses)\n",
    "# print(\"-\"*50)\n",
    "# pprint(sim_config.stages)\n",
    "# print(\"-\"*50)\n",
    "# pprint(sim_config.parameters)\n",
    "# print(\"-\"*50)\n",
    "# pprint(sim_config.options)\n",
    "\n"
   ]
  },
  {
   "cell_type": "code",
   "execution_count": null,
   "metadata": {},
   "outputs": [],
   "source": []
  },
  {
   "cell_type": "markdown",
   "metadata": {},
   "source": [
    "## Electric Field Refactor\n",
    "Restructure the simulation to use electric field propagation rather than lenses\n",
    "\n"
   ]
  },
  {
   "cell_type": "code",
   "execution_count": null,
   "metadata": {},
   "outputs": [],
   "source": [
    "%load_ext autoreload\n",
    "%autoreload 2\n",
    "\n",
    "from star_glass import utils, plotting\n",
    "from star_glass.beam import generate_beam\n",
    "from star_glass.Simulation import (generate_beam_simulation_stage, generate_simulation_parameters, \n",
    "    generate_sq_freq_arr, propagate_over_distance)\n",
    "from star_glass import Simulation\n",
    "from pprint import pprint\n",
    "from star_glass.Lens import Lens\n",
    "from scipy import fftpack\n",
    "from star_glass.structures import SimulationStage, SimulationParameters, SimulationOptions, SimulationResult\n",
    "from tqdm import tqdm\n",
    "import numpy as np\n",
    "import zarr\n",
    "import matplotlib.pyplot as plt\n",
    "\n",
    "path = \"test\"\n",
    "config = utils.load_config(\"example/sim_charizard_2d.yaml\")\n",
    "config[\"log_dir\"] = \"log\"\n",
    "\n",
    "sim = Simulation.Simulation(config)\n",
    "sim.run_simulation()\n",
    "\n",
    "plotting.save_propagation_gif_full(sim.options.log_dir)\n"
   ]
  },
  {
   "cell_type": "code",
   "execution_count": null,
   "metadata": {},
   "outputs": [],
   "source": [
    "from IPython.display import Image\n",
    "\n",
    "plt.close()\n",
    "fig = plotting.plot_sim_propagation_v2(sim.options.log_dir)\n",
    "plt.show()\n",
    "\n",
    "arr = plotting.load_full_sim_propagation_v2(sim.options.log_dir)\n",
    "fig = plt.figure(figsize=(15, 15))\n",
    "plt.imshow(np.flip(arr[-4,:, :]), aspect=\"auto\", cmap=\"turbo\")\n",
    "plt.show()\n",
    "\n",
    "Image(os.path.join(sim.options.log_dir, \"propagation.gif\"))\n",
    "\n"
   ]
  },
  {
   "cell_type": "code",
   "execution_count": null,
   "metadata": {},
   "outputs": [],
   "source": [
    "from star_glass.beam import create_gaussian\n",
    "\n",
    "path = \"test\"\n",
    "config = utils.load_config(\"example/sim_gaussian_2d.yaml\")\n",
    "config[\"log_dir\"] = path\n",
    "\n",
    "parameters = generate_simulation_parameters(config)\n",
    "beam_stage = generate_beam_simulation_stage(config, parameters)\n",
    "\n",
    "z0 = 400.e-3\n",
    "r0 = (0, 0)\n",
    "w0 = 40.e-3\n",
    "\n",
    "# parameters.sim_wavelength = 30e-3\n",
    "arr = create_gaussian(r0, w0, z0, parameters=parameters, theta=0, phi=0)\n",
    "\n",
    "print(parameters)\n",
    "\n",
    "plt.imshow(np.abs(arr), cmap=\"turbo\", aspect=\"auto\")\n",
    "plt.title(\"Gaussian\")\n",
    "plt.colorbar()\n",
    "plt.show()\n",
    "\n",
    "np.save(\"custom/gaussian.npy\", arr)\n",
    "\n",
    "fname = config[\"beam\"][\"data\"]\n",
    "loaded = utils.load_np_arr(fname)\n",
    "\n",
    "plt.imshow(np.abs(loaded), cmap=\"turbo\", aspect=\"auto\")\n",
    "plt.title(\"Gaussian (Loaded\")\n",
    "plt.colorbar()\n",
    "plt.show()\n"
   ]
  },
  {
   "cell_type": "code",
   "execution_count": null,
   "metadata": {},
   "outputs": [],
   "source": [
    "from PIL import Image\n",
    "# star https://www.freeiconspng.com/images/white-star-icon\n",
    "#fair use charizard https://en.wikipedia.org/wiki/Charizard#/media/File:Pok%C3%A9mon_Charizard_art.png\n",
    "img = Image.open(\"custom/charizard.png\")\n",
    "img = img.resize((501, 501)).convert(\"L\")\n",
    "arr = np.asarray(img)\n",
    "arr = arr>0 * 10000\n",
    "\n",
    "arr = np.pad(arr, (1000, 1000), mode=\"constant\", constant_values=0)\n",
    "\n",
    "print(arr.shape)\n",
    "plt.imshow(arr)\n",
    "plt.show()\n",
    "\n",
    "np.save(\"custom/charizard.npy\", arr)\n",
    "\n",
    "fname = config[\"beam\"][\"data\"]\n",
    "loaded = utils.load_np_arr(\"custom/charizard.npy\")\n",
    "\n",
    "plt.imshow(np.abs(loaded), cmap=\"turbo\", aspect=\"auto\")\n",
    "plt.title(\"Charizard (Loaded\")\n",
    "plt.colorbar()\n",
    "plt.show()\n",
    "\n",
    "from scipy import fftpack\n",
    "fft_charizard = fftpack.fft2(arr)\n",
    "\n",
    "plt.imshow(abs(fft_charizard)**2, cmap=\"turbo\")\n",
    "plt.show()\n",
    "\n",
    "np.save(\"custom/fft_charizard.npy\", fft_charizard)\n"
   ]
  },
  {
   "cell_type": "code",
   "execution_count": null,
   "metadata": {},
   "outputs": [],
   "source": []
  },
  {
   "cell_type": "markdown",
   "metadata": {},
   "source": [
    "### Vectorisation Upgrade\n",
    "Convert the propagate wavefront function use vectorised dask calculation. Measure performance"
   ]
  },
  {
   "cell_type": "code",
   "execution_count": null,
   "metadata": {},
   "outputs": [],
   "source": [
    "%load_ext autoreload\n",
    "%autoreload 2\n",
    "\n",
    "from star_glass import utils, plotting\n",
    "from star_glass.Medium import Medium\n",
    "from star_glass.Simulation import Simulation, calculate_stage_phase, calculate_wavefront_v2, generate_sq_freq_arr, propagate_wavefront_v2\n",
    "from pprint import pprint\n",
    "import matplotlib.pyplot as plt\n",
    "import numpy as np\n",
    "\n",
    "import os\n",
    "\n",
    "# vector version\n",
    "\n",
    "# TODO: dask\n",
    "# notes: slightly faster ... :(\n",
    "\n",
    "\n",
    "\n",
    "\n",
    "def run_sim_test(vector):\n",
    "    config = utils.load_config(\"example/sim_focus_2d.yaml\")\n",
    "    config[\"log_dir\"] = \"test\"\n",
    "\n",
    "    sim = Simulation(config)\n",
    "    options = sim.options\n",
    "    parameters = sim.parameters\n",
    "\n",
    "    for stage in sim.sim_stages:\n",
    "\n",
    "        if stage.wavefront is not None:\n",
    "            propagation = stage.wavefront\n",
    "\n",
    "        previous_wavefront = propagation\n",
    "\n",
    "        # calculate stage phase profile\n",
    "        phase = calculate_stage_phase(stage, parameters)\n",
    "\n",
    "        # electric field (wavefront)\n",
    "        amplitude: float = parameters.A if stage._id == 0 else 1.0\n",
    "        wavefront = calculate_wavefront_v2(\n",
    "            phase=phase,\n",
    "            previous_wavefront=previous_wavefront,\n",
    "            A=amplitude,\n",
    "            aperture=stage.lens.aperture,\n",
    "        )\n",
    "\n",
    "        ## propagate wavefront\n",
    "        if vector:\n",
    "            result = propagate_wavefront_v3(wavefront=wavefront, \n",
    "                                stage=stage, \n",
    "                                parameters=parameters, \n",
    "                                options=options)\n",
    "        else:\n",
    "            result = propagate_wavefront_v2(wavefront=wavefront, \n",
    "                    stage=stage, \n",
    "                    parameters=parameters, \n",
    "                    options=options)\n",
    "        \n",
    "        propagation = result.propagation\n",
    "\n",
    "    utils.save_metadata(config, options.log_dir)\n",
    "\n",
    "\n",
    "\n"
   ]
  },
  {
   "cell_type": "code",
   "execution_count": null,
   "metadata": {},
   "outputs": [],
   "source": [
    "\n"
   ]
  },
  {
   "cell_type": "code",
   "execution_count": null,
   "metadata": {},
   "outputs": [],
   "source": []
  },
  {
   "cell_type": "code",
   "execution_count": null,
   "metadata": {},
   "outputs": [],
   "source": [
    "from star_glass import utils, plotting\n",
    "import napari\n",
    "import numpy as np\n",
    "path = r\"C:\\Users\\pcle0002\\Documents\\repos\\star_glass\\log\\duly-humble-sponge/saving-shiner\"\n",
    "# path = r\"C:\\Users\\pcle0002\\Documents\\repos\\star_glass\\log\\gently-stable-flea\\intent-ibex\"\n",
    "sim = plotting.load_full_sim_propagation_v3(path)\n",
    "\n",
    "\n",
    "viewer = napari.Viewer(ndisplay=3)\n",
    "# mask = sim > 1e8\n",
    "viewer.add_image(sim, name=\"simulation\", scale=[1, 0.1, 0.1] ,rendering=\"mip\", depiction=\"volume\", interpolation=\"nearest\", colormap=\"turbo\")\n",
    "# viewer.add_image(np.log(sim +1e-12), name=\"log_simulation\", scale=[1, 0.1, 0.1] ,rendering=\"mip\", depiction=\"volume\", interpolation=\"nearest\", colormap=\"turbo\")"
   ]
  },
  {
   "cell_type": "code",
   "execution_count": null,
   "metadata": {},
   "outputs": [],
   "source": [
    "fig = plotting.plot_sim_propagation_v2(path, log=True)\n",
    "plt.show()"
   ]
  },
  {
   "cell_type": "code",
   "execution_count": null,
   "metadata": {},
   "outputs": [],
   "source": [
    "\n",
    "\n",
    "\n",
    "config = utils.load_config(\"config.yaml\")\n",
    "\n",
    "from star_glass.Lens  import generate_lens\n",
    "from star_glass.Medium import Medium\n",
    "\n",
    "lens = generate_lens(config[\"lenses\"][0],  Medium(2.348), 1e-6)\n",
    "\n",
    "plotting.plot_lens_profile_2D(lens)\n",
    "# plt.show()\n",
    "arr3d = plotting.create_3d_lens(lens)\n",
    "\n",
    "plotting.view_lens3d_in_napari(arr3d)"
   ]
  },
  {
   "cell_type": "code",
   "execution_count": null,
   "metadata": {},
   "outputs": [],
   "source": []
  },
  {
   "cell_type": "code",
   "execution_count": null,
   "metadata": {},
   "outputs": [],
   "source": []
  },
  {
   "cell_type": "code",
   "execution_count": 14,
   "metadata": {},
   "outputs": [
    {
     "name": "stdout",
     "output_type": "stream",
     "text": [
      "The autoreload extension is already loaded. To reload it, use:\n",
      "  %reload_ext autoreload\n"
     ]
    }
   ],
   "source": [
    "%load_ext autoreload\n",
    "%autoreload 2\n",
    "\n",
    "### Napari Lens Creator\n",
    "from napari.layers import Image\n",
    "import napari.types \n",
    "import numpy as np\n",
    "from magicgui import magicgui\n",
    "import napari\n",
    "\n",
    "from pprint import pprint\n",
    "from star_glass import utils, plotting\n",
    "from star_glass.Lens  import LensType, generate_lens\n",
    "from star_glass.Medium import Medium\n",
    "from pathlib import Path"
   ]
  },
  {
   "cell_type": "code",
   "execution_count": 46,
   "metadata": {},
   "outputs": [
    {
     "name": "stdout",
     "output_type": "stream",
     "text": [
      "'Spherical'\n",
      "<LensType.Spherical: 2>\n"
     ]
    },
    {
     "name": "stderr",
     "output_type": "stream",
     "text": [
      "c:\\Users\\pcle0002\\Miniconda3\\envs\\lens_sim\\lib\\site-packages\\napari_tools_menu\\__init__.py:179: FutureWarning: Public access to Window.qt_viewer is deprecated and will be removed in\n",
      "v0.5.0. It is considered an \"implementation detail\" of the napari\n",
      "application, not part of the napari viewer model. If your use case\n",
      "requires access to qt_viewer, please open an issue to discuss.\n",
      "  self.tools_menu = ToolsMenu(self, self.qt_viewer.viewer)\n"
     ]
    },
    {
     "ename": "ValueError",
     "evalue": "",
     "output_type": "error",
     "traceback": [
      "\u001b[1;31m---------------------------------------------------------------------------\u001b[0m",
      "\u001b[1;31mValueError\u001b[0m                                Traceback (most recent call last)",
      "\u001b[1;32mc:\\Users\\pcle0002\\Documents\\repos\\star-glass\\src\\star_glass\\notebook.ipynb Cell 22\u001b[0m in \u001b[0;36m<cell line: 170>\u001b[1;34m()\u001b[0m\n\u001b[0;32m    <a href='vscode-notebook-cell:/c%3A/Users/pcle0002/Documents/repos/star-glass/src/star_glass/notebook.ipynb#ch0000021?line=167'>168</a>\u001b[0m viewer\u001b[39m.\u001b[39mscale_bar\u001b[39m.\u001b[39mvisible \u001b[39m=\u001b[39m \u001b[39mTrue\u001b[39;00m\n\u001b[0;32m    <a href='vscode-notebook-cell:/c%3A/Users/pcle0002/Documents/repos/star-glass/src/star_glass/notebook.ipynb#ch0000021?line=168'>169</a>\u001b[0m viewer\u001b[39m.\u001b[39mwindow\u001b[39m.\u001b[39madd_dock_widget(create_lens)\n\u001b[1;32m--> <a href='vscode-notebook-cell:/c%3A/Users/pcle0002/Documents/repos/star-glass/src/star_glass/notebook.ipynb#ch0000021?line=169'>170</a>\u001b[0m create_lens()\n",
      "File \u001b[1;32mc:\\Users\\pcle0002\\Miniconda3\\envs\\lens_sim\\lib\\site-packages\\magicgui\\widgets\\_function_gui.py:318\u001b[0m, in \u001b[0;36mFunctionGui.__call__\u001b[1;34m(self, update_widget, *args, **kwargs)\u001b[0m\n\u001b[0;32m    316\u001b[0m \u001b[39mself\u001b[39m\u001b[39m.\u001b[39m_tqdm_depth \u001b[39m=\u001b[39m \u001b[39m0\u001b[39m  \u001b[39m# reset the tqdm stack count\u001b[39;00m\n\u001b[0;32m    317\u001b[0m \u001b[39mwith\u001b[39;00m _function_name_pointing_to_widget(\u001b[39mself\u001b[39m):\n\u001b[1;32m--> 318\u001b[0m     value \u001b[39m=\u001b[39m \u001b[39mself\u001b[39;49m\u001b[39m.\u001b[39;49m_function(\u001b[39m*\u001b[39;49mbound\u001b[39m.\u001b[39;49margs, \u001b[39m*\u001b[39;49m\u001b[39m*\u001b[39;49mbound\u001b[39m.\u001b[39;49mkwargs)\n\u001b[0;32m    320\u001b[0m \u001b[39mself\u001b[39m\u001b[39m.\u001b[39m_call_count \u001b[39m+\u001b[39m\u001b[39m=\u001b[39m \u001b[39m1\u001b[39m\n\u001b[0;32m    321\u001b[0m \u001b[39mif\u001b[39;00m \u001b[39mself\u001b[39m\u001b[39m.\u001b[39m_result_widget \u001b[39mis\u001b[39;00m \u001b[39mnot\u001b[39;00m \u001b[39mNone\u001b[39;00m:\n",
      "\u001b[1;32mc:\\Users\\pcle0002\\Documents\\repos\\star-glass\\src\\star_glass\\notebook.ipynb Cell 22\u001b[0m in \u001b[0;36mcreate_lens\u001b[1;34m(load_path, exponent, diameter, height, length, escape_path, lens_type, invert, grating, grating_width, grating_distance, grating_depth, grating_x, grating_y, grating_centred, truncation, truncation_height, truncation_radius, truncation_type, truncation_aperture, aperture, aperture_inner, aperture_outer, aperture_type, aperture_invert, pixel_size, save_path)\u001b[0m\n\u001b[0;32m     <a href='vscode-notebook-cell:/c%3A/Users/pcle0002/Documents/repos/star-glass/src/star_glass/notebook.ipynb#ch0000021?line=79'>80</a>\u001b[0m lens_config \u001b[39m=\u001b[39m config[\u001b[39m\"\u001b[39m\u001b[39mlenses\u001b[39m\u001b[39m\"\u001b[39m][\u001b[39m0\u001b[39m]\n\u001b[0;32m     <a href='vscode-notebook-cell:/c%3A/Users/pcle0002/Documents/repos/star-glass/src/star_glass/notebook.ipynb#ch0000021?line=82'>83</a>\u001b[0m \u001b[39m# set widgets?\u001b[39;00m\n\u001b[0;32m     <a href='vscode-notebook-cell:/c%3A/Users/pcle0002/Documents/repos/star-glass/src/star_glass/notebook.ipynb#ch0000021?line=83'>84</a>\u001b[0m \u001b[39m# create_lens.height.bind() #.height = lens_config[\"height\"] * METRE_TO_MICRON\u001b[39;00m\n\u001b[0;32m     <a href='vscode-notebook-cell:/c%3A/Users/pcle0002/Documents/repos/star-glass/src/star_glass/notebook.ipynb#ch0000021?line=84'>85</a>\u001b[0m \u001b[39m# FunctionGui.diameter = lens_config[\"diameter\"] * METRE_TO_MICRON\u001b[39;00m\n\u001b[0;32m     <a href='vscode-notebook-cell:/c%3A/Users/pcle0002/Documents/repos/star-glass/src/star_glass/notebook.ipynb#ch0000021?line=85'>86</a>\u001b[0m \u001b[39m# create_lens. #exponent.bind(lens_config[\"exponent\"])\u001b[39;00m\n\u001b[1;32m---> <a href='vscode-notebook-cell:/c%3A/Users/pcle0002/Documents/repos/star-glass/src/star_glass/notebook.ipynb#ch0000021?line=87'>88</a>\u001b[0m \u001b[39mprint\u001b[39m(create_lens\u001b[39m.\u001b[39;49mindex(create_lens\u001b[39m.\u001b[39;49mexponent))\n\u001b[0;32m    <a href='vscode-notebook-cell:/c%3A/Users/pcle0002/Documents/repos/star-glass/src/star_glass/notebook.ipynb#ch0000021?line=102'>103</a>\u001b[0m \u001b[39m# core\u001b[39;00m\n\u001b[0;32m    <a href='vscode-notebook-cell:/c%3A/Users/pcle0002/Documents/repos/star-glass/src/star_glass/notebook.ipynb#ch0000021?line=103'>104</a>\u001b[0m lens_config[\u001b[39m\"\u001b[39m\u001b[39mheight\u001b[39m\u001b[39m\"\u001b[39m] \u001b[39m=\u001b[39m height \u001b[39m*\u001b[39m MICRON_TO_METRE\n",
      "File \u001b[1;32mc:\\Users\\pcle0002\\Miniconda3\\envs\\lens_sim\\lib\\site-packages\\magicgui\\widgets\\_bases\\container_widget.py:125\u001b[0m, in \u001b[0;36mContainerWidget.index\u001b[1;34m(self, value, start, stop)\u001b[0m\n\u001b[0;32m    123\u001b[0m \u001b[39mif\u001b[39;00m \u001b[39misinstance\u001b[39m(value, \u001b[39mstr\u001b[39m):\n\u001b[0;32m    124\u001b[0m     value \u001b[39m=\u001b[39m \u001b[39mgetattr\u001b[39m(\u001b[39mself\u001b[39m, value)\n\u001b[1;32m--> 125\u001b[0m \u001b[39mreturn\u001b[39;00m \u001b[39msuper\u001b[39;49m()\u001b[39m.\u001b[39;49mindex(value, start, stop)\n",
      "File \u001b[1;32mc:\\Users\\pcle0002\\Miniconda3\\envs\\lens_sim\\lib\\_collections_abc.py:911\u001b[0m, in \u001b[0;36mSequence.index\u001b[1;34m(self, value, start, stop)\u001b[0m\n\u001b[0;32m    909\u001b[0m         \u001b[39mbreak\u001b[39;00m\n\u001b[0;32m    910\u001b[0m     i \u001b[39m+\u001b[39m\u001b[39m=\u001b[39m \u001b[39m1\u001b[39m\n\u001b[1;32m--> 911\u001b[0m \u001b[39mraise\u001b[39;00m \u001b[39mValueError\u001b[39;00m\n",
      "\u001b[1;31mValueError\u001b[0m: "
     ]
    }
   ],
   "source": [
    "from magicgui.widgets import FunctionGui\n",
    "\n",
    "MICRON_TO_METRE = 1e-6\n",
    "METRE_TO_MICRON = 1e6\n",
    "\n",
    "config = utils.load_config(\"config.yaml\")\n",
    "lens_config = config[\"lenses\"][0]\n",
    "\n",
    "# core\n",
    "exponent = lens_config[\"exponent\"]\n",
    "diameter = lens_config[\"diameter\"] * METRE_TO_MICRON\n",
    "height = lens_config[\"height\"] * METRE_TO_MICRON\n",
    "length = lens_config[\"length\"] * METRE_TO_MICRON if lens_config[\"length\"] is not None else 0.0\n",
    "escape_path = lens_config[\"escape_path\"] if lens_config[\"escape_path\"] is not None else 0.0\n",
    "invert = lens_config[\"inverted\"]\n",
    "lens_type = LensType[lens_config[\"lens_type\"]]\n",
    "\n",
    "pprint(lens_config[\"lens_type\"])\n",
    "pprint(lens_type)\n",
    "\n",
    "# grating\n",
    "grating = True if lens_config[\"grating\"] is not None else False\n",
    "grating_width = lens_config[\"grating\"][\"width\"] * METRE_TO_MICRON\n",
    "grating_distance = lens_config[\"grating\"][\"distance\"] * METRE_TO_MICRON\n",
    "grating_depth = lens_config[\"grating\"][\"depth\"] * METRE_TO_MICRON\n",
    "grating_x = lens_config[\"grating\"][\"x\"]\n",
    "grating_y = lens_config[\"grating\"][\"y\"]\n",
    "grating_centred = lens_config[\"grating\"][\"centred\"]\n",
    "\n",
    "\n",
    "# truncation\n",
    "truncation = True if lens_config[\"truncation\"] is not None else False\n",
    "truncation_height =  lens_config[\"truncation\"][\"height\"] * METRE_TO_MICRON\n",
    "truncation_radius = lens_config[\"truncation\"][\"radius\"] * METRE_TO_MICRON\n",
    "truncation_type = lens_config[\"truncation\"][\"type\"] \n",
    "truncation_aperture = lens_config[\"truncation\"][\"aperture\"]\n",
    "\n",
    "# aperture\n",
    "aperture =  True if lens_config[\"aperture\"] is not None else False\n",
    "aperture_inner = lens_config[\"aperture\"][\"inner\"] * METRE_TO_MICRON\n",
    "aperture_outer = lens_config[\"aperture\"][\"outer\"] * METRE_TO_MICRON\n",
    "aperture_type = lens_config[\"aperture\"][\"type\"] \n",
    "aperture_invert = lens_config[\"aperture\"][\"invert\"] \n",
    "\n",
    "\n",
    "@magicgui(auto_call=True, call_button=\"Create Lens\", \n",
    "  truncation_type={\"choices\": [\"value\", \"radial\"]}, \n",
    "  aperture_type={\"choices\": [\"radial\", \"square\"]},\n",
    "  save_path={\"label\": \"Select a save path:\", \"filter\": \"*.yml, *.yaml\"},\n",
    "  load_path={\"label\": \"Select a load path:\"})\n",
    "def create_lens(\n",
    "    load_path: Path = \"config.yaml\",\n",
    "    exponent:float = exponent, diameter: float = diameter,\n",
    "    height: float =height,\n",
    "    length: float = length,\n",
    "    escape_path: float = escape_path, \n",
    "    lens_type: LensType = lens_type,\n",
    "    invert:bool = invert , \n",
    "    grating: bool = grating, \n",
    "    grating_width = grating_width, \n",
    "    grating_distance = grating_distance, \n",
    "    grating_depth = grating_depth, \n",
    "    grating_x = grating_x, grating_y = grating_y, grating_centred = grating_centred,\n",
    "    truncation: bool = truncation,\n",
    "    truncation_height = truncation_height, truncation_radius = truncation_radius, \n",
    "    truncation_type = truncation_type, truncation_aperture = truncation_aperture,\n",
    "    aperture: bool = aperture,\n",
    "    aperture_inner =  aperture_inner, aperture_outer = aperture_outer, \n",
    "    aperture_type = aperture_type, aperture_invert = aperture_invert,\n",
    "    pixel_size = 1.0,\n",
    "    \n",
    "    save_path: Path = \"\",\n",
    "\n",
    "    ) -> napari.types.LayerDataTuple:\n",
    "  \n",
    "  if load_path == \".\":\n",
    "    load_path = \"config.yaml\"\n",
    "\n",
    "  config = utils.load_config(load_path)\n",
    "  lens_config = config[\"lenses\"][0]\n",
    "\n",
    "\n",
    "  # set widgets?\n",
    "  # create_lens.height.bind() #.height = lens_config[\"height\"] * METRE_TO_MICRON\n",
    "  # FunctionGui.diameter = lens_config[\"diameter\"] * METRE_TO_MICRON\n",
    "  # create_lens. #exponent.bind(lens_config[\"exponent\"])\n",
    "\n",
    "  \n",
    "\n",
    "\n",
    "\n",
    "\n",
    "\n",
    "\n",
    "\n",
    "\n",
    "\n",
    "\n",
    "\n",
    "\n",
    "\n",
    "  # core\n",
    "  lens_config[\"height\"] = height * MICRON_TO_METRE\n",
    "  lens_config[\"diameter\"] = diameter * MICRON_TO_METRE\n",
    "  lens_config[\"exponent\"] = exponent\n",
    "  lens_config[\"inverted\"] = invert\n",
    "  lens_config[\"escape_path\"] = escape_path\n",
    "  lens_config[\"length\"] = length * MICRON_TO_METRE\n",
    "  lens_config[\"lens_type\"] = lens_type.name\n",
    "\n",
    "  # print(lens_config[\"lens_type\"])\n",
    "  \n",
    "  # grating\n",
    "  if grating:\n",
    "    lens_config[\"grating\"] = {}\n",
    "    lens_config[\"grating\"][\"width\"] = grating_width * MICRON_TO_METRE\n",
    "    lens_config[\"grating\"][\"distance\"] = grating_distance * MICRON_TO_METRE\n",
    "    lens_config[\"grating\"][\"depth\"] = grating_depth * MICRON_TO_METRE\n",
    "    lens_config[\"grating\"][\"x\"] = grating_x \n",
    "    lens_config[\"grating\"][\"y\"] = grating_y \n",
    "    lens_config[\"grating\"][\"centred\"] = grating_centred \n",
    "  else:\n",
    "    lens_config[\"grating\"] = None\n",
    "  \n",
    "  # truncation\n",
    "  if truncation:\n",
    "    lens_config[\"truncation\"] = {}\n",
    "    lens_config[\"truncation\"][\"height\"] = truncation_height * MICRON_TO_METRE\n",
    "    lens_config[\"truncation\"][\"radius\"] = truncation_radius * MICRON_TO_METRE\n",
    "    lens_config[\"truncation\"][\"type\"] = truncation_type \n",
    "    lens_config[\"truncation\"][\"aperture\"] = truncation_aperture\n",
    "  else:\n",
    "    lens_config[\"truncation\"] = None\n",
    "  \n",
    "  # aperture\n",
    "  if aperture:\n",
    "      lens_config[\"aperture\"] = {}\n",
    "      lens_config[\"aperture\"][\"inner\"] = aperture_inner * MICRON_TO_METRE\n",
    "      lens_config[\"aperture\"][\"outer\"] = aperture_outer * MICRON_TO_METRE\n",
    "      lens_config[\"aperture\"][\"type\"] = aperture_type \n",
    "      lens_config[\"aperture\"][\"invert\"] = aperture_invert\n",
    "  else:\n",
    "    lens_config[\"aperture\"] = None\n",
    "\n",
    "  lens = generate_lens(lens_config, Medium(2.348), pixel_size*MICRON_TO_METRE)\n",
    "\n",
    "  arr3d = plotting.create_3d_lens(lens)\n",
    "\n",
    "  return [(arr3d, {\"name\": \"Lens\", \"colormap\": \"gray\", \"rendering\": \"iso\", \"depiction\": \"volume\"}),\n",
    "          (lens.aperture, {\"name\": \"Lens Aperture\", \"opacity\": 0.4, \"colormap\": \"yellow\", \"rendering\": \"translucent\"}, \"image\"),\n",
    "          (lens.grating_mask, {\"name\": \"Lens Grating Mask\", \"opacity\": 0.4, \"colormap\": \"green\", \"rendering\": \"translucent\"}, \"image\"),\n",
    "          (lens.truncation_mask, {\"name\": \"Lens Truncation Mask\", \"opacity\": 0.4, \"colormap\": \"cyan\", \"rendering\": \"translucent\"}, \"image\")]\n",
    "\n",
    "\n",
    "# TODO: \n",
    "# load config\n",
    "# load custom\n",
    "# save lens\n",
    "# name\n",
    "# lens_type\n",
    "\n",
    "viewer = napari.Viewer(ndisplay=3)\n",
    "viewer.axes.visible = True\n",
    "viewer.axes.colored = False\n",
    "viewer.axes.dashed = True\n",
    "viewer.axes.labels = True\n",
    "viewer.scale_bar.visible = True\n",
    "viewer.window.add_dock_widget(create_lens)\n",
    "create_lens()\n"
   ]
  },
  {
   "cell_type": "code",
   "execution_count": null,
   "metadata": {},
   "outputs": [],
   "source": []
  },
  {
   "cell_type": "code",
   "execution_count": 6,
   "metadata": {},
   "outputs": [
    {
     "name": "stderr",
     "output_type": "stream",
     "text": [
      "c:\\Users\\pcle0002\\Miniconda3\\envs\\lens_sim\\lib\\site-packages\\napari_tools_menu\\__init__.py:179: FutureWarning: Public access to Window.qt_viewer is deprecated and will be removed in\n",
      "v0.5.0. It is considered an \"implementation detail\" of the napari\n",
      "application, not part of the napari viewer model. If your use case\n",
      "requires access to qt_viewer, please open an issue to discuss.\n",
      "  self.tools_menu = ToolsMenu(self, self.qt_viewer.viewer)\n"
     ]
    },
    {
     "data": {
      "text/plain": [
       "[(dask.array<gt, shape=(110, 2001, 2001), dtype=bool, chunksize=(7, 251, 251), chunktype=numpy.ndarray>,\n",
       "  {'name': 'active-shark',\n",
       "   'colormap': 'turbo',\n",
       "   'rendering': 'average',\n",
       "   'scale': [1, 0.01, 0.01]})]"
      ]
     },
     "execution_count": 6,
     "metadata": {},
     "output_type": "execute_result"
    }
   ],
   "source": [
    "\n",
    "@magicgui(auto_call=False, call_button=\"View Results\", \n",
    "  load_path={\"label\": \"Select a simulation path:\", \"mode\": \"d\" },\n",
    "  threshold={\"max\": 1e20})\n",
    "def view_results(load_path: Path = r\"C:\\Users\\pcle0002\\Documents\\repos\\star-glass\\src\\star_glass\\example\\tutorial_simulation_results/active-shark\", \n",
    "  log_plot: bool = False, threshold: float = 0.1, scale_dim:float = 0.01) -> napari.types.LayerDataTuple:\n",
    "\n",
    "  sim_name = os.path.basename(load_path)\n",
    "\n",
    "  sim = plotting.load_full_sim_propagation_v3(load_path)\n",
    "\n",
    "  if log_plot:\n",
    "    sim = np.log(sim + 1e-12)\n",
    "\n",
    "  sim = sim>threshold\n",
    " \n",
    "  return [\n",
    "    (sim, {\"name\": sim_name, \"colormap\": \"turbo\", \"rendering\": \"average\", \"scale\": [1, scale_dim, scale_dim]}),\n",
    "  ]\n",
    "\n",
    "viewer = napari.Viewer(ndisplay=3)\n",
    "viewer.axes.visible = True\n",
    "viewer.axes.dashed = True\n",
    "viewer.axes.labels = True\n",
    "viewer.axes.colored = False\n",
    "viewer.scale_bar.visible = True\n",
    "viewer.window.add_dock_widget(view_results)\n",
    "\n",
    "path = r\"C:\\Users\\pcle0002\\Documents\\repos\\star-glass\\src\\star_glass\\example\\tutorial_simulation_results/active-shark\"\n",
    "view_results(path)\n",
    "\n",
    "\n",
    "\n",
    "# https://github.com/napari/magicgui/issues/20"
   ]
  },
  {
   "cell_type": "code",
   "execution_count": 7,
   "metadata": {},
   "outputs": [],
   "source": []
  },
  {
   "cell_type": "code",
   "execution_count": 4,
   "metadata": {},
   "outputs": [
    {
     "name": "stderr",
     "output_type": "stream",
     "text": [
      "c:\\Users\\pcle0002\\Miniconda3\\envs\\lens_sim\\lib\\site-packages\\napari_tools_menu\\__init__.py:179: FutureWarning: Public access to Window.qt_viewer is deprecated and will be removed in\n",
      "v0.5.0. It is considered an \"implementation detail\" of the napari\n",
      "application, not part of the napari viewer model. If your use case\n",
      "requires access to qt_viewer, please open an issue to discuss.\n",
      "  self.tools_menu = ToolsMenu(self, self.qt_viewer.viewer)\n"
     ]
    }
   ],
   "source": [
    "\"\"\"\n",
    "Napari provides a few conveniences with magicgui, and one of the\n",
    "most commonly used is the layer combo box that gets created when\n",
    "a parameter is annotated as napari.layers.Layer.\n",
    "The layer box will stay in sync with the viewer model, adding and\n",
    "removing layers as needed.\n",
    "This example shows how to use just that widget in the context\n",
    "of a larger custom QWidget.\n",
    "\"\"\"\n",
    "import napari\n",
    "from qtpy.QtWidgets import QVBoxLayout, QWidget\n",
    "\n",
    "from magicgui.widgets import create_widget\n",
    "\n",
    "\n",
    "class CustomWidget(QWidget):\n",
    "    def __init__(self) -> None:\n",
    "        super().__init__()\n",
    "        self.setLayout(QVBoxLayout())\n",
    "        # change annotation to napari.layers.Image (e.g) to restrict to just Images\n",
    "        self._layer_combo = create_widget(annotation=napari.layers.Layer)\n",
    "        # magicgui widgets hold the Qt widget at `widget.native`\n",
    "        self.layout().addWidget(self._layer_combo.native)\n",
    "\n",
    "\n",
    "viewer = napari.Viewer()\n",
    "viewer.add_points()\n",
    "viewer.add_points()\n",
    "\n",
    "my_widget = CustomWidget()\n",
    "viewer.window.add_dock_widget(my_widget)\n",
    "\n",
    "my_widget1 = CustomWidget()\n",
    "viewer.window.add_dock_widget(my_widget1, name=\"my_widget\")\n",
    "# when my_widget is a magicgui.Widget, it will detect that it has been added\n",
    "# to a viewer, and automatically update the choices.  Otherwise, you need to\n",
    "# trigger this yourself:\n",
    "my_widget._layer_combo.reset_choices()\n",
    "viewer.layers.events.inserted.connect(my_widget._layer_combo.reset_choices)\n",
    "viewer.layers.events.removed.connect(my_widget._layer_combo.reset_choices)\n",
    "\n",
    "my_widget1._layer_combo.reset_choices()\n",
    "viewer.layers.events.inserted.connect(my_widget1._layer_combo.reset_choices)\n",
    "viewer.layers.events.removed.connect(my_widget1._layer_combo.reset_choices)\n",
    "\n",
    "napari.run()"
   ]
  },
  {
   "cell_type": "code",
   "execution_count": 10,
   "metadata": {},
   "outputs": [
    {
     "name": "stderr",
     "output_type": "stream",
     "text": [
      "c:\\users\\pcle0002\\documents\\repos\\star-glass\\src\\star_glass\\ui\\LensCreator.py:453: SyntaxWarning: \"is\" with a literal. Did you mean \"==\"?\n",
      "  if filename is \"\":\n"
     ]
    },
    {
     "name": "stdout",
     "output_type": "stream",
     "text": [
      "The autoreload extension is already loaded. To reload it, use:\n",
      "  %reload_ext autoreload\n",
      "0.0 10.0\n"
     ]
    },
    {
     "name": "stderr",
     "output_type": "stream",
     "text": [
      "c:\\Users\\pcle0002\\Miniconda3\\envs\\lens_sim\\lib\\site-packages\\napari_tools_menu\\__init__.py:179: FutureWarning: Public access to Window.qt_viewer is deprecated and will be removed in\n",
      "v0.5.0. It is considered an \"implementation detail\" of the napari\n",
      "application, not part of the napari viewer model. If your use case\n",
      "requires access to qt_viewer, please open an issue to discuss.\n",
      "  self.tools_menu = ToolsMenu(self, self.qt_viewer.viewer)\n",
      "WARNING: QMainWindowLayout::count: ?\n"
     ]
    },
    {
     "data": {
      "image/png": "[encoded data removed]",
      "text/plain": [
       "<Figure size 432x288 with 2 Axes>"
      ]
     },
     "metadata": {},
     "output_type": "display_data"
    },
    {
     "data": {
      "image/png": "[encoded data removed]",
      "text/plain": [
       "<Figure size 432x288 with 2 Axes>"
      ]
     },
     "metadata": {},
     "output_type": "display_data"
    },
    {
     "data": {
      "image/png": "[encoded data removed]",
      "text/plain": [
       "<Figure size 432x288 with 1 Axes>"
      ]
     },
     "metadata": {},
     "output_type": "display_data"
    },
    {
     "data": {
      "image/png": "[encoded data removed]",
      "text/plain": [
       "<Figure size 432x288 with 1 Axes>"
      ]
     },
     "metadata": {},
     "output_type": "display_data"
    }
   ],
   "source": [
    "%load_ext autoreload \n",
    "%autoreload 2\n",
    "import sys\n",
    "\n",
    "import napari\n",
    "\n",
    "import star_glass.ui.qtdesigner_files.LensSimulation as LensSimulation\n",
    "from star_glass.ui.BeamCreator import GUIBeamCreator\n",
    "from star_glass.ui.LensCreator import GUILensCreator\n",
    "from star_glass.ui.SimulationRun import GUISimulationRun\n",
    "from star_glass.ui.SimulationSetup import GUISimulationSetup\n",
    "from star_glass.ui.VisualiseResults import GUIVisualiseResults\n",
    "from PyQt5 import QtWidgets\n",
    "lens_creator = GUILensCreator()\n",
    "\n",
    "viewer = napari.Viewer(ndisplay=3)\n",
    "viewer.window.add_dock_widget(lens_creator)\n",
    "\n",
    "napari.run()"
   ]
  },
  {
   "cell_type": "code",
   "execution_count": 36,
   "metadata": {},
   "outputs": [
    {
     "data": {
      "image/png": "[encoded data removed]",
      "text/plain": [
       "<FunctionGui function(width=400, x: int = 50)>"
      ]
     },
     "execution_count": 36,
     "metadata": {},
     "output_type": "execute_result"
    }
   ],
   "source": [
    "from magicgui import magicgui\n",
    "\n",
    "\n",
    "@magicgui(auto_call=True, width={\"max\": 800, \"min\": 100}, x={\"widget_type\": \"Slider\"})\n",
    "def function(width=400, x: int = 50):\n",
    "    # the widget can reference itself, and use the widget API\n",
    "    function.x.width = width\n",
    "\n",
    "\n",
    "function.show(run=True)"
   ]
  },
  {
   "cell_type": "code",
   "execution_count": 41,
   "metadata": {},
   "outputs": [
    {
     "name": "stdout",
     "output_type": "stream",
     "text": [
      "{'age': 0, 'name': '1'}\n"
     ]
    }
   ],
   "source": [
    "from magicgui.widgets import request_values\n",
    "\n",
    "vals = request_values(\n",
    "    age=int,\n",
    "    name=dict(annotation=str, label=\"Enter your name:\"),\n",
    "    title=\"Hi, who are you?\",\n",
    ")\n",
    "print(repr(vals))"
   ]
  },
  {
   "cell_type": "code",
   "execution_count": null,
   "metadata": {},
   "outputs": [],
   "source": []
  }
 ],
 "metadata": {
  "interpreter": {
   "hash": "e02cff3bbd039842ce3f743c0fb602c20a11e2fd1dd75e38e8f89ff88823b7b6"
  },
  "kernelspec": {
   "display_name": "Python 3.8.13 ('lens_sim')",
   "language": "python",
   "name": "python3"
  },
  "language_info": {
   "codemirror_mode": {
    "name": "ipython",
    "version": 3
   },
   "file_extension": ".py",
   "mimetype": "text/x-python",
   "name": "python",
   "nbconvert_exporter": "python",
   "pygments_lexer": "ipython3",
   "version": "3.8.13"
  },
  "orig_nbformat": 4
 },
 "nbformat": 4,
 "nbformat_minor": 2
}
