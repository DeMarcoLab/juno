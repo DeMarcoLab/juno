{
 "cells": [
  {
   "cell_type": "markdown",
   "metadata": {},
   "source": [
    "# Imports\n"
   ]
  },
  {
   "cell_type": "code",
   "execution_count": 2,
   "metadata": {},
   "outputs": [],
   "source": [
    "%load_ext autoreload\n",
    "%autoreload 2\n",
    "import matplotlib.pyplot as plt\n",
    "import numpy as np\n",
    "from lens_simulation import Lens, Simulation\n",
    "from scipy import fftpack"
   ]
  },
  {
   "cell_type": "markdown",
   "metadata": {},
   "source": [
    "## Constants"
   ]
  },
  {
   "cell_type": "code",
   "execution_count": 157,
   "metadata": {},
   "outputs": [],
   "source": [
    "\n",
    "amplitude = 10000\n",
    "sim_width = 5\n",
    "pixel_size = 1e-3\n",
    "n_slices = 1000\n",
    "\n",
    "lens = Lens.Lens(\n",
    "    diameter=sim_width,\n",
    "    height=3,\n",
    "    exponent=0.5,\n",
    "    medium=Lens.Medium(2.348)\n",
    ")\n",
    "\n",
    "lens = Lens.Lens(diameter=5, height=3, exponent=0.5, medium=Lens.Medium(2.348))"
   ]
  },
  {
   "cell_type": "code",
   "execution_count": 198,
   "metadata": {},
   "outputs": [
    {
     "data": {
      "image/png": "[encoded data removed]",
      "text/plain": [
       "<Figure size 432x288 with 2 Axes>"
      ]
     },
     "metadata": {
      "needs_background": "light"
     },
     "output_type": "display_data"
    },
    {
     "data": {
      "image/png": "[encoded data removed]",
      "text/plain": [
       "<Figure size 432x288 with 2 Axes>"
      ]
     },
     "metadata": {
      "needs_background": "light"
     },
     "output_type": "display_data"
    }
   ],
   "source": [
    "z_step = 0.1\n",
    "# z_step = 2\n",
    "rounding = 0\n",
    "medium = Lens.Medium(1.5)\n",
    "\n",
    "profile = lens.generate_profile(pixel_size)\n",
    "interped_profile, phase_diff_profile = Simulation.generate_discrete_profile(profile, z_step, rounding, lens.medium, medium) \n",
    "\n",
    "plt.imshow(interped_profile, aspect='auto', interpolation='none', cmap='Blues')\n",
    "plt.colorbar()\n",
    "plt.show()\n",
    "\n",
    "plt.imshow(phase_diff_profile, aspect='auto', interpolation='none', cmap='Blues')\n",
    "plt.colorbar()\n",
    "plt.show()"
   ]
  },
  {
   "cell_type": "code",
   "execution_count": 150,
   "metadata": {},
   "outputs": [
    {
     "name": "stdout",
     "output_type": "stream",
     "text": [
      "True\n",
      "False\n",
      "True\n"
     ]
    }
   ],
   "source": [
    "print(np.isclose(0., 1, rtol=1))\n",
    "print(np.isclose(0., 1, rtol=0.99))\n",
    "print(np.isclose(0.01, 1, rtol=0.99))\n"
   ]
  },
  {
   "cell_type": "code",
   "execution_count": null,
   "metadata": {},
   "outputs": [],
   "source": [
    "profile = lens.generate_profile(pixel_size)\n",
    "\n",
    "\n",
    "# pixels size is defined by the sim\n",
    "# define a simulation width (includes padding)\n",
    "# TODO: minimum padding?\n",
    "# escape path: 10%\n",
    "# padding: 30%\n",
    "# pad the sides of the profile to match the sim width\n",
    "\n",
    "centre_px = (len(profile) - 1) // 2 \n",
    "print(\"CENTRE_PX: \", centre_px)\n",
    "\n",
    "medium = Lens.Medium(refractive_index=1.0)\n",
    "\n",
    "print(\"n_pixels_in_sim: \", len(profile), \" pixel_size: \", pixel_size)\n",
    "\n",
    "freq_array = Simulation.generate_squared_frequency_array(n_pixels=len(profile), pixel_size=pixel_size)\n",
    "\n",
    "dfp = generate_profile()\n",
    "\n",
    "for lens in simulation():\n",
    "    for current_slice, previous_wavefront in lens():\n",
    "        \n",
    "        # phase = A * delta \n",
    "        # delta = (lens.medium.refractive_index - medium.refractive_index) * profile\n",
    "        delta = dfp[i] * profile_height[i]\n",
    "        phase = (2 * np.pi * delta / medium.wavelength_medium ) % (2 * np.pi)\n",
    "        wavefront = A * np.exp(1j*phase)\n",
    "\n",
    "        # current_wavefront = B * phase\n",
    "\n",
    "        \n",
    "        current_wavefront = fft(wavefront)\n",
    "        wavefront = current_wavefront * previous_wavefront\n",
    "\n",
    "        z = lens.step_size_z\n",
    "        prop = np.exp(1j * medium.wave_number * z)  * np.exp( (-1j * 2 * np.pi ** 2 * z * freq_array) / medium.wave_number)\n",
    "        propagation = fftpack.ifft(prop * wavefront)\n",
    "        output = np.sqrt(propagation.real**2 + propagation.imag**2)\n",
    "        sim[i] = output\n",
    "        # pass the propagation through as the previous wavefront\n",
    "        # previous slice index profile \n",
    "\n",
    "\n",
    "    # having grabbed the last wavefront from the lens:\n",
    "    wavefront = fftpack.fft(wavefront)\n",
    "\n",
    "    sim = np.ones(shape=(n_slices, len(profile)))\n",
    "    # distances defined from the previous lens \n",
    "    # define entire array to calculate faster on GPU\n",
    "    # check here for GPU, CPU options ?\n",
    "    distances = np.linspace(start_distance, finish_distance, n_slices)\n",
    "    for i, z in enumerate(distances):\n",
    "        \n",
    "        prop = np.exp(1j * medium.wave_number * z)  * np.exp( (-1j * 2 * np.pi ** 2 * z * freq_array) / medium.wave_number)\n",
    "        # print(\"prop shape: \", prop.shape)\n",
    "        propagation = fftpack.ifft(prop * wavefront)\n",
    "\n",
    "        output = np.sqrt(propagation.real**2 + propagation.imag**2)\n",
    "\n",
    "        sim[i] = output\n",
    "\n"
   ]
  },
  {
   "cell_type": "markdown",
   "metadata": {},
   "source": [
    "## VISUALISATION\n"
   ]
  },
  {
   "cell_type": "code",
   "execution_count": null,
   "metadata": {},
   "outputs": [],
   "source": [
    "    print(\"Prop Size: \", len(prop))\n",
    "\n",
    "    print(lens)\n",
    "    print(medium)\n",
    "\n",
    "    fig, ax = plt.subplots(3, 1, figsize=(15,15))\n",
    "\n",
    "    ax[0].plot(profile)\n",
    "    ax[0].set_title(\"PROFILE\")\n",
    "\n",
    "    ax[1].plot(phase)\n",
    "    ax[1].set_title(\"PHASE\")\n",
    "\n",
    "    # print(sim.shape)\n",
    "    ax[2].set_title(\"SIM\")\n",
    "    low, high = sim.shape[1] //2 - 1000, sim.shape[1] //2 + 1000 \n",
    "    # print(low, high)\n",
    "    ax[2].imshow(sim[:, low:high+1],  aspect=\"auto\")\n",
    "\n",
    "    plt.show()\n"
   ]
  }
 ],
 "metadata": {
  "interpreter": {
   "hash": "9c059ec6bcfa5754e4bdc7a0641d1daa6023a22a449748e5dc7cf77ba0018324"
  },
  "kernelspec": {
   "display_name": "Python 3.7.12 64-bit ('lens_sim': conda)",
   "language": "python",
   "name": "python3"
  },
  "language_info": {
   "codemirror_mode": {
    "name": "ipython",
    "version": 3
   },
   "file_extension": ".py",
   "mimetype": "text/x-python",
   "name": "python",
   "nbconvert_exporter": "python",
   "pygments_lexer": "ipython3",
   "version": "3.7.11"
  },
  "orig_nbformat": 4
 },
 "nbformat": 4,
 "nbformat_minor": 2
}
