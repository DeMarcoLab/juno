{
 "cells": [
  {
   "cell_type": "markdown",
   "metadata": {},
   "source": [
    "# Imports\n"
   ]
  },
  {
   "cell_type": "code",
   "execution_count": 64,
   "metadata": {},
   "outputs": [
    {
     "name": "stdout",
     "output_type": "stream",
     "text": [
      "The autoreload extension is already loaded. To reload it, use:\n",
      "  %reload_ext autoreload\n"
     ]
    }
   ],
   "source": [
    "%load_ext autoreload\n",
    "%autoreload 2\n",
    "import matplotlib.pyplot as plt\n",
    "import numpy as np\n",
    "from lens_simulation import Lens, Simulation\n",
    "from scipy import fftpack"
   ]
  },
  {
   "cell_type": "markdown",
   "metadata": {},
   "source": [
    "## Constants"
   ]
  },
  {
   "cell_type": "code",
   "execution_count": 65,
   "metadata": {},
   "outputs": [],
   "source": [
    "\n",
    "amplitude = 10000\n",
    "sim_width = 4500e-6\n",
    "pixel_size = 1e-6 \n",
    "n_slices = 100\n",
    "\n",
    "lens_2 = Lens.Lens(\n",
    "    diameter=sim_width,\n",
    "    height=3,\n",
    "    exponent=1.0,\n",
    "    medium=Lens.Medium(2.348)\n",
    ")\n",
    "\n",
    "lens = Lens.Lens(diameter=5, height=3, exponent=2.0, medium=Lens.Medium(2.348))"
   ]
  },
  {
   "cell_type": "code",
   "execution_count": null,
   "metadata": {},
   "outputs": [
    {
     "ename": "MemoryError",
     "evalue": "Unable to allocate 11.2 GiB for an array with shape (301, 5000001) and data type float64",
     "output_type": "error",
     "traceback": [
      "\u001b[1;31m---------------------------------------------------------------------------\u001b[0m",
      "\u001b[1;31mMemoryError\u001b[0m                               Traceback (most recent call last)",
      "\u001b[1;32mC:\\Users\\DAVIDD~1\\AppData\\Local\\Temp/ipykernel_21796/1465177739.py\u001b[0m in \u001b[0;36m<module>\u001b[1;34m\u001b[0m\n\u001b[0;32m      8\u001b[0m \u001b[1;33m\u001b[0m\u001b[0m\n\u001b[0;32m      9\u001b[0m phase_diff_profile = Simulation.generate_differential_refractive_index_profile(\n\u001b[1;32m---> 10\u001b[1;33m     \u001b[0mlens\u001b[0m\u001b[1;33m=\u001b[0m\u001b[0mlens\u001b[0m\u001b[1;33m,\u001b[0m \u001b[0mz_resolution\u001b[0m\u001b[1;33m=\u001b[0m\u001b[0mz_step\u001b[0m\u001b[1;33m,\u001b[0m \u001b[0mprevious_slice\u001b[0m\u001b[1;33m=\u001b[0m\u001b[0mlen\u001b[0m\u001b[1;33m(\u001b[0m\u001b[0mlens\u001b[0m\u001b[1;33m.\u001b[0m\u001b[0mprofile\u001b[0m\u001b[1;33m)\u001b[0m \u001b[1;33m*\u001b[0m \u001b[1;33m[\u001b[0m\u001b[1;36m1.33\u001b[0m\u001b[1;33m]\u001b[0m\u001b[1;33m,\u001b[0m \u001b[0moutput_medium\u001b[0m\u001b[1;33m=\u001b[0m\u001b[0mmedium\u001b[0m\u001b[1;33m,\u001b[0m \u001b[0mpixel_size\u001b[0m\u001b[1;33m=\u001b[0m\u001b[0mpixel_size\u001b[0m\u001b[1;33m\u001b[0m\u001b[1;33m\u001b[0m\u001b[0m\n\u001b[0m\u001b[0;32m     11\u001b[0m )\n\u001b[0;32m     12\u001b[0m \u001b[1;33m\u001b[0m\u001b[0m\n",
      "\u001b[1;32mc:\\users\\david  dierickx\\github\\lens_simulation\\src\\lens_simulation\\Simulation.py\u001b[0m in \u001b[0;36mgenerate_differential_refractive_index_profile\u001b[1;34m(lens, z_resolution, previous_slice, output_medium, pixel_size, rounding)\u001b[0m\n\u001b[0;32m    131\u001b[0m         \u001b[0mz_resolution\u001b[0m\u001b[1;33m=\u001b[0m\u001b[0mz_resolution\u001b[0m\u001b[1;33m,\u001b[0m\u001b[1;33m\u001b[0m\u001b[1;33m\u001b[0m\u001b[0m\n\u001b[0;32m    132\u001b[0m         \u001b[0moutput_medium\u001b[0m\u001b[1;33m=\u001b[0m\u001b[0moutput_medium\u001b[0m\u001b[1;33m,\u001b[0m\u001b[1;33m\u001b[0m\u001b[1;33m\u001b[0m\u001b[0m\n\u001b[1;32m--> 133\u001b[1;33m         \u001b[0mrounding\u001b[0m\u001b[1;33m=\u001b[0m\u001b[0mrounding\u001b[0m\u001b[1;33m,\u001b[0m\u001b[1;33m\u001b[0m\u001b[1;33m\u001b[0m\u001b[0m\n\u001b[0m\u001b[0;32m    134\u001b[0m     )\n\u001b[0;32m    135\u001b[0m \u001b[1;33m\u001b[0m\u001b[0m\n",
      "\u001b[1;32mc:\\users\\david  dierickx\\github\\lens_simulation\\src\\lens_simulation\\Simulation.py\u001b[0m in \u001b[0;36mgenerate_discrete_profile\u001b[1;34m(lens, z_resolution, output_medium, rounding)\u001b[0m\n\u001b[0;32m    177\u001b[0m     \u001b[0mn_steps\u001b[0m \u001b[1;33m=\u001b[0m \u001b[0mint\u001b[0m\u001b[1;33m(\u001b[0m\u001b[0mnp\u001b[0m\u001b[1;33m.\u001b[0m\u001b[0mceil\u001b[0m\u001b[1;33m(\u001b[0m\u001b[0mmax\u001b[0m\u001b[1;33m(\u001b[0m\u001b[0mlens\u001b[0m\u001b[1;33m.\u001b[0m\u001b[0mprofile\u001b[0m\u001b[1;33m)\u001b[0m \u001b[1;33m/\u001b[0m \u001b[0mz_resolution\u001b[0m\u001b[1;33m)\u001b[0m\u001b[1;33m)\u001b[0m\u001b[1;33m\u001b[0m\u001b[1;33m\u001b[0m\u001b[0m\n\u001b[0;32m    178\u001b[0m     \u001b[1;31m# set up empty arrays for new profile\u001b[0m\u001b[1;33m\u001b[0m\u001b[1;33m\u001b[0m\u001b[1;33m\u001b[0m\u001b[0m\n\u001b[1;32m--> 179\u001b[1;33m     \u001b[0mdiscrete_profile\u001b[0m \u001b[1;33m=\u001b[0m \u001b[0mnp\u001b[0m\u001b[1;33m.\u001b[0m\u001b[0mzeros\u001b[0m\u001b[1;33m(\u001b[0m\u001b[0mshape\u001b[0m\u001b[1;33m=\u001b[0m\u001b[1;33m(\u001b[0m\u001b[0mn_steps\u001b[0m \u001b[1;33m+\u001b[0m \u001b[1;36m1\u001b[0m\u001b[1;33m,\u001b[0m \u001b[0mlen\u001b[0m\u001b[1;33m(\u001b[0m\u001b[0mlens\u001b[0m\u001b[1;33m.\u001b[0m\u001b[0mprofile\u001b[0m\u001b[1;33m)\u001b[0m\u001b[1;33m)\u001b[0m\u001b[1;33m)\u001b[0m\u001b[1;33m\u001b[0m\u001b[1;33m\u001b[0m\u001b[0m\n\u001b[0m\u001b[0;32m    180\u001b[0m \u001b[1;33m\u001b[0m\u001b[0m\n\u001b[0;32m    181\u001b[0m     \u001b[1;31m# interpolate the values of the lens between 0 and n_steps\u001b[0m\u001b[1;33m\u001b[0m\u001b[1;33m\u001b[0m\u001b[1;33m\u001b[0m\u001b[0m\n",
      "\u001b[1;31mMemoryError\u001b[0m: Unable to allocate 11.2 GiB for an array with shape (301, 5000001) and data type float64"
     ]
    }
   ],
   "source": [
    "z_step = 0.2\n",
    "# z_step = 0.1\n",
    "rounding = 0\n",
    "medium = Lens.Medium(1.5)\n",
    "lens.generate_profile(pixel_size=pixel_size)\n",
    "# plt.plot(lens.profile)\n",
    "# plt.show()\n",
    "\n",
    "phase_diff_profile = Simulation.generate_differential_refractive_index_profile(\n",
    "    lens=lens, z_resolution=z_step, previous_slice=len(lens.profile) * [1.33], output_medium=medium, pixel_size=pixel_size\n",
    ")\n",
    "\n",
    "size = 4\n",
    "\n",
    "plt.figure(figsize=(size, size))\n",
    "plt.imshow(phase_diff_profile, aspect=\"auto\", interpolation=\"none\", cmap=\"Blues\")\n",
    "plt.colorbar()\n",
    "plt.show()"
   ]
  },
  {
   "cell_type": "code",
   "execution_count": null,
   "metadata": {},
   "outputs": [
    {
     "name": "stderr",
     "output_type": "stream",
     "text": [
      "c:\\Users\\David  Dierickx\\.conda\\envs\\lens_simulation\\lib\\site-packages\\ipykernel_launcher.py:21: ComplexWarning: Casting complex values to real discards the imaginary part\n"
     ]
    },
    {
     "data": {
      "image/png": "[encoded data removed]",
      "text/plain": [
       "<Figure size 432x288 with 1 Axes>"
      ]
     },
     "metadata": {
      "needs_background": "light"
     },
     "output_type": "display_data"
    },
    {
     "data": {
      "image/png": "[encoded data removed]",
      "text/plain": [
       "<Figure size 432x288 with 1 Axes>"
      ]
     },
     "metadata": {
      "needs_background": "light"
     },
     "output_type": "display_data"
    }
   ],
   "source": [
    "\n",
    "freq_array = Simulation.generate_squared_frequency_array(n_pixels=len(lens.profile), pixel_size=pixel_size)\n",
    "\n",
    "wavefronts = np.zeros(shape=phase_diff_profile.shape)\n",
    "outputs = np.zeros(shape=phase_diff_profile.shape)\n",
    "\n",
    "\n",
    "for i, slice in enumerate(phase_diff_profile):\n",
    "    delta = slice * z_step\n",
    "    phase = (2 * np.pi * delta / medium.wavelength_medium ) % (2 * np.pi)\n",
    "\n",
    "    if i is 1:\n",
    "        wavefront = 10000 * np.exp(1j*phase)\n",
    "    else:\n",
    "        current_wavefront = 1 * np.exp(1j * phase)\n",
    "        wavefront = current_wavefront * wavefronts[i-1]\n",
    "\n",
    "    propagator = np.exp(1j * medium.wave_number * z_step * (i+1))  * np.exp( (-1j * 2 * np.pi ** 2 * (z_step * (i+1)) * freq_array) / medium.wave_number)\n",
    "    propagation = fftpack.ifft(propagator * wavefront)\n",
    "\n",
    "    output = np.sqrt(propagation.real**2 + propagation.imag**2)\n",
    "    wavefronts[i] = propagation\n",
    "    outputs[i] = output\n",
    "\n",
    "plt.imshow(outputs, aspect='auto')\n",
    "plt.show()\n",
    "\n",
    "sim = np.ones(shape=(n_slices, len(lens.profile)))\n",
    "\n",
    "equivalent_focal_distance = Simulation.calculate_equivalent_focal_distance(lens, medium)\n",
    "start_distance = 0.8 * equivalent_focal_distance  # 25e-3\n",
    "finish_distance = 1.2 * equivalent_focal_distance  # 28e-3\n",
    "\n",
    "distances = np.linspace(start_distance, finish_distance, n_slices)\n",
    "for i, z in enumerate(distances):\n",
    "    wavefront = fftpack.fft(wavefronts[-1])\n",
    "    prop = np.exp(1j * medium.wave_number * z)  * np.exp( (-1j * 2 * np.pi ** 2 * z * freq_array) / medium.wave_number)\n",
    "    # print(\"prop shape: \", prop.shape)\n",
    "    propagation = fftpack.ifft(prop * wavefront)\n",
    "\n",
    "    output = np.sqrt(propagation.real**2 + propagation.imag**2)\n",
    "\n",
    "    sim[i] = output\n",
    "    # print(f'Slice: {i} complete')\n",
    "\n",
    "plt.imshow(sim, aspect='auto')\n",
    "plt.show()\n"
   ]
  },
  {
   "cell_type": "code",
   "execution_count": null,
   "metadata": {},
   "outputs": [],
   "source": []
  }
 ],
 "metadata": {
  "interpreter": {
   "hash": "9c059ec6bcfa5754e4bdc7a0641d1daa6023a22a449748e5dc7cf77ba0018324"
  },
  "kernelspec": {
   "display_name": "Python 3.7.12 64-bit ('lens_sim': conda)",
   "language": "python",
   "name": "python3"
  },
  "language_info": {
   "codemirror_mode": {
    "name": "ipython",
    "version": 3
   },
   "file_extension": ".py",
   "mimetype": "text/x-python",
   "name": "python",
   "nbconvert_exporter": "python",
   "pygments_lexer": "ipython3",
   "version": "3.7.11"
  },
  "orig_nbformat": 4
 },
 "nbformat": 4,
 "nbformat_minor": 2
}
