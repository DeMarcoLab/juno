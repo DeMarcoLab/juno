{
 "cells": [
  {
   "cell_type": "code",
   "execution_count": 29,
   "metadata": {},
   "outputs": [
    {
     "name": "stdout",
     "output_type": "stream",
     "text": [
      "The autoreload extension is already loaded. To reload it, use:\n",
      "  %reload_ext autoreload\n"
     ]
    }
   ],
   "source": [
    "%load_ext autoreload\n",
    "%autoreload 2\n",
    "import matplotlib.pyplot as plt\n",
    "\n",
    "from lens_simulation import utils\n",
    "from lens_simulation.SimulationUtils import SimulationParameters\n",
    "from lens_simulation.Medium import Medium\n",
    "from lens_simulation.Lens import Lens, LensType\n",
    "from lens_simulation.beam import Beam, BeamSettings, BeamShape, BeamSpread, DistanceMode"
   ]
  },
  {
   "cell_type": "code",
   "execution_count": 30,
   "metadata": {},
   "outputs": [],
   "source": [
    "beam_settings = BeamSettings(\n",
    "    distance_mode=DistanceMode.Direct,\n",
    "    beam_spread=BeamSpread.Plane, \n",
    "    beam_shape=BeamShape.Circular,\n",
    "    width= 100e-6,\n",
    "    height= 50e-6,\n",
    "    position=[-0e-6, 0e-6],\n",
    "    source_distance = 10e-6,\n",
    "    final_width = 1e-6\n",
    ")\n",
    "\n",
    "\n",
    "sim_parameters = SimulationParameters(\n",
    "    A = 10000, \n",
    "    pixel_size=1e-6, \n",
    "    sim_wavelength = 488e-9,\n",
    "    sim_width = 1500e-6,\n",
    "    lens_type=LensType.Spherical\n",
    ")\n",
    "\n",
    "output_medium = Medium(1.33)\n"
   ]
  },
  {
   "cell_type": "code",
   "execution_count": 31,
   "metadata": {},
   "outputs": [
    {
     "name": "stdout",
     "output_type": "stream",
     "text": [
      "Beam Settings: BeamSettings(distance_mode=<DistanceMode.Direct: 1>, beam_spread=<BeamSpread.Plane: 1>, beam_shape=<BeamShape.Circular: 1>, width=0.0001, height=5e-05, position=[-0.0, 0.0], theta=0.0, numerical_aperture=None, tilt=None, source_distance=1e-05, final_width=1e-06, focal_multiple=None)\n"
     ]
    }
   ],
   "source": [
    "# beam settings\n",
    "print(f\"Beam Settings: {beam_settings}\")\n",
    "    "
   ]
  },
  {
   "cell_type": "code",
   "execution_count": 32,
   "metadata": {},
   "outputs": [
    {
     "name": "stdout",
     "output_type": "stream",
     "text": [
      "The plane wave if constant along the optical axis. The beam final_width has been set to the initial width: 1.00e-04m\n",
      "Only DistanceMode.Direct is supported for BeamSpread.Plane. The distance_mode has been set to DistanceMode.Direct.\n",
      "The beam_shape (BeamShape.Circular) requires a symmetric beam. The beam height has been set to the beam width: 1.00e-04m \n",
      "beam generated\n"
     ]
    }
   ],
   "source": [
    "beam = Beam(beam_settings)\n",
    "print(\"beam generated\")"
   ]
  },
  {
   "cell_type": "code",
   "execution_count": 33,
   "metadata": {},
   "outputs": [
    {
     "name": "stdout",
     "output_type": "stream",
     "text": [
      "beam profile generated\n"
     ]
    }
   ],
   "source": [
    "beam.generate_profile(sim_parameters)\n",
    "print(\"beam profile generated\")"
   ]
  },
  {
   "cell_type": "code",
   "execution_count": 34,
   "metadata": {},
   "outputs": [
    {
     "data": {
      "image/png": "[encoded data removed]",
      "text/plain": [
       "<Figure size 432x288 with 2 Axes>"
      ]
     },
     "metadata": {
      "needs_background": "light"
     },
     "output_type": "display_data"
    }
   ],
   "source": [
    "fig = utils.plot_lens_profile_2D(beam.lens)\n",
    "plt.show()"
   ]
  },
  {
   "cell_type": "code",
   "execution_count": 35,
   "metadata": {},
   "outputs": [
    {
     "name": "stdout",
     "output_type": "stream",
     "text": [
      "0 1e-05\n"
     ]
    }
   ],
   "source": [
    "sd, fd = beam.calculate_propagation_distance()\n",
    "print(sd, fd)"
   ]
  },
  {
   "cell_type": "code",
   "execution_count": null,
   "metadata": {},
   "outputs": [],
   "source": []
  }
 ],
 "metadata": {
  "interpreter": {
   "hash": "e02cff3bbd039842ce3f743c0fb602c20a11e2fd1dd75e38e8f89ff88823b7b6"
  },
  "kernelspec": {
   "display_name": "Python 3.8.13 ('lens_sim')",
   "language": "python",
   "name": "python3"
  },
  "language_info": {
   "codemirror_mode": {
    "name": "ipython",
    "version": 3
   },
   "file_extension": ".py",
   "mimetype": "text/x-python",
   "name": "python",
   "nbconvert_exporter": "python",
   "pygments_lexer": "ipython3",
   "version": "3.8.13"
  },
  "orig_nbformat": 4
 },
 "nbformat": 4,
 "nbformat_minor": 2
}
