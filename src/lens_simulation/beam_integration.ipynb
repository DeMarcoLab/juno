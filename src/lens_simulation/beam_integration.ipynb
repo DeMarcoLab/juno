{
 "cells": [
  {
   "cell_type": "code",
   "execution_count": 18,
   "metadata": {},
   "outputs": [
    {
     "name": "stdout",
     "output_type": "stream",
     "text": [
      "The autoreload extension is already loaded. To reload it, use:\n",
      "  %reload_ext autoreload\n"
     ]
    }
   ],
   "source": [
    "%load_ext autoreload\n",
    "%autoreload 2\n",
    "\n",
    "import matplotlib.pyplot as plt\n",
    "\n",
    "from lens_simulation import utils\n",
    "from lens_simulation.structures import SimulationParameters\n",
    "from lens_simulation.Medium import Medium\n",
    "from lens_simulation.Lens import Lens, LensType\n",
    "from lens_simulation.beam import Beam, BeamSettings, BeamShape, BeamSpread, DistanceMode, load_beam_config\n",
    "\n",
    "from lens_simulation.Simulation import calculate_tilted_delta_profile, calculate_delta_profile\n",
    "\n",
    "from pprint import pprint"
   ]
  },
  {
   "cell_type": "code",
   "execution_count": 19,
   "metadata": {},
   "outputs": [
    {
     "name": "stdout",
     "output_type": "stream",
     "text": [
      "Beam Settings 2\n",
      "BeamSettings(distance_mode=<DistanceMode.Direct: 1>, beam_spread=<BeamSpread.Plane: 1>, beam_shape=<BeamShape.Circular: 1>, width=0.0001, height=5e-05, position=[0.0, 0.0], theta=0.0, numerical_aperture=None, tilt=0.0, source_distance=1e-05, final_width=1e-05, focal_multiple=None)\n",
      "Beam Settings\n",
      "BeamSettings(distance_mode=<DistanceMode.Direct: 1>, beam_spread=<BeamSpread.Plane: 1>, beam_shape=<BeamShape.Circular: 1>, width=0.0001, height=5e-05, position=[0.0, 0.0], theta=0.0, numerical_aperture=None, tilt=0.0, source_distance=1e-05, final_width=1e-05, focal_multiple=None)\n"
     ]
    }
   ],
   "source": [
    "beam_config = {\n",
    "    \"distance_mode\": \"Direct\",\n",
    "    \"beam_spread\": \"Plane\",\n",
    "    \"beam_shape\": \"Circular\",\n",
    "    \"width\": 100e-6,\n",
    "    \"height\": 50e-6,\n",
    "    \"position\": [0.0, 0.0], \n",
    "    \"theta\": 0.0,\n",
    "    \"numerical_aperture\": None,\n",
    "    \"tilt\": 0.0,\n",
    "    \"source_distance\": 10e-6,\n",
    "    \"final_width\": 10e-6,\n",
    "    \"focal_multiple\": None\n",
    "}\n",
    "\n",
    "beam_settings = load_beam_config(beam_config)\n",
    "\n",
    "beam_settings2 = BeamSettings(\n",
    "    distance_mode=DistanceMode.Direct,\n",
    "    beam_spread=BeamSpread.Plane, \n",
    "    beam_shape=BeamShape.Circular,\n",
    "    width= 100e-6,\n",
    "    height= 50e-6,\n",
    "    position=[0e-6, 0e-6],\n",
    "    source_distance = 10e-6,\n",
    "    final_width = 10e-6,\n",
    "    )\n",
    "\n",
    "beam_settings = load_beam_config(beam_config)\n",
    "\n",
    "print(\"Beam Settings 2\")\n",
    "pprint(beam_settings2)\n",
    "\n",
    "print(\"Beam Settings\")\n",
    "pprint(beam_settings)\n",
    "\n",
    "assert beam_settings == beam_settings2\n",
    "\n",
    "\n",
    "sim_parameters = SimulationParameters(\n",
    "    A = 10000, \n",
    "    pixel_size=1e-6, \n",
    "    sim_wavelength = 488e-9,\n",
    "    sim_width = 1500e-6,\n",
    "    lens_type=LensType.Spherical\n",
    ")\n",
    "\n",
    "output_medium = Medium(1.33)\n"
   ]
  },
  {
   "cell_type": "code",
   "execution_count": 127,
   "metadata": {},
   "outputs": [
    {
     "name": "stdout",
     "output_type": "stream",
     "text": [
      "Beam Settings: BeamSettings(distance_mode=<DistanceMode.Direct: 1>, beam_spread=<BeamSpread.Plane: 1>, beam_shape=<BeamShape.Circular: 1>, width=0.0001, height=5e-06, position=[-0.0, 0.0], theta=0.0, numerical_aperture=None, tilt=None, source_distance=1e-05, final_width=1e-06, focal_multiple=None)\n"
     ]
    }
   ],
   "source": [
    "# beam settings\n",
    "print(f\"Beam Settings: {beam_settings}\")\n",
    "    "
   ]
  },
  {
   "cell_type": "code",
   "execution_count": 128,
   "metadata": {},
   "outputs": [
    {
     "name": "stdout",
     "output_type": "stream",
     "text": [
      "The plane wave if constant along the optical axis. The beam final_width has been set to the initial width: 1.00e-04m\n",
      "Only DistanceMode.Direct is supported for BeamSpread.Plane. The distance_mode has been set to DistanceMode.Direct.\n",
      "The beam_shape (BeamShape.Circular) requires a symmetric beam. The beam height has been set to the beam width: 1.00e-04m \n",
      "beam generated\n"
     ]
    }
   ],
   "source": [
    "beam = Beam(beam_settings)\n",
    "print(\"beam generated\")"
   ]
  },
  {
   "cell_type": "code",
   "execution_count": 129,
   "metadata": {},
   "outputs": [
    {
     "name": "stdout",
     "output_type": "stream",
     "text": [
      "beam profile generated\n"
     ]
    }
   ],
   "source": [
    "beam.generate_profile(sim_parameters)\n",
    "print(\"beam profile generated\")"
   ]
  },
  {
   "cell_type": "code",
   "execution_count": 130,
   "metadata": {},
   "outputs": [
    {
     "data": {
      "image/png": "[encoded data removed]",
      "text/plain": [
       "<Figure size 432x288 with 2 Axes>"
      ]
     },
     "metadata": {
      "needs_background": "light"
     },
     "output_type": "display_data"
    }
   ],
   "source": [
    "fig = utils.plot_lens_profile_2D(beam.lens)\n",
    "plt.show()"
   ]
  },
  {
   "cell_type": "code",
   "execution_count": 131,
   "metadata": {},
   "outputs": [
    {
     "name": "stdout",
     "output_type": "stream",
     "text": [
      "0 1e-05\n"
     ]
    }
   ],
   "source": [
    "sd, fd = beam.calculate_propagation_distance()\n",
    "print(sd, fd)"
   ]
  },
  {
   "cell_type": "code",
   "execution_count": 132,
   "metadata": {},
   "outputs": [
    {
     "name": "stdout",
     "output_type": "stream",
     "text": [
      "[[-9867. -9867. -9867. ... -9867. -9867. -9867.]\n",
      " [-9867. -9867. -9867. ... -9867. -9867. -9867.]\n",
      " [-9867. -9867. -9867. ... -9867. -9867. -9867.]\n",
      " ...\n",
      " [-9867. -9867. -9867. ... -9867. -9867. -9867.]\n",
      " [-9867. -9867. -9867. ... -9867. -9867. -9867.]\n",
      " [-9867. -9867. -9867. ... -9867. -9867. -9867.]]\n"
     ]
    },
    {
     "data": {
      "image/png": "[encoded data removed]",
      "text/plain": [
       "<Figure size 432x288 with 2 Axes>"
      ]
     },
     "metadata": {
      "needs_background": "light"
     },
     "output_type": "display_data"
    },
    {
     "name": "stdout",
     "output_type": "stream",
     "text": [
      "True\n"
     ]
    }
   ],
   "source": [
    "import numpy as np\n",
    "\n",
    "delta = calculate_tilted_delta_profile(sim_profile=beam.lens.profile, \n",
    "lens=beam.lens, \n",
    "output_medium=output_medium, \n",
    "tilt_enabled=True, ytilt=0)\n",
    "\n",
    "print(delta) \n",
    "\n",
    "plt.imshow(delta, cmap=\"plasma\")\n",
    "plt.colorbar()\n",
    "plt.show()\n",
    "\n",
    "\n",
    "delta1 = calculate_delta_profile(beam.lens.profile, beam.lens, output_medium)\n",
    "# delta = calculate_tilted_delta_profile(beam.lens.profile, beam.lens, output_medium, tilt_enabled=True, ytilt=0)\n",
    "\n",
    "print(np.array_equal(delta, delta1))\n",
    "\n",
    "# print(delta) \n",
    "\n",
    "# plt.imshow(delta, cmap=\"plasma\")\n",
    "# plt.colorbar()\n",
    "# plt.show()"
   ]
  },
  {
   "cell_type": "code",
   "execution_count": null,
   "metadata": {},
   "outputs": [],
   "source": []
  },
  {
   "cell_type": "code",
   "execution_count": null,
   "metadata": {},
   "outputs": [],
   "source": [
    "\n",
    "\n",
    "\n",
    "# load config\n",
    "# load beam settings\n",
    "# create beam\n",
    "# generate profile\n",
    "# calculate propagation distances\n",
    "\n",
    "\n"
   ]
  }
 ],
 "metadata": {
  "interpreter": {
   "hash": "e02cff3bbd039842ce3f743c0fb602c20a11e2fd1dd75e38e8f89ff88823b7b6"
  },
  "kernelspec": {
   "display_name": "Python 3.8.13 ('lens_sim')",
   "language": "python",
   "name": "python3"
  },
  "language_info": {
   "codemirror_mode": {
    "name": "ipython",
    "version": 3
   },
   "file_extension": ".py",
   "mimetype": "text/x-python",
   "name": "python",
   "nbconvert_exporter": "python",
   "pygments_lexer": "ipython3",
   "version": "3.8.13"
  },
  "orig_nbformat": 4
 },
 "nbformat": 4,
 "nbformat_minor": 2
}
