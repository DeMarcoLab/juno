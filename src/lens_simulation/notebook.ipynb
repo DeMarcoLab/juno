{
 "cells": [
  {
   "cell_type": "code",
   "execution_count": null,
   "metadata": {},
   "outputs": [],
   "source": []
  },
  {
   "cell_type": "markdown",
   "metadata": {},
   "source": [
    "### Simulation Data Aggregation\n"
   ]
  },
  {
   "cell_type": "code",
   "execution_count": null,
   "metadata": {},
   "outputs": [],
   "source": [
    "%load_ext autoreload\n",
    "%autoreload 2\n",
    "\n",
    "import pandas as pd\n",
    "from lens_simulation import utils\n",
    "# path = r\"\\\\ad.monash.edu\\home\\User028\\pcle0002\\Documents\\repos\\lens_simulation\\src\\lens_simulation\\log\\duly-fancy-panda\\sweet-mako\"\n",
    "pd.set_option(\"display.max_rows\", None, \"display.max_columns\", None)\n",
    "\n",
    "directory = r\"\\\\ad.monash.edu\\home\\User028\\pcle0002\\Documents\\repos\\lens_simulation\\src\\lens_simulation\\log\\barely-ideal-zebra\"\n",
    "directory = r\"\\\\ad.monash.edu\\home\\User028\\pcle0002\\Documents\\repos\\lens_simulation\\src\\lens_simulation\\log\\lively-vital-duck\"\n",
    "\n",
    "\n",
    "df = utils.load_run_simulation_data(directory)\n",
    "\n",
    "print(f\"run: {os.path.basename(directory)}\")\n",
    "display(df.T)\n",
    "\n",
    "\n",
    "df.to_csv(\"data.csv\")"
   ]
  },
  {
   "cell_type": "code",
   "execution_count": null,
   "metadata": {},
   "outputs": [],
   "source": [
    "display(df[df[\"exponent\"] ==  2.1].T)\n"
   ]
  },
  {
   "cell_type": "code",
   "execution_count": null,
   "metadata": {},
   "outputs": [],
   "source": []
  },
  {
   "cell_type": "markdown",
   "metadata": {},
   "source": [
    "## Simulation Parameter Sweep\n"
   ]
  },
  {
   "cell_type": "code",
   "execution_count": null,
   "metadata": {},
   "outputs": [],
   "source": [
    "%load_ext autoreload\n",
    "%autoreload 2\n",
    "\n",
    "from lens_simulation import utils\n",
    "from pprint import pprint\n",
    "from copy import deepcopy\n",
    "\n",
    "# sweep\n",
    "config = utils.load_config(\"config.yaml\")\n",
    "\n",
    "config[\"sweep\"] = deepcopy(config)\n",
    "\n",
    "pprint(config)\n",
    "\n",
    "\n",
    "# config dict vs config yaml\n",
    "# yaml creates the sweeps\n",
    "# dicts create the objects\n",
    "\n",
    "\n"
   ]
  },
  {
   "cell_type": "code",
   "execution_count": null,
   "metadata": {},
   "outputs": [],
   "source": [
    "%load_ext autoreload\n",
    "%autoreload 2\n",
    "\n",
    "%load_ext autoreload \n",
    "%autoreload 2\n",
    "from lens_simulation import SimulationRunner\n",
    "\n",
    "\n",
    "sim_runner = SimulationRunner.SimulationRunner(\"sweep.yaml\")\n",
    "# sim_runner.initialise_simulation()\n",
    "sim_runner.setup_simulation()\n",
    "# sim_runner.run_simulations()\n"
   ]
  },
  {
   "cell_type": "code",
   "execution_count": 1,
   "metadata": {},
   "outputs": [],
   "source": [
    "%load_ext autoreload\n",
    "%autoreload 2\n",
    "from lens_simulation.SimulationRunner import (get_lens_configurations, generate_lens_parameter_combinations, \n",
    "    generate_beam_parameter_combinations,  get_beam_configurations, generate_stage_parameter_combination, get_stage_configurations, \n",
    "    generate_simulation_parameter_sweep, sweep_custom_profiles)\n",
    "from lens_simulation import utils\n",
    "from lens_simulation.constants import LENS_SWEEPABLE_KEYS, MODIFICATION_SWEEPABLE_KEYS, BEAM_SWEEPABLE_KEYS, STAGE_SWEEPABLE_KEYS, GRATING_SWEEPABLE_KEYS, TRUNCATION_SWEEPABLE_KEYS, APERTURE_SWEEPABLE_KEYS\n",
    "from lens_simulation import validation\n",
    "from pprint import pprint\n",
    "from copy import deepcopy\n"
   ]
  },
  {
   "cell_type": "code",
   "execution_count": 12,
   "metadata": {},
   "outputs": [
    {
     "name": "stdout",
     "output_type": "stream",
     "text": [
      "--------------------------------------------------\n",
      "None\n",
      "None\n"
     ]
    }
   ],
   "source": [
    "config = utils.load_config(\"config.yaml\")\n",
    "info =  {\"run_id\": 9999, \"run_petname\": \"test-carry-mule\", \"log_dir\": \"log\"}\n",
    "\n",
    "\n",
    "lc = config[\"lenses\"][0]\n",
    "\n",
    "# print(\"profiles:\")\n",
    "# pprint(lc[\"custom\"])\n",
    "# print(\"-\"*50)\n",
    "cp = sweep_custom_profiles(lc[\"custom\"])\n",
    "\n",
    "# print(\"custom_params: \", cp)\n",
    "\n",
    "simulation_configurations = generate_simulation_parameter_sweep(config, info)\n",
    "\n",
    "for sc in simulation_configurations:\n",
    "    print(\"-\"*50)\n",
    "    for lc in sc[\"lenses\"]:\n",
    "        pprint(lc[\"custom\"])"
   ]
  },
  {
   "cell_type": "code",
   "execution_count": null,
   "metadata": {},
   "outputs": [],
   "source": [
    "from lens_simulation.Lens import generate_lens\n",
    "from lens_simulation.Medium import Medium\n",
    "from lens_simulation import utils\n",
    "import matplotlib.pyplot as plt\n",
    "\n",
    "for conf in simulation_configurations:\n",
    "\n",
    "    # pprint(conf)\n",
    "    lc = conf[\"lenses\"][0]\n",
    "    lens = generate_lens(lc, Medium(lc[\"medium\"]), conf[\"sim_parameters\"][\"pixel_size\"])\n",
    "\n",
    "    plotting.plot_lens_profile_2d(lens)\n",
    "    plt.show()\n",
    "\n",
    "    plotting.plot_lens_profile_slices(lens)\n",
    "    plt.show()\n",
    "\n"
   ]
  },
  {
   "cell_type": "code",
   "execution_count": null,
   "metadata": {},
   "outputs": [],
   "source": []
  },
  {
   "cell_type": "code",
   "execution_count": null,
   "metadata": {},
   "outputs": [],
   "source": [
    "\n",
    "\n"
   ]
  },
  {
   "cell_type": "code",
   "execution_count": null,
   "metadata": {},
   "outputs": [],
   "source": [
    "\n",
    "\n"
   ]
  },
  {
   "cell_type": "code",
   "execution_count": null,
   "metadata": {},
   "outputs": [],
   "source": []
  },
  {
   "cell_type": "code",
   "execution_count": null,
   "metadata": {},
   "outputs": [],
   "source": [
    "directory = r\"\\\\ad.monash.edu\\home\\User028\\pcle0002\\Documents\\repos\\lens_simulation\\src\\lens_simulation\\log\\hugely-subtle-drake\"\n",
    "df = utils.load_run_simulation_data(directory)\n",
    "\n",
    "display(df.T)"
   ]
  },
  {
   "cell_type": "code",
   "execution_count": null,
   "metadata": {},
   "outputs": [],
   "source": []
  },
  {
   "cell_type": "markdown",
   "metadata": {},
   "source": [
    "### ZARR\n"
   ]
  },
  {
   "cell_type": "code",
   "execution_count": null,
   "metadata": {},
   "outputs": [],
   "source": [
    "import zarr\n",
    "z = zarr.zeros((10000, 10000), chunks=(1000, 1000), dtype='i4')\n",
    "print(z.info)\n",
    "\n",
    "z1 = zarr.open('data/example.zarr', mode='w', shape=(10000, 10000), chunks=(1000, 1000), dtype='i4')"
   ]
  },
  {
   "cell_type": "code",
   "execution_count": null,
   "metadata": {},
   "outputs": [],
   "source": [
    "import numpy as np\n",
    "a = np.arange(10)\n",
    "zarr.save('data/example.zarr', a)\n",
    "zarr.load('data/example.zarr')"
   ]
  },
  {
   "cell_type": "code",
   "execution_count": null,
   "metadata": {},
   "outputs": [],
   "source": [
    "\n",
    "\n",
    "\n"
   ]
  },
  {
   "cell_type": "code",
   "execution_count": 25,
   "metadata": {},
   "outputs": [
    {
     "name": "stdout",
     "output_type": "stream",
     "text": [
      "The autoreload extension is already loaded. To reload it, use:\n",
      "  %reload_ext autoreload\n"
     ]
    }
   ],
   "source": [
    "%load_ext autoreload\n",
    "%autoreload 2\n",
    "\n",
    "from lens_simulation import utils\n",
    "from pprint import pprint\n",
    "from lens_simulation.beam import load_beam_config\n",
    "from lens_simulation.Simulation import generate_simulation_options, generate_simulation_parameters, load_sim_stage_config\n",
    "from lens_simulation.structures import SimulationConfig\n",
    "from lens_simulation.Lens import load_lens_config\n",
    "config = utils.load_config(\"sweep.yaml\")\n",
    "# conf_v2 = utils.load_config_struct(\"sweep.yaml\")\n"
   ]
  },
  {
   "cell_type": "code",
   "execution_count": 31,
   "metadata": {},
   "outputs": [
    {
     "name": "stdout",
     "output_type": "stream",
     "text": [
      "SIM CONFIG:\n",
      "BeamSettings(distance_mode=<DistanceMode.Direct: 1>, beam_spread=<BeamSpread.Plane: 1>, beam_shape=<BeamShape.Circular: 1>, width=0.0001, height=0.0001, position_x=0.0, position_y=0.0, theta=0.0, numerical_aperture=None, tilt_x=0.0, tilt_y=0.0, source_distance=0.002, final_diameter=None, focal_multiple=None, n_steps=10, step_size=0, output_medium=1.0)\n",
      "--------------------------------------------------\n",
      "[LensSettings(diameter=0.0003, height=1e-05, exponent=2.0, medium=Medium(), lens_type=<LensType.Spherical: 2>, length=None, custom='None', escape_path=None, inverted=False, grating=GratingSettings(width=1e-05, distance=2e-05, depth=1.5e-07, axis=1, centred=True, distance_px=None, width_px=None), truncation=TruncationSettings(type='value', height=3e-06, radius=5e-05, aperture=False), aperture=ApertureSettings(type='radial', inner=5e-05, outer=0.0001, invert=False)),\n",
      " LensSettings(diameter=0.0003, height=1e-05, exponent=2.4, medium=Medium(), lens_type=<LensType.Spherical: 2>, length=None, custom='None', escape_path=None, inverted=False, grating=None, truncation=None, aperture=None)]\n",
      "--------------------------------------------------\n",
      "[StageSettings(lens='lens_1', output=1.33, n_steps=10, step_size=0.0001, start_distance=0.0, finish_distance=0.006, use_equivalent_focal_distance=True, focal_distance_start_multiple=0.0, focal_distance_multiple=2.0),\n",
      " StageSettings(lens='lens_2', output=1.0, n_steps=10, step_size=0, start_distance=0.0, finish_distance=0.006, use_equivalent_focal_distance=True, focal_distance_start_multiple=0.0, focal_distance_multiple=1.0)]\n",
      "--------------------------------------------------\n",
      "SimulationParameters(A=10000, pixel_size=1e-06, sim_width=0.0005, sim_height=0.0005, sim_wavelength=4.88e-07)\n",
      "--------------------------------------------------\n",
      "SimulationOptions(log_dir='log', save=True, save_plot=True, verbose=False, debug=False)\n"
     ]
    }
   ],
   "source": [
    "\n",
    "\n",
    "beam_settings = load_beam_config(config[\"beam\"])\n",
    "\n",
    "lenses = [load_lens_config(lc) for lc in config[\"lenses\"]]\n",
    "stages = [load_sim_stage_config(sc) for sc in config[\"stages\"]]\n",
    "\n",
    "options = generate_simulation_options(config, \"log\")\n",
    "parameters = generate_simulation_parameters(config)\n",
    "\n",
    "\n",
    "sim_config = SimulationConfig(\n",
    "    beam=beam_settings,\n",
    "    lenses=lenses,\n",
    "    stages=stages,\n",
    "    parameters=parameters,\n",
    "    options=options\n",
    ")\n",
    "\n",
    "\n",
    "print(\"SIM CONFIG:\")\n",
    "pprint(sim_config.beam)\n",
    "print(\"-\"*50)\n",
    "pprint(sim_config.lenses)\n",
    "print(\"-\"*50)\n",
    "pprint(sim_config.stages)\n",
    "print(\"-\"*50)\n",
    "pprint(sim_config.parameters)\n",
    "print(\"-\"*50)\n",
    "pprint(sim_config.options)\n",
    "\n"
   ]
  },
  {
   "cell_type": "code",
   "execution_count": null,
   "metadata": {},
   "outputs": [],
   "source": []
  }
 ],
 "metadata": {
  "interpreter": {
   "hash": "e02cff3bbd039842ce3f743c0fb602c20a11e2fd1dd75e38e8f89ff88823b7b6"
  },
  "kernelspec": {
   "display_name": "Python 3.8.13 ('lens_sim')",
   "language": "python",
   "name": "python3"
  },
  "language_info": {
   "codemirror_mode": {
    "name": "ipython",
    "version": 3
   },
   "file_extension": ".py",
   "mimetype": "text/x-python",
   "name": "python",
   "nbconvert_exporter": "python",
   "pygments_lexer": "ipython3",
   "version": "3.8.13"
  },
  "orig_nbformat": 4
 },
 "nbformat": 4,
 "nbformat_minor": 2
}
