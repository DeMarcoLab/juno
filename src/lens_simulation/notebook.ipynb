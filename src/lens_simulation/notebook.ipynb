{
 "cells": [
  {
   "cell_type": "code",
   "execution_count": null,
   "metadata": {},
   "outputs": [],
   "source": []
  },
  {
   "cell_type": "code",
   "execution_count": null,
   "metadata": {},
   "outputs": [],
   "source": [
    "%load_ext autoreload\n",
    "%autoreload 2\n",
    "from lens_simulation.Lens import Lens, LensType, GratingSettings\n",
    "from lens_simulation.Medium import Medium, LithiumNiabate\n",
    "\n",
    "from lens_simulation.structures import SimulationOptions, SimulationParameters\n",
    "from lens_simulation import utils\n",
    "import matplotlib.pyplot as plt\n",
    "\n",
    "import numpy as np\n"
   ]
  },
  {
   "cell_type": "code",
   "execution_count": null,
   "metadata": {},
   "outputs": [],
   "source": [
    "# create lens\n",
    "parameters = SimulationParameters(\n",
    "    A=10000,\n",
    "    pixel_size=1e-6,\n",
    "    sim_height=1000e-6,\n",
    "    sim_width=1000e-6,\n",
    "    sim_wavelength=488e-9,\n",
    "    lens_type=LensType.Spherical,\n",
    ")\n",
    "\n"
   ]
  },
  {
   "cell_type": "code",
   "execution_count": null,
   "metadata": {},
   "outputs": [],
   "source": [
    "\n",
    "from lens_simulation.Lens import test_escape_path_fits_inside_simulation\n",
    "from lens_simulation.Simulation import pad_simulation\n",
    "\n",
    "ep = 0.5\n",
    "lens_type = LensType.Cylindrical\n",
    "lens_type = LensType.Spherical\n",
    "\n",
    "lens = Lens(500e-6, 50e-6, 2.0, LithiumNiabate())\n",
    "lens.generate_profile(parameters.pixel_size, lens_type, length=200e-6)\n",
    "\n",
    "print(\"lens: \", lens.profile.shape)\n",
    "plt.imshow(lens.profile, cmap=\"plasma\")\n",
    "plt.title(\"lens profile\")\n",
    "plt.show()\n",
    "\n",
    "# aperture\n",
    "lens.create_custom_aperture(100e-6, 150e-6, type=\"radial\", inverted=False)\n",
    "\n",
    "# truncation\n",
    "lens.create_truncation_mask(truncation_height=49e-6, aperture=True)\n",
    "\n",
    "grating_settings = GratingSettings(\n",
    "    width = 25e-6,\n",
    "    distance = 50e-6,\n",
    "    depth = 20e-6,\n",
    "    centred = True\n",
    ")\n",
    "\n",
    "lens.create_grating_mask(grating_settings, True, True)\n",
    "\n",
    "lens.apply_masks(grating=True, truncation=True)\n",
    "\n",
    "# escape path\n",
    "lens.create_escape_path(parameters, ep)\n",
    "\n",
    "# pad simulation\n",
    "lens = pad_simulation(lens, parameters)\n",
    "\n",
    "# apply all mask\n",
    "lens.apply_aperture_masks()\n",
    "\n",
    "fig = utils.plot_apeture_masks(lens)\n",
    "plt.show()\n",
    "\n",
    "fig = utils.plot_lens_modifications(lens)\n",
    "plt.show()\n",
    "\n",
    "\n",
    "\n",
    "# TODO: add escape path to config\n"
   ]
  },
  {
   "cell_type": "code",
   "execution_count": null,
   "metadata": {},
   "outputs": [],
   "source": [
    "test_escape_path_fits_inside_simulation(lens, parameters, ep=0.1)\n",
    "test_escape_path_fits_inside_simulation(lens, parameters, ep=0.5)\n",
    "test_escape_path_fits_inside_simulation(lens, parameters, ep=1.5)"
   ]
  },
  {
   "cell_type": "code",
   "execution_count": null,
   "metadata": {},
   "outputs": [],
   "source": []
  },
  {
   "cell_type": "code",
   "execution_count": null,
   "metadata": {},
   "outputs": [],
   "source": [
    "from lens_simulation import utils, validation\n",
    "from lens_simulation.Lens import Lens, generate_lens, LensType\n",
    "from lens_simulation.Medium import LithiumNiabate\n",
    "from pprint import pprint\n",
    "\n",
    "lens_config = utils.load_yaml_config(\"lens.yaml\")\n",
    "\n",
    "print(\"before validation\")\n",
    "pprint(lens_config)\n",
    "\n",
    "lens_config = validation._validate_default_lens_config(lens_config)\n",
    "\n",
    "print(\"after validation\")\n",
    "pprint(lens_config)\n",
    "\n",
    "lens = generate_lens(lens_config, LithiumNiabate())\n",
    "\n",
    "lens.generate_profile(1e-6)\n",
    "\n",
    "# external pixel_size, lens_type\n",
    "\n",
    "import matplotlib.pyplot as plt\n",
    "plt.imshow(lens.profile)\n",
    "plt.show()\n",
    "\n"
   ]
  },
  {
   "cell_type": "code",
   "execution_count": null,
   "metadata": {},
   "outputs": [],
   "source": []
  },
  {
   "cell_type": "code",
   "execution_count": null,
   "metadata": {},
   "outputs": [],
   "source": []
  },
  {
   "cell_type": "markdown",
   "metadata": {},
   "source": [
    "#### Plot Slices as GIF\n",
    "Plot the simulation slices as gif\n",
    "\n"
   ]
  },
  {
   "cell_type": "code",
   "execution_count": null,
   "metadata": {},
   "outputs": [],
   "source": [
    "%load_ext autoreload\n",
    "%autoreload 2\n",
    "import os\n",
    "from lens_simulation import utils\n",
    "import glob\n",
    "import imageio\n",
    "import numpy as np\n",
    "import matplotlib.pyplot as plt\n",
    "\n",
    "\n",
    "print(os.getcwd())\n",
    "\n",
    "path = r\"\\\\ad.monash.edu\\home\\User028\\pcle0002\\Documents\\repos\\lens_simulation\\src\\lens_simulation\\log\\rarely-upward-ocelot\\safe-hound\"\n",
    "\n",
    "sim_path = os.path.join(path, str(0))\n",
    "utils.save_propagation_gif(sim_path)\n",
    "\n",
    "sim_path = os.path.join(path, str(1))\n",
    "utils.save_propagation_gif(sim_path)\n"
   ]
  },
  {
   "cell_type": "code",
   "execution_count": null,
   "metadata": {},
   "outputs": [],
   "source": [
    "\n",
    "# stack slices\n",
    "sim_path = os.path.join(path, str(1))\n",
    "\n",
    "utils.save_propagation_slices_gif(sim_path)"
   ]
  },
  {
   "cell_type": "code",
   "execution_count": null,
   "metadata": {},
   "outputs": [],
   "source": []
  }
 ],
 "metadata": {
  "interpreter": {
   "hash": "e02cff3bbd039842ce3f743c0fb602c20a11e2fd1dd75e38e8f89ff88823b7b6"
  },
  "kernelspec": {
   "display_name": "Python 3.8.13 ('lens_sim')",
   "language": "python",
   "name": "python3"
  },
  "language_info": {
   "codemirror_mode": {
    "name": "ipython",
    "version": 3
   },
   "file_extension": ".py",
   "mimetype": "text/x-python",
   "name": "python",
   "nbconvert_exporter": "python",
   "pygments_lexer": "ipython3",
   "version": "3.8.13"
  },
  "orig_nbformat": 4
 },
 "nbformat": 4,
 "nbformat_minor": 2
}
