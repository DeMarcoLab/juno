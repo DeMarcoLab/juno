{
 "cells": [
  {
   "cell_type": "markdown",
   "metadata": {},
   "source": [
    "# Imports\n"
   ]
  },
  {
   "cell_type": "code",
   "execution_count": 2,
   "metadata": {},
   "outputs": [],
   "source": [
    "%load_ext autoreload\n",
    "%autoreload 2\n",
    "import matplotlib.pyplot as plt\n",
    "import numpy as np\n",
    "from lens_simulation import Lens, Simulation\n",
    "from scipy import fftpack"
   ]
  },
  {
   "cell_type": "markdown",
   "metadata": {},
   "source": [
    "## Constants"
   ]
  },
  {
   "cell_type": "code",
   "execution_count": 3,
   "metadata": {},
   "outputs": [],
   "source": [
    "\n",
    "amplitude = 10000\n",
    "sim_width = 4500e-6\n",
    "pixel_size = 10e-9\n",
    "n_slices = 1000\n",
    "\n",
    "\n",
    "lens = Lens.Lens(\n",
    "    diameter=sim_width,\n",
    "    height=70e-6,\n",
    "    exponent=2.0,\n",
    "    medium=Lens.Medium(2.348)\n",
    ")"
   ]
  },
  {
   "cell_type": "code",
   "execution_count": 4,
   "metadata": {},
   "outputs": [
    {
     "name": "stdout",
     "output_type": "stream",
     "text": [
      "CENTRE_PX:  224998\n",
      "n_pixels_in_sim:  449997  pixel_size:  1e-08\n"
     ]
    },
    {
     "ename": "TypeError",
     "evalue": "'Lens' object is not callable",
     "output_type": "error",
     "traceback": [
      "\u001b[1;31m---------------------------------------------------------------------------\u001b[0m",
      "\u001b[1;31mTypeError\u001b[0m                                 Traceback (most recent call last)",
      "\u001b[1;32m~\\AppData\\Local\\Temp/ipykernel_10516/784037986.py\u001b[0m in \u001b[0;36m<module>\u001b[1;34m\u001b[0m\n\u001b[0;32m     18\u001b[0m \u001b[0mfreq_array\u001b[0m \u001b[1;33m=\u001b[0m \u001b[0mSimulation\u001b[0m\u001b[1;33m.\u001b[0m\u001b[0mgenerate_squared_frequency_array\u001b[0m\u001b[1;33m(\u001b[0m\u001b[0mn_pixels\u001b[0m\u001b[1;33m=\u001b[0m\u001b[0mlen\u001b[0m\u001b[1;33m(\u001b[0m\u001b[0mprofile\u001b[0m\u001b[1;33m)\u001b[0m\u001b[1;33m,\u001b[0m \u001b[0mpixel_size\u001b[0m\u001b[1;33m=\u001b[0m\u001b[0mpixel_size\u001b[0m\u001b[1;33m)\u001b[0m\u001b[1;33m\u001b[0m\u001b[1;33m\u001b[0m\u001b[0m\n\u001b[0;32m     19\u001b[0m \u001b[1;33m\u001b[0m\u001b[0m\n\u001b[1;32m---> 20\u001b[1;33m \u001b[1;32mfor\u001b[0m \u001b[0mcurrent_slice\u001b[0m\u001b[1;33m,\u001b[0m \u001b[0mprevious_slice\u001b[0m\u001b[1;33m,\u001b[0m \u001b[0mprevious_wavefront\u001b[0m \u001b[1;32min\u001b[0m \u001b[0mlens\u001b[0m\u001b[1;33m(\u001b[0m\u001b[1;33m)\u001b[0m\u001b[1;33m:\u001b[0m\u001b[1;33m\u001b[0m\u001b[1;33m\u001b[0m\u001b[0m\n\u001b[0m\u001b[0;32m     21\u001b[0m     \u001b[0mdelta\u001b[0m \u001b[1;33m=\u001b[0m \u001b[1;33m(\u001b[0m\u001b[0mcurrent_slice_n\u001b[0m \u001b[1;33m-\u001b[0m \u001b[0mprevious_slice_n\u001b[0m\u001b[1;33m)\u001b[0m \u001b[1;33m*\u001b[0m \u001b[0mprofile_diff\u001b[0m\u001b[1;33m\u001b[0m\u001b[1;33m\u001b[0m\u001b[0m\n\u001b[0;32m     22\u001b[0m     \u001b[0mphase\u001b[0m \u001b[1;33m=\u001b[0m \u001b[0mA\u001b[0m \u001b[1;33m*\u001b[0m \u001b[0mdelta\u001b[0m\u001b[1;33m\u001b[0m\u001b[1;33m\u001b[0m\u001b[0m\n",
      "\u001b[1;31mTypeError\u001b[0m: 'Lens' object is not callable"
     ]
    }
   ],
   "source": [
    "profile = lens.generate_profile(pixel_size)\n",
    "\n",
    "\n",
    "# pixels size is defined by the sim\n",
    "# define a simulation width (includes padding)\n",
    "# TODO: minimum padding?\n",
    "# escape path: 10%\n",
    "# padding: 30%\n",
    "# pad the sides of the profile to match the sim width\n",
    "\n",
    "centre_px = (len(profile) - 1) // 2 \n",
    "print(\"CENTRE_PX: \", centre_px)\n",
    "\n",
    "medium = Lens.Medium(refractive_index=1.0)\n",
    "\n",
    "print(\"n_pixels_in_sim: \", len(profile), \" pixel_size: \", pixel_size)\n",
    "\n",
    "freq_array = Simulation.generate_squared_frequency_array(n_pixels=len(profile), pixel_size=pixel_size)\n",
    "\n",
    "dfp = generate_profile()\n",
    "\n",
    "for lens in simulation():\n",
    "    for current_slice, previous_wavefront in lens():\n",
    "        \n",
    "        # phase = A * delta \n",
    "        # delta = (lens.medium.refractive_index - medium.refractive_index) * profile\n",
    "        delta = dfp[i] * profile_height[i]\n",
    "        phase = (2 * np.pi * delta / medium.wavelength_medium ) % (2 * np.pi)\n",
    "        wavefront = A * np.exp(1j*phase)\n",
    "\n",
    "        # current_wavefront = B * phase\n",
    "\n",
    "        \n",
    "        current_wavefront = fft(wavefront)\n",
    "        wavefront = current_wavefront * previous_wavefront\n",
    "\n",
    "        z = lens.step_size_z\n",
    "        prop = np.exp(1j * medium.wave_number * z)  * np.exp( (-1j * 2 * np.pi ** 2 * z * freq_array) / medium.wave_number)\n",
    "        propagation = fftpack.ifft(prop * wavefront)\n",
    "        output = np.sqrt(propagation.real**2 + propagation.imag**2)\n",
    "        sim[i] = output\n",
    "        # pass the propagation through as the previous wavefront\n",
    "        # previous slice index profile \n",
    "\n",
    "\n",
    "    # having grabbed the last wavefront from the lens:\n",
    "    wavefront = fftpack.fft(wavefront)\n",
    "\n",
    "    sim = np.ones(shape=(n_slices, len(profile)))\n",
    "    # distances defined from the previous lens \n",
    "    # define entire array to calculate faster on GPU\n",
    "    # check here for GPU, CPU options ?\n",
    "    distances = np.linspace(start_distance, finish_distance, n_slices)\n",
    "    for i, z in enumerate(distances):\n",
    "        \n",
    "        prop = np.exp(1j * medium.wave_number * z)  * np.exp( (-1j * 2 * np.pi ** 2 * z * freq_array) / medium.wave_number)\n",
    "        # print(\"prop shape: \", prop.shape)\n",
    "        propagation = fftpack.ifft(prop * wavefront)\n",
    "\n",
    "        output = np.sqrt(propagation.real**2 + propagation.imag**2)\n",
    "\n",
    "        sim[i] = output\n",
    "\n"
   ]
  },
  {
   "cell_type": "markdown",
   "metadata": {},
   "source": [
    "## VISUALISATION\n"
   ]
  },
  {
   "cell_type": "code",
   "execution_count": null,
   "metadata": {},
   "outputs": [],
   "source": [
    "    print(\"Prop Size: \", len(prop))\n",
    "\n",
    "    print(lens)\n",
    "    print(medium)\n",
    "\n",
    "    fig, ax = plt.subplots(3, 1, figsize=(15,15))\n",
    "\n",
    "    ax[0].plot(profile)\n",
    "    ax[0].set_title(\"PROFILE\")\n",
    "\n",
    "    ax[1].plot(phase)\n",
    "    ax[1].set_title(\"PHASE\")\n",
    "\n",
    "    # print(sim.shape)\n",
    "    ax[2].set_title(\"SIM\")\n",
    "    low, high = sim.shape[1] //2 - 1000, sim.shape[1] //2 + 1000 \n",
    "    # print(low, high)\n",
    "    ax[2].imshow(sim[:, low:high+1],  aspect=\"auto\")\n",
    "\n",
    "    plt.show()\n"
   ]
  }
 ],
 "metadata": {
  "interpreter": {
   "hash": "9c059ec6bcfa5754e4bdc7a0641d1daa6023a22a449748e5dc7cf77ba0018324"
  },
  "kernelspec": {
   "display_name": "Python 3.7.12 64-bit ('lens_sim': conda)",
   "language": "python",
   "name": "python3"
  },
  "language_info": {
   "codemirror_mode": {
    "name": "ipython",
    "version": 3
   },
   "file_extension": ".py",
   "mimetype": "text/x-python",
   "name": "python",
   "nbconvert_exporter": "python",
   "pygments_lexer": "ipython3",
   "version": "3.7.11"
  },
  "orig_nbformat": 4
 },
 "nbformat": 4,
 "nbformat_minor": 2
}
