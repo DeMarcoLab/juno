{
 "cells": [
  {
   "cell_type": "markdown",
   "metadata": {},
   "source": [
    "# Notebook\n",
    "Notebook for prototyping and experimenting. "
   ]
  },
  {
   "cell_type": "code",
   "execution_count": null,
   "metadata": {},
   "outputs": [],
   "source": []
  },
  {
   "cell_type": "markdown",
   "metadata": {},
   "source": [
    "### New Simulation Config\n"
   ]
  },
  {
   "cell_type": "code",
   "execution_count": null,
   "metadata": {},
   "outputs": [],
   "source": [
    "\n",
    "# beam_settings = load_beam_config(config[\"beam\"])\n",
    "\n",
    "# lenses = [load_lens_config(lc) for lc in config[\"lenses\"]]\n",
    "# stages = [load_sim_stage_config(sc) for sc in config[\"stages\"]]\n",
    "\n",
    "# options = generate_simulation_options(config, \"log\")\n",
    "# parameters = generate_simulation_parameters(config)\n",
    "\n",
    "\n",
    "# sim_config = SimulationConfig(\n",
    "#     beam=beam_settings,\n",
    "#     lenses=lenses,\n",
    "#     stages=stages,\n",
    "#     parameters=parameters,\n",
    "#     options=options\n",
    "# )\n",
    "\n",
    "\n",
    "# print(\"SIM CONFIG:\")\n",
    "# pprint(sim_config.beam)\n",
    "# print(\"-\"*50)\n",
    "# pprint(sim_config.lenses)\n",
    "# print(\"-\"*50)\n",
    "# pprint(sim_config.stages)\n",
    "# print(\"-\"*50)\n",
    "# pprint(sim_config.parameters)\n",
    "# print(\"-\"*50)\n",
    "# pprint(sim_config.options)\n",
    "\n"
   ]
  },
  {
   "cell_type": "code",
   "execution_count": null,
   "metadata": {},
   "outputs": [],
   "source": []
  },
  {
   "cell_type": "markdown",
   "metadata": {},
   "source": [
    "## Electric Field Refactor\n",
    "Restructure the simulation to use electric field propagation rather than lenses\n",
    "\n"
   ]
  },
  {
   "cell_type": "code",
   "execution_count": null,
   "metadata": {},
   "outputs": [],
   "source": [
    "%load_ext autoreload\n",
    "%autoreload 2\n",
    "\n",
    "from lens_simulation import utils, plotting\n",
    "from lens_simulation.beam import generate_beam\n",
    "from lens_simulation.Simulation import (generate_beam_simulation_stage, generate_simulation_parameters, \n",
    "    generate_sq_freq_arr, propagate_over_distance)\n",
    "from lens_simulation import Simulation\n",
    "from pprint import pprint\n",
    "from lens_simulation.Lens import Lens\n",
    "from scipy import fftpack\n",
    "from lens_simulation.structures import SimulationStage, SimulationParameters, SimulationOptions, SimulationResult\n",
    "from tqdm import tqdm\n",
    "import numpy as np\n",
    "import zarr\n",
    "import matplotlib.pyplot as plt\n",
    "\n",
    "path = \"test\"\n",
    "config = utils.load_config(\"example/sim_charizard_2d.yaml\")\n",
    "config[\"log_dir\"] = \"log\"\n",
    "\n",
    "sim = Simulation.Simulation(config)\n",
    "sim.run_simulation()\n",
    "\n",
    "plotting.save_propagation_gif_full(sim.options.log_dir)\n"
   ]
  },
  {
   "cell_type": "code",
   "execution_count": null,
   "metadata": {},
   "outputs": [],
   "source": [
    "from IPython.display import Image\n",
    "\n",
    "plt.close()\n",
    "fig = plotting.plot_sim_propagation_v2(sim.options.log_dir)\n",
    "plt.show()\n",
    "\n",
    "arr = plotting.load_full_sim_propagation_v2(sim.options.log_dir)\n",
    "fig = plt.figure(figsize=(15, 15))\n",
    "plt.imshow(np.flip(arr[-4,:, :]), aspect=\"auto\", cmap=\"turbo\")\n",
    "plt.show()\n",
    "\n",
    "Image(os.path.join(sim.options.log_dir, \"propagation.gif\"))\n",
    "\n"
   ]
  },
  {
   "cell_type": "code",
   "execution_count": null,
   "metadata": {},
   "outputs": [],
   "source": [
    "from lens_simulation.beam import create_gaussian\n",
    "\n",
    "path = \"test\"\n",
    "config = utils.load_config(\"example/sim_gaussian_2d.yaml\")\n",
    "config[\"log_dir\"] = path\n",
    "\n",
    "parameters = generate_simulation_parameters(config)\n",
    "beam_stage = generate_beam_simulation_stage(config, parameters)\n",
    "\n",
    "z0 = 400.e-3\n",
    "r0 = (0, 0)\n",
    "w0 = 40.e-3\n",
    "\n",
    "# parameters.sim_wavelength = 30e-3\n",
    "arr = create_gaussian(r0, w0, z0, parameters=parameters, theta=0, phi=0)\n",
    "\n",
    "print(parameters)\n",
    "\n",
    "plt.imshow(np.abs(arr), cmap=\"turbo\", aspect=\"auto\")\n",
    "plt.title(\"Gaussian\")\n",
    "plt.colorbar()\n",
    "plt.show()\n",
    "\n",
    "np.save(\"custom/gaussian.npy\", arr)\n",
    "\n",
    "fname = config[\"beam\"][\"data\"]\n",
    "loaded = utils.load_np_arr(fname)\n",
    "\n",
    "plt.imshow(np.abs(loaded), cmap=\"turbo\", aspect=\"auto\")\n",
    "plt.title(\"Gaussian (Loaded\")\n",
    "plt.colorbar()\n",
    "plt.show()\n"
   ]
  },
  {
   "cell_type": "code",
   "execution_count": null,
   "metadata": {},
   "outputs": [],
   "source": [
    "from PIL import Image\n",
    "# star https://www.freeiconspng.com/images/white-star-icon\n",
    "#fair use charizard https://en.wikipedia.org/wiki/Charizard#/media/File:Pok%C3%A9mon_Charizard_art.png\n",
    "img = Image.open(\"custom/charizard.png\")\n",
    "img = img.resize((501, 501)).convert(\"L\")\n",
    "arr = np.asarray(img)\n",
    "arr = arr>0 * 10000\n",
    "\n",
    "arr = np.pad(arr, (1000, 1000), mode=\"constant\", constant_values=0)\n",
    "\n",
    "print(arr.shape)\n",
    "plt.imshow(arr)\n",
    "plt.show()\n",
    "\n",
    "np.save(\"custom/charizard.npy\", arr)\n",
    "\n",
    "fname = config[\"beam\"][\"data\"]\n",
    "loaded = utils.load_np_arr(\"custom/charizard.npy\")\n",
    "\n",
    "plt.imshow(np.abs(loaded), cmap=\"turbo\", aspect=\"auto\")\n",
    "plt.title(\"Charizard (Loaded\")\n",
    "plt.colorbar()\n",
    "plt.show()\n",
    "\n",
    "from scipy import fftpack\n",
    "fft_charizard = fftpack.fft2(arr)\n",
    "\n",
    "plt.imshow(abs(fft_charizard)**2, cmap=\"turbo\")\n",
    "plt.show()\n",
    "\n",
    "np.save(\"custom/fft_charizard.npy\", fft_charizard)\n"
   ]
  },
  {
   "cell_type": "code",
   "execution_count": null,
   "metadata": {},
   "outputs": [],
   "source": []
  },
  {
   "cell_type": "markdown",
   "metadata": {},
   "source": [
    "### Vectorisation Upgrade\n",
    "Convert the propagate wavefront function use vectorised dask calculation. Measure performance"
   ]
  },
  {
   "cell_type": "code",
   "execution_count": 100,
   "metadata": {},
   "outputs": [
    {
     "name": "stdout",
     "output_type": "stream",
     "text": [
      "The autoreload extension is already loaded. To reload it, use:\n",
      "  %reload_ext autoreload\n"
     ]
    }
   ],
   "source": [
    "%load_ext autoreload\n",
    "%autoreload 2\n",
    "\n",
    "from lens_simulation import utils, plotting\n",
    "from lens_simulation.Medium import Medium\n",
    "from lens_simulation.Simulation import Simulation, calculate_stage_phase, calculate_wavefront_v2, generate_sq_freq_arr, propagate_wavefront_v2\n",
    "from pprint import pprint\n",
    "import matplotlib.pyplot as plt\n",
    "import numpy as np\n",
    "\n",
    "import os\n",
    "\n",
    "# vector version\n",
    "\n",
    "# TODO: dask\n",
    "# notes: slightly faster ... :(\n",
    "\n",
    "\n",
    "\n",
    "\n",
    "def run_sim_test(vector):\n",
    "    config = utils.load_config(\"example/sim_focus_2d.yaml\")\n",
    "    config[\"log_dir\"] = \"test\"\n",
    "\n",
    "    sim = Simulation(config)\n",
    "    options = sim.options\n",
    "    parameters = sim.parameters\n",
    "\n",
    "    for stage in sim.sim_stages:\n",
    "\n",
    "        if stage.wavefront is not None:\n",
    "            propagation = stage.wavefront\n",
    "\n",
    "        previous_wavefront = propagation\n",
    "\n",
    "        # calculate stage phase profile\n",
    "        phase = calculate_stage_phase(stage, parameters)\n",
    "\n",
    "        # electric field (wavefront)\n",
    "        amplitude: float = parameters.A if stage._id == 0 else 1.0\n",
    "        wavefront = calculate_wavefront_v2(\n",
    "            phase=phase,\n",
    "            previous_wavefront=previous_wavefront,\n",
    "            A=amplitude,\n",
    "            aperture=stage.lens.aperture,\n",
    "        )\n",
    "\n",
    "        ## propagate wavefront\n",
    "        if vector:\n",
    "            result = propagate_wavefront_v3(wavefront=wavefront, \n",
    "                                stage=stage, \n",
    "                                parameters=parameters, \n",
    "                                options=options)\n",
    "        else:\n",
    "            result = propagate_wavefront_v2(wavefront=wavefront, \n",
    "                    stage=stage, \n",
    "                    parameters=parameters, \n",
    "                    options=options)\n",
    "        \n",
    "        propagation = result.propagation\n",
    "\n",
    "    utils.save_metadata(config, options.log_dir)\n",
    "\n",
    "\n",
    "\n"
   ]
  },
  {
   "cell_type": "code",
   "execution_count": 101,
   "metadata": {},
   "outputs": [
    {
     "name": "stderr",
     "output_type": "stream",
     "text": [
      "                                                                                                   "
     ]
    },
    {
     "name": "stdout",
     "output_type": "stream",
     "text": [
      "22.3 s ± 794 ms per loop (mean ± std. dev. of 7 runs, 1 loop each)\n"
     ]
    },
    {
     "name": "stderr",
     "output_type": "stream",
     "text": [
      "\r"
     ]
    }
   ],
   "source": [
    "%timeit run_sim_test(vector=False)\n"
   ]
  },
  {
   "cell_type": "code",
   "execution_count": 102,
   "metadata": {},
   "outputs": [
    {
     "name": "stdout",
     "output_type": "stream",
     "text": [
      "21.8 s ± 407 ms per loop (mean ± std. dev. of 7 runs, 1 loop each)\n"
     ]
    }
   ],
   "source": [
    "%timeit run_sim_test(vector=True)"
   ]
  },
  {
   "cell_type": "code",
   "execution_count": null,
   "metadata": {},
   "outputs": [],
   "source": []
  }
 ],
 "metadata": {
  "interpreter": {
   "hash": "e02cff3bbd039842ce3f743c0fb602c20a11e2fd1dd75e38e8f89ff88823b7b6"
  },
  "kernelspec": {
   "display_name": "Python 3.8.13 ('lens_sim')",
   "language": "python",
   "name": "python3"
  },
  "language_info": {
   "codemirror_mode": {
    "name": "ipython",
    "version": 3
   },
   "file_extension": ".py",
   "mimetype": "text/x-python",
   "name": "python",
   "nbconvert_exporter": "python",
   "pygments_lexer": "ipython3",
   "version": "3.8.13"
  },
  "orig_nbformat": 4
 },
 "nbformat": 4,
 "nbformat_minor": 2
}
