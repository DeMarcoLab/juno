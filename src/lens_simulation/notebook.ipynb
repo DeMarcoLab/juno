{
 "cells": [
  {
   "cell_type": "markdown",
   "metadata": {},
   "source": [
    "# Notebook\n",
    "Notebook for prototyping and experimenting. "
   ]
  },
  {
   "cell_type": "code",
   "execution_count": null,
   "metadata": {},
   "outputs": [],
   "source": []
  },
  {
   "cell_type": "markdown",
   "metadata": {},
   "source": [
    "### New Simulation Config\n"
   ]
  },
  {
   "cell_type": "code",
   "execution_count": null,
   "metadata": {},
   "outputs": [],
   "source": [
    "\n",
    "beam_settings = load_beam_config(config[\"beam\"])\n",
    "\n",
    "lenses = [load_lens_config(lc) for lc in config[\"lenses\"]]\n",
    "stages = [load_sim_stage_config(sc) for sc in config[\"stages\"]]\n",
    "\n",
    "options = generate_simulation_options(config, \"log\")\n",
    "parameters = generate_simulation_parameters(config)\n",
    "\n",
    "\n",
    "sim_config = SimulationConfig(\n",
    "    beam=beam_settings,\n",
    "    lenses=lenses,\n",
    "    stages=stages,\n",
    "    parameters=parameters,\n",
    "    options=options\n",
    ")\n",
    "\n",
    "\n",
    "print(\"SIM CONFIG:\")\n",
    "pprint(sim_config.beam)\n",
    "print(\"-\"*50)\n",
    "pprint(sim_config.lenses)\n",
    "print(\"-\"*50)\n",
    "pprint(sim_config.stages)\n",
    "print(\"-\"*50)\n",
    "pprint(sim_config.parameters)\n",
    "print(\"-\"*50)\n",
    "pprint(sim_config.options)\n",
    "\n"
   ]
  },
  {
   "cell_type": "code",
   "execution_count": null,
   "metadata": {},
   "outputs": [],
   "source": []
  },
  {
   "cell_type": "markdown",
   "metadata": {},
   "source": [
    "### DASK Experiments\n"
   ]
  },
  {
   "cell_type": "code",
   "execution_count": null,
   "metadata": {},
   "outputs": [],
   "source": [
    "import time\n",
    "import dask\n",
    "\n",
    "\n",
    "@dask.delayed\n",
    "def inc(x):\n",
    "    time.sleep(1)\n",
    "    return x + 1\n",
    "\n",
    "@dask.delayed\n",
    "def add(x, y):\n",
    "    time.sleep(1)\n",
    "    return x + y"
   ]
  },
  {
   "cell_type": "code",
   "execution_count": null,
   "metadata": {},
   "outputs": [],
   "source": [
    "%%time\n",
    "\n",
    "a = inc(1)\n",
    "b = inc(1)\n",
    "c = add(a, b)\n",
    "c.visualize(\"mydask.png\")\n",
    "# c.dask\n",
    "# c = c.compute()\n"
   ]
  },
  {
   "cell_type": "code",
   "execution_count": null,
   "metadata": {},
   "outputs": [],
   "source": [
    "import zarr\n",
    "\n",
    "arr = zarr.ones(shape=(100, 10000, 10000))\n",
    "\n",
    "import dask.array as da\n",
    "\n",
    "darr = da.from_zarr(arr) * np.arange(arr.shape[1])\n",
    "\n",
    "import matplotlib.pyplot as plt\n",
    "\n",
    "plt.imshow(darr[0, :, :])\n",
    "plt.show()"
   ]
  },
  {
   "cell_type": "markdown",
   "metadata": {},
   "source": [
    "### Custom Config\n",
    "\n",
    "Load a custom config from key (allows for sweeping configs)\n"
   ]
  },
  {
   "cell_type": "code",
   "execution_count": null,
   "metadata": {},
   "outputs": [],
   "source": [
    "%load_ext autoreload\n",
    "%autoreload 2\n",
    "from lens_simulation import utils, validation, Simulation, SimulationRunner\n",
    "from pprint import pprint\n",
    "\n",
    "from lens_simulation.Lens import generate_lens\n",
    "from lens_simulation.Medium import Medium\n",
    "\n",
    "config = utils.load_config(\"config_minimum.yaml\")\n",
    "config[\"log_dir\"] = \"log\"\n",
    "\n",
    "\n",
    "sim_runner = SimulationRunner.SimulationRunner(\"config.yaml\")\n",
    "sim_runner.setup_simulation()\n",
    "\n",
    "conf_1 = sim_runner.simulation_configurations[0]\n",
    "for conf in sim_runner.simulation_configurations:\n",
    "\n",
    "    pprint(conf)\n",
    "    print(\"------------ AFTER -------------- \")\n",
    "    sim = Simulation.Simulation(conf)\n"
   ]
  },
  {
   "cell_type": "markdown",
   "metadata": {},
   "source": [
    "### Mega Stack\n",
    "Stack multiple simulations together for synchronised visualisation\n"
   ]
  },
  {
   "cell_type": "code",
   "execution_count": 156,
   "metadata": {},
   "outputs": [
    {
     "name": "stdout",
     "output_type": "stream",
     "text": [
      "The autoreload extension is already loaded. To reload it, use:\n",
      "  %reload_ext autoreload\n",
      "stackable:  False\n"
     ]
    },
    {
     "ename": "ValueError",
     "evalue": "('Shapes do not align: %s', [(110, 2001, 2001), (110, 2001, 2001), (110, 2001, 2001), (40, 2001, 2001)])",
     "output_type": "error",
     "traceback": [
      "\u001b[1;31m---------------------------------------------------------------------------\u001b[0m",
      "\u001b[1;31mValueError\u001b[0m                                Traceback (most recent call last)",
      "\u001b[1;32mc:\\Users\\pcle0002\\Documents\\repos\\lens_simulation\\src\\lens_simulation\\notebook.ipynb Cell 13'\u001b[0m in \u001b[0;36m<cell line: 46>\u001b[1;34m()\u001b[0m\n\u001b[0;32m     <a href='vscode-notebook-cell:/c%3A/Users/pcle0002/Documents/repos/lens_simulation/src/lens_simulation/notebook.ipynb#ch0000013?line=41'>42</a>\u001b[0m     mega \u001b[39m=\u001b[39m da\u001b[39m.\u001b[39mhstack(data)\n\u001b[0;32m     <a href='vscode-notebook-cell:/c%3A/Users/pcle0002/Documents/repos/lens_simulation/src/lens_simulation/notebook.ipynb#ch0000013?line=43'>44</a>\u001b[0m     \u001b[39mreturn\u001b[39;00m mega\n\u001b[1;32m---> <a href='vscode-notebook-cell:/c%3A/Users/pcle0002/Documents/repos/lens_simulation/src/lens_simulation/notebook.ipynb#ch0000013?line=45'>46</a>\u001b[0m mega \u001b[39m=\u001b[39m load_multi_simulations(paths)\n\u001b[0;32m     <a href='vscode-notebook-cell:/c%3A/Users/pcle0002/Documents/repos/lens_simulation/src/lens_simulation/notebook.ipynb#ch0000013?line=46'>47</a>\u001b[0m \u001b[39mprint\u001b[39m(\u001b[39m\"\u001b[39m\u001b[39mfinal: \u001b[39m\u001b[39m\"\u001b[39m, mega\u001b[39m.\u001b[39mshape)\n\u001b[0;32m     <a href='vscode-notebook-cell:/c%3A/Users/pcle0002/Documents/repos/lens_simulation/src/lens_simulation/notebook.ipynb#ch0000013?line=48'>49</a>\u001b[0m mega_view \u001b[39m=\u001b[39m plotting\u001b[39m.\u001b[39mslice_simulation_view(mega)\n",
      "\u001b[1;32mc:\\Users\\pcle0002\\Documents\\repos\\lens_simulation\\src\\lens_simulation\\notebook.ipynb Cell 13'\u001b[0m in \u001b[0;36mload_multi_simulations\u001b[1;34m(paths)\u001b[0m\n\u001b[0;32m     <a href='vscode-notebook-cell:/c%3A/Users/pcle0002/Documents/repos/lens_simulation/src/lens_simulation/notebook.ipynb#ch0000013?line=38'>39</a>\u001b[0m     sim \u001b[39m=\u001b[39m plotting\u001b[39m.\u001b[39mload_full_sim_propagation_v3(p)\n\u001b[0;32m     <a href='vscode-notebook-cell:/c%3A/Users/pcle0002/Documents/repos/lens_simulation/src/lens_simulation/notebook.ipynb#ch0000013?line=39'>40</a>\u001b[0m     data\u001b[39m.\u001b[39mappend(sim)\n\u001b[1;32m---> <a href='vscode-notebook-cell:/c%3A/Users/pcle0002/Documents/repos/lens_simulation/src/lens_simulation/notebook.ipynb#ch0000013?line=41'>42</a>\u001b[0m mega \u001b[39m=\u001b[39m da\u001b[39m.\u001b[39;49mhstack(data)\n\u001b[0;32m     <a href='vscode-notebook-cell:/c%3A/Users/pcle0002/Documents/repos/lens_simulation/src/lens_simulation/notebook.ipynb#ch0000013?line=43'>44</a>\u001b[0m \u001b[39mreturn\u001b[39;00m mega\n",
      "File \u001b[1;32mc:\\Users\\pcle0002\\Miniconda3\\envs\\lens_sim\\lib\\site-packages\\dask\\array\\routines.py:148\u001b[0m, in \u001b[0;36mhstack\u001b[1;34m(tup, allow_unknown_chunksizes)\u001b[0m\n\u001b[0;32m    144\u001b[0m     \u001b[39mreturn\u001b[39;00m concatenate(\n\u001b[0;32m    145\u001b[0m         tup, axis\u001b[39m=\u001b[39m\u001b[39m0\u001b[39m, allow_unknown_chunksizes\u001b[39m=\u001b[39mallow_unknown_chunksizes\n\u001b[0;32m    146\u001b[0m     )\n\u001b[0;32m    147\u001b[0m \u001b[39melse\u001b[39;00m:\n\u001b[1;32m--> 148\u001b[0m     \u001b[39mreturn\u001b[39;00m concatenate(\n\u001b[0;32m    149\u001b[0m         tup, axis\u001b[39m=\u001b[39;49m\u001b[39m1\u001b[39;49m, allow_unknown_chunksizes\u001b[39m=\u001b[39;49mallow_unknown_chunksizes\n\u001b[0;32m    150\u001b[0m     )\n",
      "File \u001b[1;32mc:\\Users\\pcle0002\\Miniconda3\\envs\\lens_sim\\lib\\site-packages\\dask\\array\\core.py:4111\u001b[0m, in \u001b[0;36mconcatenate\u001b[1;34m(seq, axis, allow_unknown_chunksizes)\u001b[0m\n\u001b[0;32m   4102\u001b[0m     \u001b[39mif\u001b[39;00m \u001b[39many\u001b[39m(\u001b[39mmap\u001b[39m(np\u001b[39m.\u001b[39misnan, seq2[\u001b[39m0\u001b[39m]\u001b[39m.\u001b[39mshape)):\n\u001b[0;32m   4103\u001b[0m         \u001b[39mraise\u001b[39;00m \u001b[39mValueError\u001b[39;00m(\n\u001b[0;32m   4104\u001b[0m             \u001b[39m\"\u001b[39m\u001b[39mTried to concatenate arrays with unknown\u001b[39m\u001b[39m\"\u001b[39m\n\u001b[0;32m   4105\u001b[0m             \u001b[39m\"\u001b[39m\u001b[39m shape \u001b[39m\u001b[39m%s\u001b[39;00m\u001b[39m.\u001b[39m\u001b[39m\\n\u001b[39;00m\u001b[39m\\n\u001b[39;00m\u001b[39mTwo solutions:\u001b[39m\u001b[39m\\n\u001b[39;00m\u001b[39m\"\u001b[39m\n\u001b[1;32m   (...)\u001b[0m\n\u001b[0;32m   4109\u001b[0m             \u001b[39m\"\u001b[39m\u001b[39m[x.compute_chunk_sizes() for x in seq]\u001b[39m\u001b[39m\"\u001b[39m \u001b[39m%\u001b[39m \u001b[39mstr\u001b[39m(seq2[\u001b[39m0\u001b[39m]\u001b[39m.\u001b[39mshape)\n\u001b[0;32m   4110\u001b[0m         )\n\u001b[1;32m-> 4111\u001b[0m     \u001b[39mraise\u001b[39;00m \u001b[39mValueError\u001b[39;00m(\u001b[39m\"\u001b[39m\u001b[39mShapes do not align: \u001b[39m\u001b[39m%s\u001b[39;00m\u001b[39m\"\u001b[39m, [x\u001b[39m.\u001b[39mshape \u001b[39mfor\u001b[39;00m x \u001b[39min\u001b[39;00m seq2])\n\u001b[0;32m   4113\u001b[0m inds \u001b[39m=\u001b[39m [\u001b[39mlist\u001b[39m(\u001b[39mrange\u001b[39m(ndim)) \u001b[39mfor\u001b[39;00m i \u001b[39min\u001b[39;00m \u001b[39mrange\u001b[39m(n)]\n\u001b[0;32m   4114\u001b[0m \u001b[39mfor\u001b[39;00m i, ind \u001b[39min\u001b[39;00m \u001b[39menumerate\u001b[39m(inds):\n",
      "\u001b[1;31mValueError\u001b[0m: ('Shapes do not align: %s', [(110, 2001, 2001), (110, 2001, 2001), (110, 2001, 2001), (40, 2001, 2001)])"
     ]
    }
   ],
   "source": [
    "%load_ext autoreload\n",
    "%autoreload 2\n",
    "\n",
    "from lens_simulation import utils, plotting\n",
    "import matplotlib.pyplot as plt\n",
    "import numpy as np\n",
    "\n",
    "import dask.array as da\n",
    "import os\n",
    "\n",
    "paths = [\n",
    "    r\"C:\\Users\\pcle0002\\Documents\\repos\\lens_simulation\\src\\lens_simulation\\example\\tutorial_simulation_results\\active-shark\",\n",
    "    r\"C:\\Users\\pcle0002\\Documents\\repos\\lens_simulation\\src\\lens_simulation\\example\\tutorial_simulation_results\\fit-jennet\",\n",
    "    r\"C:\\Users\\pcle0002\\Documents\\repos\\lens_simulation\\src\\lens_simulation\\example\\tutorial_simulation_results\\moral-skink\",\n",
    "    ]\n",
    "\n",
    "\n",
    "\n",
    "mega = load_multi_simulations(paths)\n",
    "print(\"final: \", mega.shape)\n",
    "\n",
    "mega_view = plotting.slice_simulation_view(mega)\n",
    "plt.imshow(mega_view, cmap=\"turbo\", aspect=\"auto\")\n",
    "plt.show()\n"
   ]
  },
  {
   "cell_type": "code",
   "execution_count": 149,
   "metadata": {},
   "outputs": [
    {
     "name": "stderr",
     "output_type": "stream",
     "text": [
      "c:\\Users\\pcle0002\\Miniconda3\\envs\\lens_sim\\lib\\site-packages\\napari_tools_menu\\__init__.py:179: FutureWarning: Public access to Window.qt_viewer is deprecated and will be removed in\n",
      "v0.5.0. It is considered an \"implementation detail\" of the napari\n",
      "application, not part of the napari viewer model. If your use case\n",
      "requires access to qt_viewer, please open an issue to discuss.\n",
      "  self.tools_menu = ToolsMenu(self, self.qt_viewer.viewer)\n",
      "WARNING: QWindowsWindow::setGeometry: Unable to set geometry 1935x1288+1920+45 (frame: 1951x1327+1912+14) on QWidgetWindow/\"_QtMainWindowClassWindow\" on \"\\\\.\\DISPLAY2\". Resulting geometry: 1935x1061+1920+45 (frame: 1951x1100+1912+14) margins: 8, 31, 8, 8 minimum size: 612x557 MINMAXINFO maxSize=0,0 maxpos=0,0 mintrack=628,596 maxtrack=0,0)\n",
      "WARNING:vispy:QWindowsWindow::setGeometry: Unable to set geometry 1935x1288+1920+45 (frame: 1951x1327+1912+14) on QWidgetWindow/\"_QtMainWindowClassWindow\" on \"\\\\.\\DISPLAY2\". Resulting geometry: 1935x1061+1920+45 (frame: 1951x1100+1912+14) margins: 8, 31, 8, 8 minimum size: 612x557 MINMAXINFO maxSize=0,0 maxpos=0,0 mintrack=628,596 maxtrack=0,0)\n"
     ]
    }
   ],
   "source": [
    "import napari\n",
    "from magicgui import magicgui\n",
    "from napari.layers import Image\n",
    "from napari.types import ImageData\n",
    "\n",
    "# create a viewer and add some images\n",
    "viewer = napari.Viewer()\n",
    "viewer.add_image(mega, name=\"simulation\", colormap=\"turbo\", scale=[1, 0.1, 0.1])\n",
    "\n",
    "# turn the gaussian blur function into a magicgui\n",
    "# for details on why the `-> ImageData` return annotation works:\n",
    "# https://napari.org/guides/magicgui.html#return-annotations\n",
    "@magicgui(\n",
    "    # tells magicgui to call the function whenever a parameter changes\n",
    "    auto_call=True,\n",
    "    # `widget_type` to override the default (spinbox) \"float\" widget\n",
    "    prop={\"widget_type\": \"FloatSlider\", \"max\": 1.0},\n",
    "    axis={\"choices\": [0, 1, 2]},\n",
    "    layout=\"horizontal\",\n",
    ")\n",
    "def slice_image(layer: Image, prop: float = 0.5, axis: int = 0) -> ImageData:\n",
    "    \"\"\"Slice the volume along the selected axis\"\"\"\n",
    "    if layer:\n",
    "        return plotting.slice_simulation_view(layer.data, axis=axis, prop=prop)\n",
    "\n",
    "# Add it to the napari viewer\n",
    "# viewer.window.add_dock_widget(slice_image, area=\"bottom\")\n",
    "\n",
    "napari.run()"
   ]
  },
  {
   "cell_type": "code",
   "execution_count": null,
   "metadata": {},
   "outputs": [],
   "source": []
  },
  {
   "cell_type": "markdown",
   "metadata": {},
   "source": [
    "## Electric Field Refactor\n",
    "Restructure the simulation to use electric field propagation rather than lenses\n",
    "\n"
   ]
  },
  {
   "cell_type": "code",
   "execution_count": null,
   "metadata": {},
   "outputs": [],
   "source": [
    "%load_ext autoreload\n",
    "%autoreload 2\n",
    "\n",
    "from lens_simulation import utils, plotting\n",
    "from lens_simulation.beam import generate_beam\n",
    "from lens_simulation.Simulation import (generate_beam_simulation_stage, generate_simulation_parameters, \n",
    "    generate_sq_freq_arr, propagate_over_distance)\n",
    "from lens_simulation import Simulation\n",
    "from pprint import pprint\n",
    "from lens_simulation.Lens import Lens\n",
    "from scipy import fftpack\n",
    "from lens_simulation.structures import SimulationStage, SimulationParameters, SimulationOptions, SimulationResult\n",
    "from tqdm import tqdm\n",
    "import numpy as np\n",
    "import zarr\n",
    "import matplotlib.pyplot as plt\n",
    "\n",
    "path = \"test\"\n",
    "config = utils.load_config(\"example/sim_charizard_2d.yaml\")\n",
    "config[\"log_dir\"] = \"log\"\n",
    "\n",
    "sim = Simulation.Simulation(config)\n",
    "sim.run_simulation()\n",
    "\n",
    "plotting.save_propagation_gif_full(sim.options.log_dir)\n"
   ]
  },
  {
   "cell_type": "code",
   "execution_count": null,
   "metadata": {},
   "outputs": [],
   "source": [
    "from IPython.display import Image\n",
    "\n",
    "plt.close()\n",
    "fig = plotting.plot_sim_propagation_v2(sim.options.log_dir)\n",
    "plt.show()\n",
    "\n",
    "arr = plotting.load_full_sim_propagation_v2(sim.options.log_dir)\n",
    "fig = plt.figure(figsize=(15, 15))\n",
    "plt.imshow(np.flip(arr[-4,:, :]), aspect=\"auto\", cmap=\"turbo\")\n",
    "plt.show()\n",
    "\n",
    "Image(os.path.join(sim.options.log_dir, \"propagation.gif\"))\n",
    "\n"
   ]
  },
  {
   "cell_type": "code",
   "execution_count": null,
   "metadata": {},
   "outputs": [],
   "source": [
    "from lens_simulation.beam import create_gaussian\n",
    "\n",
    "path = \"test\"\n",
    "config = utils.load_config(\"example/sim_gaussian_2d.yaml\")\n",
    "config[\"log_dir\"] = path\n",
    "\n",
    "parameters = generate_simulation_parameters(config)\n",
    "beam_stage = generate_beam_simulation_stage(config, parameters)\n",
    "\n",
    "z0 = 400.e-3\n",
    "r0 = (0, 0)\n",
    "w0 = 40.e-3\n",
    "\n",
    "# parameters.sim_wavelength = 30e-3\n",
    "arr = create_gaussian(r0, w0, z0, parameters=parameters, theta=0, phi=0)\n",
    "\n",
    "print(parameters)\n",
    "\n",
    "plt.imshow(np.abs(arr), cmap=\"turbo\", aspect=\"auto\")\n",
    "plt.title(\"Gaussian\")\n",
    "plt.colorbar()\n",
    "plt.show()\n",
    "\n",
    "np.save(\"custom/gaussian.npy\", arr)\n",
    "\n",
    "fname = config[\"beam\"][\"data\"]\n",
    "loaded = utils.load_np_arr(fname)\n",
    "\n",
    "plt.imshow(np.abs(loaded), cmap=\"turbo\", aspect=\"auto\")\n",
    "plt.title(\"Gaussian (Loaded\")\n",
    "plt.colorbar()\n",
    "plt.show()\n"
   ]
  },
  {
   "cell_type": "code",
   "execution_count": null,
   "metadata": {},
   "outputs": [],
   "source": [
    "from PIL import Image\n",
    "# star https://www.freeiconspng.com/images/white-star-icon\n",
    "#fair use charizard https://en.wikipedia.org/wiki/Charizard#/media/File:Pok%C3%A9mon_Charizard_art.png\n",
    "img = Image.open(\"custom/charizard.png\")\n",
    "img = img.resize((501, 501)).convert(\"L\")\n",
    "arr = np.asarray(img)\n",
    "arr = arr>0 * 10000\n",
    "\n",
    "arr = np.pad(arr, (1000, 1000), mode=\"constant\", constant_values=0)\n",
    "\n",
    "print(arr.shape)\n",
    "plt.imshow(arr)\n",
    "plt.show()\n",
    "\n",
    "np.save(\"custom/charizard.npy\", arr)\n",
    "\n",
    "fname = config[\"beam\"][\"data\"]\n",
    "loaded = utils.load_np_arr(\"custom/charizard.npy\")\n",
    "\n",
    "plt.imshow(np.abs(loaded), cmap=\"turbo\", aspect=\"auto\")\n",
    "plt.title(\"Charizard (Loaded\")\n",
    "plt.colorbar()\n",
    "plt.show()\n",
    "\n",
    "from scipy import fftpack\n",
    "fft_charizard = fftpack.fft2(arr)\n",
    "\n",
    "plt.imshow(abs(fft_charizard)**2, cmap=\"turbo\")\n",
    "plt.show()\n",
    "\n",
    "np.save(\"custom/fft_charizard.npy\", fft_charizard)\n"
   ]
  },
  {
   "cell_type": "code",
   "execution_count": null,
   "metadata": {},
   "outputs": [],
   "source": []
  },
  {
   "cell_type": "markdown",
   "metadata": {},
   "source": [
    "### Naming SImulations\n"
   ]
  },
  {
   "cell_type": "code",
   "execution_count": 43,
   "metadata": {},
   "outputs": [
    {
     "name": "stderr",
     "output_type": "stream",
     "text": [
      "2022-07-05 16:24:44,058 | root | INFO | create_logging_directory:42 | A simulation of the name humbly-sure-turkey already exists. Incrementing name...\n",
      "2022-07-05 16:24:44,059 | root | INFO | create_logging_directory:42 | A simulation of the name humbly-sure-turkey_01 already exists. Incrementing name...\n",
      "2022-07-05 16:24:44,060 | root | INFO | create_logging_directory:42 | A simulation of the name humbly-sure-turkey_02 already exists. Incrementing name...\n",
      "2022-07-05 16:24:44,061 | root | INFO | create_logging_directory:42 | A simulation of the name humbly-sure-turkey_03 already exists. Incrementing name...\n",
      "2022-07-05 16:24:44,063 | root | INFO | create_logging_directory:42 | A simulation of the name humbly-sure-turkey_04 already exists. Incrementing name...\n",
      "2022-07-05 16:24:44,064 | root | INFO | create_logging_directory:42 | A simulation of the name humbly-sure-turkey_05 already exists. Incrementing name...\n",
      "2022-07-05 16:24:44,066 | root | INFO | create_logging_directory:42 | A simulation of the name humbly-sure-turkey_06 already exists. Incrementing name...\n",
      "2022-07-05 16:24:44,068 | root | INFO | create_logging_directory:42 | A simulation of the name humbly-sure-turkey_07 already exists. Incrementing name...\n",
      "2022-07-05 16:24:44,070 | root | INFO | create_logging_directory:49 | A simulation run humbly-sure-turkey_08 has been created at log\\humbly-sure-turkey_08.\n"
     ]
    },
    {
     "name": "stdout",
     "output_type": "stream",
     "text": [
      "The autoreload extension is already loaded. To reload it, use:\n",
      "  %reload_ext autoreload\n",
      "{'debug': False,\n",
      " 'log_dir': 'log',\n",
      " 'name': 'humbly-sure-turkey',\n",
      " 'save_plot': True}\n"
     ]
    },
    {
     "data": {
      "text/plain": [
       "'humbly-sure-turkey_08'"
      ]
     },
     "execution_count": 43,
     "metadata": {},
     "output_type": "execute_result"
    }
   ],
   "source": [
    "%load_ext autoreload\n",
    "%autoreload 2\n",
    "\n",
    "from lens_simulation import utils, plotting\n",
    "from lens_simulation import Simulation\n",
    "from pprint import pprint\n",
    "from lens_simulation.Lens import Lens\n",
    "from scipy import fftpack\n",
    "from lens_simulation.structures import SimulationStage, SimulationParameters, SimulationOptions, SimulationResult\n",
    "from tqdm import tqdm\n",
    "import numpy as np\n",
    "import zarr\n",
    "import matplotlib.pyplot as plt\n",
    "from lens_simulation import SimulationRunner\n",
    "\n",
    "from lens_simulation.run_simulation import main\n",
    "\n",
    "config = utils.load_config(\"config.yaml\")\n",
    "\n",
    "pprint(config[\"options\"])\n",
    "sim_runner = SimulationRunner.SimulationRunner(\"config.yaml\")\n",
    "sim_runner.petname"
   ]
  },
  {
   "cell_type": "code",
   "execution_count": null,
   "metadata": {},
   "outputs": [],
   "source": []
  },
  {
   "cell_type": "code",
   "execution_count": 92,
   "metadata": {},
   "outputs": [
    {
     "data": {
      "image/png": "[encoded data removed]",
      "text/plain": [
       "<Figure size 432x288 with 2 Axes>"
      ]
     },
     "metadata": {},
     "output_type": "display_data"
    },
    {
     "name": "stdout",
     "output_type": "stream",
     "text": [
      "0.0 88.44\n"
     ]
    },
    {
     "data": {
      "image/png": "[encoded data removed]",
      "text/plain": [
       "<Figure size 432x288 with 1 Axes>"
      ]
     },
     "metadata": {
      "needs_background": "light"
     },
     "output_type": "display_data"
    },
    {
     "name": "stdout",
     "output_type": "stream",
     "text": [
      "(88, 331, 331)\n"
     ]
    }
   ],
   "source": [
    "\n",
    "from lens_simulation.Lens import generate_lens\n",
    "from lens_simulation.Medium import Medium\n",
    "\n",
    "config = utils.load_config(\"config.yaml\")\n",
    "\n",
    "lens = generate_lens(config[\"lenses\"][0], Medium(2.348), 1e-6)\n",
    "\n",
    "plotting.plot_lens_profile_2D(lens)\n",
    "plt.show()\n",
    "\n",
    "lens_profile = lens.profile * 10e6\n",
    "lens_profile = lens_profile * lens.aperture\n",
    "print(np.min(lens_profile), np.max(lens_profile))\n",
    "\n",
    "\n",
    "l_max = int(np.max(lens_profile))\n",
    "arr3d = np.zeros(shape=(l_max, lens_profile.shape[0], lens_profile.shape[1]))\n",
    "\n",
    "for y in range(lens.profile.shape[0]):\n",
    "    for x in range(lens.profile.shape[1]):\n",
    "        height = int(lens_profile[y, x])\n",
    "        arr3d[height:, y, x] = 1\n",
    "\n",
    "\n",
    "arr3d[arr3d == 0] == np.nan\n",
    "\n",
    "\n",
    "plt.imshow(arr3d[0, :, :])\n",
    "plt.show()\n",
    "\n",
    "\n",
    "print(arr3d.shape)\n",
    "# https://stackoverflow.com/questions/59851954/numpy-use-2d-array-as-heightmap-like-index-for-3d-array"
   ]
  },
  {
   "cell_type": "code",
   "execution_count": 96,
   "metadata": {},
   "outputs": [
    {
     "name": "stderr",
     "output_type": "stream",
     "text": [
      "c:\\Users\\pcle0002\\Miniconda3\\envs\\lens_sim\\lib\\site-packages\\napari_tools_menu\\__init__.py:179: FutureWarning: Public access to Window.qt_viewer is deprecated and will be removed in\n",
      "v0.5.0. It is considered an \"implementation detail\" of the napari\n",
      "application, not part of the napari viewer model. If your use case\n",
      "requires access to qt_viewer, please open an issue to discuss.\n",
      "  self.tools_menu = ToolsMenu(self, self.qt_viewer.viewer)\n"
     ]
    }
   ],
   "source": [
    "import napari\n",
    "from magicgui import magicgui\n",
    "from napari.layers import Image\n",
    "from napari.types import ImageData\n",
    "\n",
    "# create a viewer and add some images\n",
    "viewer = napari.Viewer(ndisplay=3)\n",
    "viewer.add_image(arr3d, name=\"lens\", colormap=\"turbo\", rendering=\"average\", scale=[1, 1, 1], depiction=\"volume\")\n",
    "\n",
    "napari.run()"
   ]
  },
  {
   "cell_type": "code",
   "execution_count": null,
   "metadata": {},
   "outputs": [],
   "source": []
  }
 ],
 "metadata": {
  "interpreter": {
   "hash": "e02cff3bbd039842ce3f743c0fb602c20a11e2fd1dd75e38e8f89ff88823b7b6"
  },
  "kernelspec": {
   "display_name": "Python 3.8.13 ('lens_sim')",
   "language": "python",
   "name": "python3"
  },
  "language_info": {
   "codemirror_mode": {
    "name": "ipython",
    "version": 3
   },
   "file_extension": ".py",
   "mimetype": "text/x-python",
   "name": "python",
   "nbconvert_exporter": "python",
   "pygments_lexer": "ipython3",
   "version": "3.8.13"
  },
  "orig_nbformat": 4
 },
 "nbformat": 4,
 "nbformat_minor": 2
}
