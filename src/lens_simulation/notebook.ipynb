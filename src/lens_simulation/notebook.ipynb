{
 "cells": [
  {
   "cell_type": "markdown",
   "metadata": {},
   "source": [
    "# Notebook\n",
    "Notebook for prototyping and experimenting. "
   ]
  },
  {
   "cell_type": "code",
   "execution_count": null,
   "metadata": {},
   "outputs": [],
   "source": []
  },
  {
   "cell_type": "markdown",
   "metadata": {},
   "source": [
    "### New Simulation Config\n"
   ]
  },
  {
   "cell_type": "code",
   "execution_count": null,
   "metadata": {},
   "outputs": [],
   "source": [
    "\n",
    "beam_settings = load_beam_config(config[\"beam\"])\n",
    "\n",
    "lenses = [load_lens_config(lc) for lc in config[\"lenses\"]]\n",
    "stages = [load_sim_stage_config(sc) for sc in config[\"stages\"]]\n",
    "\n",
    "options = generate_simulation_options(config, \"log\")\n",
    "parameters = generate_simulation_parameters(config)\n",
    "\n",
    "\n",
    "sim_config = SimulationConfig(\n",
    "    beam=beam_settings,\n",
    "    lenses=lenses,\n",
    "    stages=stages,\n",
    "    parameters=parameters,\n",
    "    options=options\n",
    ")\n",
    "\n",
    "\n",
    "print(\"SIM CONFIG:\")\n",
    "pprint(sim_config.beam)\n",
    "print(\"-\"*50)\n",
    "pprint(sim_config.lenses)\n",
    "print(\"-\"*50)\n",
    "pprint(sim_config.stages)\n",
    "print(\"-\"*50)\n",
    "pprint(sim_config.parameters)\n",
    "print(\"-\"*50)\n",
    "pprint(sim_config.options)\n",
    "\n"
   ]
  },
  {
   "cell_type": "code",
   "execution_count": null,
   "metadata": {},
   "outputs": [],
   "source": []
  },
  {
   "cell_type": "markdown",
   "metadata": {},
   "source": [
    "### DASK Experiments\n"
   ]
  },
  {
   "cell_type": "code",
   "execution_count": null,
   "metadata": {},
   "outputs": [],
   "source": [
    "import time\n",
    "import dask\n",
    "\n",
    "\n",
    "@dask.delayed\n",
    "def inc(x):\n",
    "    time.sleep(1)\n",
    "    return x + 1\n",
    "\n",
    "@dask.delayed\n",
    "def add(x, y):\n",
    "    time.sleep(1)\n",
    "    return x + y"
   ]
  },
  {
   "cell_type": "code",
   "execution_count": null,
   "metadata": {},
   "outputs": [],
   "source": [
    "%%time\n",
    "\n",
    "a = inc(1)\n",
    "b = inc(1)\n",
    "c = add(a, b)\n",
    "c.visualize(\"mydask.png\")\n",
    "# c.dask\n",
    "# c = c.compute()\n"
   ]
  },
  {
   "cell_type": "code",
   "execution_count": null,
   "metadata": {},
   "outputs": [],
   "source": [
    "import zarr\n",
    "\n",
    "arr = zarr.ones(shape=(100, 10000, 10000))\n",
    "\n",
    "import dask.array as da\n",
    "\n",
    "darr = da.from_zarr(arr) * np.arange(arr.shape[1])\n",
    "\n",
    "import matplotlib.pyplot as plt\n",
    "\n",
    "plt.imshow(darr[0, :, :])\n",
    "plt.show()"
   ]
  },
  {
   "cell_type": "markdown",
   "metadata": {},
   "source": [
    "### Custom Config\n",
    "\n",
    "Load a custom config from key (allows for sweeping configs)\n"
   ]
  },
  {
   "cell_type": "code",
   "execution_count": 34,
   "metadata": {},
   "outputs": [
    {
     "name": "stdout",
     "output_type": "stream",
     "text": [
      "The autoreload extension is already loaded. To reload it, use:\n",
      "  %reload_ext autoreload\n",
      "{'beam': {'distance_mode': 'Direct',\n",
      "          'final_diameter': None,\n",
      "          'final_diameter_step': None,\n",
      "          'final_diameter_stop': None,\n",
      "          'focal_multiple': None,\n",
      "          'focal_multiple_step': None,\n",
      "          'focal_multiple_stop': None,\n",
      "          'height': 0.0003,\n",
      "          'height_step': None,\n",
      "          'height_stop': None,\n",
      "          'n_steps': 2,\n",
      "          'numerical_aperture': None,\n",
      "          'numerical_aperture_step': None,\n",
      "          'numerical_aperture_stop': None,\n",
      "          'output_medium': 1.0,\n",
      "          'position_x': 0.0,\n",
      "          'position_x_step': None,\n",
      "          'position_x_stop': None,\n",
      "          'position_y': 0.0,\n",
      "          'position_y_step': None,\n",
      "          'position_y_stop': None,\n",
      "          'shape': 'Rectangular',\n",
      "          'source_distance': 0.0001,\n",
      "          'source_distance_step': None,\n",
      "          'source_distance_stop': None,\n",
      "          'spread': 'Plane',\n",
      "          'step_size': 0,\n",
      "          'theta': 0.0,\n",
      "          'theta_step': None,\n",
      "          'theta_stop': None,\n",
      "          'tilt_x': 0.0,\n",
      "          'tilt_x_step': None,\n",
      "          'tilt_x_stop': None,\n",
      "          'tilt_y': 0.0,\n",
      "          'tilt_y_step': None,\n",
      "          'tilt_y_stop': None,\n",
      "          'width': 0.0003,\n",
      "          'width_step': None,\n",
      "          'width_stop': None},\n",
      " 'lenses': [{'aperture': None,\n",
      "             'custom': None,\n",
      "             'custom_config': 'C:\\\\Users\\\\pcle0002\\\\Documents\\\\repos\\\\lens_simulation\\\\src\\\\lens_simulation\\\\custom\\\\custom_lens.yaml',\n",
      "             'diameter': 0.0003,\n",
      "             'diameter_step': None,\n",
      "             'diameter_stop': None,\n",
      "             'escape_path': None,\n",
      "             'exponent': 2.0,\n",
      "             'exponent_step': None,\n",
      "             'exponent_stop': None,\n",
      "             'grating': None,\n",
      "             'height': 1e-05,\n",
      "             'height_step': None,\n",
      "             'height_stop': None,\n",
      "             'inverted': False,\n",
      "             'length': None,\n",
      "             'lens_type': 'Cylindrical',\n",
      "             'medium': 2.348,\n",
      "             'medium_step': None,\n",
      "             'medium_stop': None,\n",
      "             'name': 'lens_1',\n",
      "             'truncation': None}],\n",
      " 'log_dir': 'c:\\\\users\\\\pcle0002\\\\documents\\\\repos\\\\lens_simulation\\\\src\\\\lens_simulation\\\\log\\\\wholly-ideal-dane',\n",
      " 'options': {'debug': False,\n",
      "             'log_dir': 'log',\n",
      "             'save': True,\n",
      "             'save_plot': True,\n",
      "             'verbose': False},\n",
      " 'run_id': UUID('4872476e-7ab0-4799-8e32-6744fd4cfbb8'),\n",
      " 'run_petname': 'wholly-ideal-dane',\n",
      " 'sim_parameters': {'A': 10000,\n",
      "                    'pixel_size': 1e-06,\n",
      "                    'sim_height': 0.0003,\n",
      "                    'sim_wavelength': 4.88e-07,\n",
      "                    'sim_width': 0.0003},\n",
      " 'stages': [{'finish_distance': 0.0002,\n",
      "             'finish_distance_step': None,\n",
      "             'finish_distance_stop': None,\n",
      "             'focal_distance_multiple': 1.0,\n",
      "             'focal_distance_multiple_step': None,\n",
      "             'focal_distance_multiple_stop': None,\n",
      "             'focal_distance_start_multiple': 0,\n",
      "             'focal_distance_start_multiple_step': None,\n",
      "             'focal_distance_start_multiple_stop': None,\n",
      "             'lens': 'lens_custom',\n",
      "             'n_steps': 100,\n",
      "             'output': 1.33,\n",
      "             'output_step': None,\n",
      "             'output_stop': None,\n",
      "             'start_distance': 0.00016,\n",
      "             'start_distance_step': None,\n",
      "             'start_distance_stop': None,\n",
      "             'step_size': 0,\n",
      "             'use_equivalent_focal_distance': True}]}\n",
      "------------ AFTER -------------- \n"
     ]
    },
    {
     "ename": "ValueError",
     "evalue": "Cannot load file containing pickled data when allow_pickle=False",
     "output_type": "error",
     "traceback": [
      "\u001b[1;31m---------------------------------------------------------------------------\u001b[0m",
      "\u001b[1;31mValueError\u001b[0m                                Traceback (most recent call last)",
      "\u001b[1;32mc:\\Users\\pcle0002\\Documents\\repos\\lens_simulation\\src\\lens_simulation\\notebook.ipynb Cell 69'\u001b[0m in \u001b[0;36m<cell line: 25>\u001b[1;34m()\u001b[0m\n\u001b[0;32m     <a href='vscode-notebook-cell:/c%3A/Users/pcle0002/Documents/repos/lens_simulation/src/lens_simulation/notebook.ipynb#ch0000067?line=25'>26</a>\u001b[0m pprint(conf)\n\u001b[0;32m     <a href='vscode-notebook-cell:/c%3A/Users/pcle0002/Documents/repos/lens_simulation/src/lens_simulation/notebook.ipynb#ch0000067?line=26'>27</a>\u001b[0m \u001b[39mprint\u001b[39m(\u001b[39m\"\u001b[39m\u001b[39m------------ AFTER -------------- \u001b[39m\u001b[39m\"\u001b[39m)\n\u001b[1;32m---> <a href='vscode-notebook-cell:/c%3A/Users/pcle0002/Documents/repos/lens_simulation/src/lens_simulation/notebook.ipynb#ch0000067?line=27'>28</a>\u001b[0m sim \u001b[39m=\u001b[39m Simulation\u001b[39m.\u001b[39;49mSimulation(conf)\n",
      "File \u001b[1;32mc:\\users\\pcle0002\\documents\\repos\\lens_simulation\\src\\lens_simulation\\Simulation.py:34\u001b[0m, in \u001b[0;36mSimulation.__init__\u001b[1;34m(self, config)\u001b[0m\n\u001b[0;32m     32\u001b[0m \u001b[39mself\u001b[39m\u001b[39m.\u001b[39mpetname \u001b[39m=\u001b[39m petname\u001b[39m.\u001b[39mGenerate(\u001b[39m2\u001b[39m)\n\u001b[0;32m     33\u001b[0m \u001b[39mself\u001b[39m\u001b[39m.\u001b[39mconfig \u001b[39m=\u001b[39m \u001b[39mself\u001b[39m\u001b[39m.\u001b[39mread_configuration(config\u001b[39m=\u001b[39mconfig)\n\u001b[1;32m---> 34\u001b[0m \u001b[39mself\u001b[39;49m\u001b[39m.\u001b[39;49msetup_simulation(\u001b[39mself\u001b[39;49m\u001b[39m.\u001b[39;49mconfig)\n",
      "File \u001b[1;32mc:\\users\\pcle0002\\documents\\repos\\lens_simulation\\src\\lens_simulation\\Simulation.py:65\u001b[0m, in \u001b[0;36mSimulation.setup_simulation\u001b[1;34m(self, config)\u001b[0m\n\u001b[0;32m     62\u001b[0m         config[\u001b[39m\"\u001b[39m\u001b[39mlenses\u001b[39m\u001b[39m\"\u001b[39m][i] \u001b[39m=\u001b[39m lens_config\n\u001b[0;32m     64\u001b[0m \u001b[39m# generate all lenses for the simulations\u001b[39;00m\n\u001b[1;32m---> 65\u001b[0m simulation_lenses \u001b[39m=\u001b[39m generate_lenses(config[\u001b[39m\"\u001b[39;49m\u001b[39mlenses\u001b[39;49m\u001b[39m\"\u001b[39;49m], \u001b[39mself\u001b[39;49m\u001b[39m.\u001b[39;49mparameters)\n\u001b[0;32m     67\u001b[0m \u001b[39m# generate all simulation stages\u001b[39;00m\n\u001b[0;32m     68\u001b[0m \u001b[39mself\u001b[39m\u001b[39m.\u001b[39msim_stages \u001b[39m=\u001b[39m generate_simulation_stages(config, simulation_lenses, \u001b[39mself\u001b[39m\u001b[39m.\u001b[39mparameters)\n",
      "File \u001b[1;32mc:\\users\\pcle0002\\documents\\repos\\lens_simulation\\src\\lens_simulation\\Simulation.py:310\u001b[0m, in \u001b[0;36mgenerate_lenses\u001b[1;34m(lenses, parameters)\u001b[0m\n\u001b[0;32m    306\u001b[0m medium \u001b[39m=\u001b[39m Medium(refractive_index\u001b[39m=\u001b[39mlens_config[\u001b[39m\"\u001b[39m\u001b[39mmedium\u001b[39m\u001b[39m\"\u001b[39m],\n\u001b[0;32m    307\u001b[0m         wavelength\u001b[39m=\u001b[39mparameters\u001b[39m.\u001b[39msim_wavelength)\n\u001b[0;32m    309\u001b[0m \u001b[39m# generate lens from config\u001b[39;00m\n\u001b[1;32m--> 310\u001b[0m lens \u001b[39m=\u001b[39m generate_lens(lens_config\u001b[39m=\u001b[39;49mlens_config,\n\u001b[0;32m    311\u001b[0m                 medium\u001b[39m=\u001b[39;49mmedium,\n\u001b[0;32m    312\u001b[0m                 pixel_size\u001b[39m=\u001b[39;49mparameters\u001b[39m.\u001b[39;49mpixel_size)\n\u001b[0;32m    314\u001b[0m \u001b[39m# check lens fits in the simulation\u001b[39;00m\n\u001b[0;32m    315\u001b[0m \u001b[39mif\u001b[39;00m lens\u001b[39m.\u001b[39mdiameter \u001b[39m>\u001b[39m parameters\u001b[39m.\u001b[39msim_width \u001b[39mand\u001b[39;00m lens\u001b[39m.\u001b[39mdiameter \u001b[39m>\u001b[39m parameters\u001b[39m.\u001b[39msim_height:\n",
      "File \u001b[1;32mc:\\users\\pcle0002\\documents\\repos\\lens_simulation\\src\\lens_simulation\\Lens.py:661\u001b[0m, in \u001b[0;36mgenerate_lens\u001b[1;34m(lens_config, medium, pixel_size)\u001b[0m\n\u001b[0;32m    658\u001b[0m \u001b[39m# load a custom lens profile\u001b[39;00m\n\u001b[0;32m    659\u001b[0m \u001b[39mif\u001b[39;00m lens_config[\u001b[39m\"\u001b[39m\u001b[39mcustom\u001b[39m\u001b[39m\"\u001b[39m]:\n\u001b[0;32m    660\u001b[0m     lens\u001b[39m.\u001b[39;49mload_profile(\n\u001b[1;32m--> 661\u001b[0m         fname\u001b[39m=\u001b[39;49mlens_config[\u001b[39m\"\u001b[39;49m\u001b[39mcustom\u001b[39;49m\u001b[39m\"\u001b[39;49m],\n\u001b[0;32m    662\u001b[0m         pixel_size\u001b[39m=\u001b[39;49mpixel_size)\n\u001b[0;32m    664\u001b[0m \u001b[39m# generate the profile from the configuration\u001b[39;00m\n\u001b[0;32m    665\u001b[0m \u001b[39melse\u001b[39;00m:\n\u001b[0;32m    666\u001b[0m     lens\u001b[39m.\u001b[39mgenerate_profile(\n\u001b[0;32m    667\u001b[0m         pixel_size\u001b[39m=\u001b[39mpixel_size,\n\u001b[0;32m    668\u001b[0m         length\u001b[39m=\u001b[39mlens_config[\u001b[39m\"\u001b[39m\u001b[39mlength\u001b[39m\u001b[39m\"\u001b[39m]\n\u001b[0;32m    669\u001b[0m     )\n",
      "File \u001b[1;32mc:\\users\\pcle0002\\documents\\repos\\lens_simulation\\src\\lens_simulation\\Lens.py:149\u001b[0m, in \u001b[0;36mLens.load_profile\u001b[1;34m(self, fname, pixel_size)\u001b[0m\n\u001b[0;32m    146\u001b[0m \u001b[39m\"\"\"Load the lens profile from np array\"\"\"\u001b[39;00m\n\u001b[0;32m    148\u001b[0m \u001b[39m# load the profile\u001b[39;00m\n\u001b[1;32m--> 149\u001b[0m arr \u001b[39m=\u001b[39m np\u001b[39m.\u001b[39;49mload(fname)\n\u001b[0;32m    151\u001b[0m \u001b[39mself\u001b[39m\u001b[39m.\u001b[39mpixel_size \u001b[39m=\u001b[39m pixel_size\n\u001b[0;32m    152\u001b[0m \u001b[39mself\u001b[39m\u001b[39m.\u001b[39mprofile \u001b[39m=\u001b[39m arr\n",
      "File \u001b[1;32mc:\\Users\\pcle0002\\Miniconda3\\envs\\lens_sim\\lib\\site-packages\\numpy\\lib\\npyio.py:435\u001b[0m, in \u001b[0;36mload\u001b[1;34m(file, mmap_mode, allow_pickle, fix_imports, encoding)\u001b[0m\n\u001b[0;32m    432\u001b[0m \u001b[39melse\u001b[39;00m:\n\u001b[0;32m    433\u001b[0m     \u001b[39m# Try a pickle\u001b[39;00m\n\u001b[0;32m    434\u001b[0m     \u001b[39mif\u001b[39;00m \u001b[39mnot\u001b[39;00m allow_pickle:\n\u001b[1;32m--> 435\u001b[0m         \u001b[39mraise\u001b[39;00m \u001b[39mValueError\u001b[39;00m(\u001b[39m\"\u001b[39m\u001b[39mCannot load file containing pickled data \u001b[39m\u001b[39m\"\u001b[39m\n\u001b[0;32m    436\u001b[0m                          \u001b[39m\"\u001b[39m\u001b[39mwhen allow_pickle=False\u001b[39m\u001b[39m\"\u001b[39m)\n\u001b[0;32m    437\u001b[0m     \u001b[39mtry\u001b[39;00m:\n\u001b[0;32m    438\u001b[0m         \u001b[39mreturn\u001b[39;00m pickle\u001b[39m.\u001b[39mload(fid, \u001b[39m*\u001b[39m\u001b[39m*\u001b[39mpickle_kwargs)\n",
      "\u001b[1;31mValueError\u001b[0m: Cannot load file containing pickled data when allow_pickle=False"
     ]
    }
   ],
   "source": [
    "%load_ext autoreload\n",
    "%autoreload 2\n",
    "from lens_simulation import utils, validation, Simulation, SimulationRunner\n",
    "from pprint import pprint\n",
    "\n",
    "from lens_simulation.Lens import generate_lens\n",
    "from lens_simulation.Medium import Medium\n",
    "\n",
    "config = utils.load_config(\"config_minimum.yaml\")\n",
    "config[\"log_dir\"] = \"log\"\n",
    "\n",
    "\n",
    "sim_runner = SimulationRunner.SimulationRunner(\"config.yaml\")\n",
    "sim_runner.setup_simulation()\n",
    "\n",
    "conf_1 = sim_runner.simulation_configurations[0]\n",
    "for conf in sim_runner.simulation_configurations:\n",
    "\n",
    "    pprint(conf)\n",
    "    print(\"------------ AFTER -------------- \")\n",
    "    sim = Simulation.Simulation(conf)\n"
   ]
  },
  {
   "cell_type": "markdown",
   "metadata": {},
   "source": [
    "### Mega Stack\n",
    "Stack multiple simulations together for synchronised visualisation\n"
   ]
  },
  {
   "cell_type": "code",
   "execution_count": 13,
   "metadata": {},
   "outputs": [
    {
     "name": "stdout",
     "output_type": "stream",
     "text": [
      "The autoreload extension is already loaded. To reload it, use:\n",
      "  %reload_ext autoreload\n",
      "sim shape:  (110, 2001, 2001)\n"
     ]
    },
    {
     "ename": "AttributeError",
     "evalue": "'NoneType' object has no attribute 'shape'",
     "output_type": "error",
     "traceback": [
      "\u001b[1;31m---------------------------------------------------------------------------\u001b[0m",
      "\u001b[1;31mAttributeError\u001b[0m                            Traceback (most recent call last)",
      "\u001b[1;32mc:\\Users\\pcle0002\\Documents\\repos\\lens_simulation\\src\\lens_simulation\\notebook.ipynb Cell 33'\u001b[0m in \u001b[0;36m<cell line: 19>\u001b[1;34m()\u001b[0m\n\u001b[0;32m     <a href='vscode-notebook-cell:/c%3A/Users/pcle0002/Documents/repos/lens_simulation/src/lens_simulation/notebook.ipynb#ch0000031?line=22'>23</a>\u001b[0m     \u001b[39m# if mega is None:\u001b[39;00m\n\u001b[0;32m     <a href='vscode-notebook-cell:/c%3A/Users/pcle0002/Documents/repos/lens_simulation/src/lens_simulation/notebook.ipynb#ch0000031?line=23'>24</a>\u001b[0m     \u001b[39m#     mega = sim\u001b[39;00m\n\u001b[0;32m     <a href='vscode-notebook-cell:/c%3A/Users/pcle0002/Documents/repos/lens_simulation/src/lens_simulation/notebook.ipynb#ch0000031?line=24'>25</a>\u001b[0m     \u001b[39m# else: \u001b[39;00m\n\u001b[0;32m     <a href='vscode-notebook-cell:/c%3A/Users/pcle0002/Documents/repos/lens_simulation/src/lens_simulation/notebook.ipynb#ch0000031?line=25'>26</a>\u001b[0m     \u001b[39m#     # mega = np.hstack([mega, sim])\u001b[39;00m\n\u001b[0;32m     <a href='vscode-notebook-cell:/c%3A/Users/pcle0002/Documents/repos/lens_simulation/src/lens_simulation/notebook.ipynb#ch0000031?line=27'>28</a>\u001b[0m     \u001b[39mprint\u001b[39m(\u001b[39m\"\u001b[39m\u001b[39msim shape: \u001b[39m\u001b[39m\"\u001b[39m, sim\u001b[39m.\u001b[39mshape)\n\u001b[1;32m---> <a href='vscode-notebook-cell:/c%3A/Users/pcle0002/Documents/repos/lens_simulation/src/lens_simulation/notebook.ipynb#ch0000031?line=28'>29</a>\u001b[0m     \u001b[39mprint\u001b[39m(\u001b[39m\"\u001b[39m\u001b[39mmega shape: \u001b[39m\u001b[39m\"\u001b[39m, mega\u001b[39m.\u001b[39;49mshape)\n\u001b[0;32m     <a href='vscode-notebook-cell:/c%3A/Users/pcle0002/Documents/repos/lens_simulation/src/lens_simulation/notebook.ipynb#ch0000031?line=31'>32</a>\u001b[0m \u001b[39mprint\u001b[39m(\u001b[39m\"\u001b[39m\u001b[39mfinal: \u001b[39m\u001b[39m\"\u001b[39m, mega\u001b[39m.\u001b[39mshape)\n\u001b[0;32m     <a href='vscode-notebook-cell:/c%3A/Users/pcle0002/Documents/repos/lens_simulation/src/lens_simulation/notebook.ipynb#ch0000031?line=33'>34</a>\u001b[0m mega_view \u001b[39m=\u001b[39m plotting\u001b[39m.\u001b[39mslice_simulation_view(mega)\n",
      "\u001b[1;31mAttributeError\u001b[0m: 'NoneType' object has no attribute 'shape'"
     ]
    }
   ],
   "source": [
    "%load_ext autoreload\n",
    "%autoreload 2\n",
    "\n",
    "\n",
    "# TODO: stage stacking\n",
    "\n",
    "\n",
    "from lens_simulation import utils, plotting\n",
    "import matplotlib.pyplot as plt\n",
    "import numpy as np\n",
    "\n",
    "import dask.array as da\n",
    "\n",
    "paths = [\n",
    "    r\"C:\\Users\\pcle0002\\Documents\\repos\\lens_simulation\\src\\lens_simulation\\log\\weekly-famous-lizard\\active-shark\",\n",
    "    r\"C:\\Users\\pcle0002\\Documents\\repos\\lens_simulation\\src\\lens_simulation\\log\\weekly-famous-lizard\\fit-jennet\",\n",
    "    r\"C:\\Users\\pcle0002\\Documents\\repos\\lens_simulation\\src\\lens_simulation\\log\\weekly-famous-lizard\\moral-skink\"\n",
    "    ]\n",
    "\n",
    "mega = None\n",
    "for p in paths:\n",
    "\n",
    "    sim = plotting.load_full_sim_propagation_v2(p)\n",
    "\n",
    "    if mega is None:\n",
    "        mega = sim\n",
    "    else: \n",
    "        mega = np.hstack([mega, sim])\n",
    "    \n",
    "    print(\"sim shape: \", sim.shape)\n",
    "    print(\"mega shape: \", mega.shape)\n",
    "\n",
    "\n",
    "print(\"final: \", mega.shape)\n",
    "\n",
    "mega_view = plotting.slice_simulation_view(mega)\n",
    "\n"
   ]
  },
  {
   "cell_type": "code",
   "execution_count": 19,
   "metadata": {},
   "outputs": [
    {
     "name": "stdout",
     "output_type": "stream",
     "text": [
      "The autoreload extension is already loaded. To reload it, use:\n",
      "  %reload_ext autoreload\n",
      "load sim_active-shark\n",
      "load sim_fit-jennet\n",
      "load sim_moral-skink\n",
      "final:  (110, 6003, 2001)\n"
     ]
    }
   ],
   "source": [
    "%load_ext autoreload\n",
    "%autoreload 2\n",
    "\n",
    "from lens_simulation import utils, plotting\n",
    "import matplotlib.pyplot as plt\n",
    "import numpy as np\n",
    "\n",
    "import dask.array as da\n",
    "import os\n",
    "\n",
    "paths = [\n",
    "    r\"C:\\Users\\pcle0002\\Documents\\repos\\lens_simulation\\src\\lens_simulation\\log\\weekly-famous-lizard\\active-shark\",\n",
    "    r\"C:\\Users\\pcle0002\\Documents\\repos\\lens_simulation\\src\\lens_simulation\\log\\weekly-famous-lizard\\fit-jennet\",\n",
    "    r\"C:\\Users\\pcle0002\\Documents\\repos\\lens_simulation\\src\\lens_simulation\\log\\weekly-famous-lizard\\moral-skink\"\n",
    "    ]\n",
    "\n",
    "data = []\n",
    "for p in paths:\n",
    "    print(f\"load sim_{os.path.basename(p)}\")\n",
    "    sim = plotting.load_full_sim_propagation_v2(p)\n",
    "\n",
    "    data.append(da.from_array(sim))\n",
    "    \n",
    "    # print(\"sim shape: \", sim.shape)\n",
    "    # print(\"mega shape: \", mega.shape)\n",
    "\n",
    "#\n",
    "mega = da.concatenate(data, axis=1)\n",
    "\n",
    "print(\"final: \", mega.shape)\n",
    "\n",
    "mega_view = plotting.slice_simulation_view(mega)"
   ]
  },
  {
   "cell_type": "code",
   "execution_count": 18,
   "metadata": {},
   "outputs": [
    {
     "name": "stderr",
     "output_type": "stream",
     "text": [
      "c:\\Users\\pcle0002\\Miniconda3\\envs\\lens_sim\\lib\\site-packages\\napari_tools_menu\\__init__.py:179: FutureWarning: Public access to Window.qt_viewer is deprecated and will be removed in\n",
      "v0.5.0. It is considered an \"implementation detail\" of the napari\n",
      "application, not part of the napari viewer model. If your use case\n",
      "requires access to qt_viewer, please open an issue to discuss.\n",
      "  self.tools_menu = ToolsMenu(self, self.qt_viewer.viewer)\n"
     ]
    }
   ],
   "source": [
    "import napari\n",
    "from magicgui import magicgui\n",
    "from napari.layers import Image\n",
    "from napari.types import ImageData\n",
    "\n",
    "# create a viewer and add some images\n",
    "viewer = napari.Viewer()\n",
    "viewer.add_image(mega, name=\"simulation\", colormap=\"turbo\", scale=[1, 0.1, 0.1])\n",
    "\n",
    "# turn the gaussian blur function into a magicgui\n",
    "# for details on why the `-> ImageData` return annotation works:\n",
    "# https://napari.org/guides/magicgui.html#return-annotations\n",
    "@magicgui(\n",
    "    # tells magicgui to call the function whenever a parameter changes\n",
    "    auto_call=True,\n",
    "    # `widget_type` to override the default (spinbox) \"float\" widget\n",
    "    prop={\"widget_type\": \"FloatSlider\", \"max\": 1.0},\n",
    "    axis={\"choices\": [0, 1, 2]},\n",
    "    layout=\"horizontal\",\n",
    ")\n",
    "def slice_image(layer: Image, prop: float = 0.5, axis: int = 0) -> ImageData:\n",
    "    \"\"\"Slice the volume along the selected axis\"\"\"\n",
    "    if layer:\n",
    "        return plotting.slice_simulation_view(layer.data, axis=axis, prop=prop)\n",
    "\n",
    "# Add it to the napari viewer\n",
    "# viewer.window.add_dock_widget(slice_image, area=\"bottom\")\n",
    "\n",
    "napari.run()"
   ]
  },
  {
   "cell_type": "code",
   "execution_count": null,
   "metadata": {},
   "outputs": [],
   "source": []
  },
  {
   "cell_type": "markdown",
   "metadata": {},
   "source": [
    "## Gaussian Beam\n"
   ]
  },
  {
   "cell_type": "code",
   "execution_count": null,
   "metadata": {},
   "outputs": [],
   "source": [
    "# TODO\n"
   ]
  },
  {
   "cell_type": "markdown",
   "metadata": {},
   "source": [
    "## Electric Field Refactor\n",
    "Restructure the simulation to use electric field propagation rather than lenses\n",
    "\n"
   ]
  },
  {
   "cell_type": "code",
   "execution_count": 29,
   "metadata": {},
   "outputs": [
    {
     "name": "stdout",
     "output_type": "stream",
     "text": [
      "The autoreload extension is already loaded. To reload it, use:\n",
      "  %reload_ext autoreload\n"
     ]
    },
    {
     "name": "stderr",
     "output_type": "stream",
     "text": [
      "Sim: whole-krill (fc3abbc401) - Plotting Simulation:   0%|          | 0/2 [00:00<?, ?it/s]  c:\\Users\\pcle0002\\Miniconda3\\envs\\lens_sim\\lib\\site-packages\\matplotlib\\contour.py:1486: UserWarning: Warning: converting a masked element to nan.\n",
      "  self.zmax = float(z.max())\n",
      "c:\\Users\\pcle0002\\Miniconda3\\envs\\lens_sim\\lib\\site-packages\\matplotlib\\contour.py:1487: UserWarning: Warning: converting a masked element to nan.\n",
      "  self.zmin = float(z.min())\n",
      "Sim: whole-krill (fc3abbc401) - Plotting Simulation:  50%|█████     | 1/2 [00:04<00:01,  1.33s/it]  WARNING:imageio:Lossy conversion from float32 to uint8. Range [0.0, 100000000.0]. Convert image to uint8 prior to saving to suppress this warning.\n",
      "WARNING:imageio:Lossy conversion from float32 to uint8. Range [0.0003259503864683211, 156504560.0]. Convert image to uint8 prior to saving to suppress this warning.\n",
      "WARNING:imageio:Lossy conversion from float32 to uint8. Range [0.00023134189541451633, 175819872.0]. Convert image to uint8 prior to saving to suppress this warning.\n",
      "WARNING:imageio:Lossy conversion from float32 to uint8. Range [0.04981017857789993, 190796064.0]. Convert image to uint8 prior to saving to suppress this warning.\n",
      "WARNING:imageio:Lossy conversion from float32 to uint8. Range [0.9725335836410522, 215952352.0]. Convert image to uint8 prior to saving to suppress this warning.\n",
      "WARNING:imageio:Lossy conversion from float32 to uint8. Range [142.4017333984375, 240360768.0]. Convert image to uint8 prior to saving to suppress this warning.\n",
      "WARNING:imageio:Lossy conversion from float32 to uint8. Range [51.89695358276367, 280336672.0]. Convert image to uint8 prior to saving to suppress this warning.\n",
      "WARNING:imageio:Lossy conversion from float32 to uint8. Range [1.1007083654403687, 311415520.0]. Convert image to uint8 prior to saving to suppress this warning.\n",
      "WARNING:imageio:Lossy conversion from float32 to uint8. Range [36.14525604248047, 344271808.0]. Convert image to uint8 prior to saving to suppress this warning.\n",
      "WARNING:imageio:Lossy conversion from float32 to uint8. Range [13.832756996154785, 395739840.0]. Convert image to uint8 prior to saving to suppress this warning.\n",
      "WARNING:imageio:Lossy conversion from float32 to uint8. Range [73.21549224853516, 446127072.0]. Convert image to uint8 prior to saving to suppress this warning.\n",
      "WARNING:imageio:Lossy conversion from float32 to uint8. Range [52.76436233520508, 533074176.0]. Convert image to uint8 prior to saving to suppress this warning.\n",
      "WARNING:imageio:Lossy conversion from float32 to uint8. Range [22.579357147216797, 626872640.0]. Convert image to uint8 prior to saving to suppress this warning.\n",
      "WARNING:imageio:Lossy conversion from float32 to uint8. Range [10.64976978302002, 738125632.0]. Convert image to uint8 prior to saving to suppress this warning.\n",
      "WARNING:imageio:Lossy conversion from float32 to uint8. Range [48.91210174560547, 918286400.0]. Convert image to uint8 prior to saving to suppress this warning.\n",
      "WARNING:imageio:Lossy conversion from float32 to uint8. Range [5.693694114685059, 1153109248.0]. Convert image to uint8 prior to saving to suppress this warning.\n",
      "WARNING:imageio:Lossy conversion from float32 to uint8. Range [2.049426555633545, 1362452352.0]. Convert image to uint8 prior to saving to suppress this warning.\n",
      "WARNING:imageio:Lossy conversion from float32 to uint8. Range [24.88045310974121, 1760161792.0]. Convert image to uint8 prior to saving to suppress this warning.\n",
      "WARNING:imageio:Lossy conversion from float32 to uint8. Range [13.45075511932373, 4736660480.0]. Convert image to uint8 prior to saving to suppress this warning.\n",
      "WARNING:imageio:Lossy conversion from float32 to uint8. Range [6.05443811416626, 3765665536.0]. Convert image to uint8 prior to saving to suppress this warning.\n",
      "WARNING:imageio:Lossy conversion from float32 to uint8. Range [7.957493305206299, 12481694720.0]. Convert image to uint8 prior to saving to suppress this warning.\n",
      "WARNING:imageio:Lossy conversion from float32 to uint8. Range [22.132036209106445, 15628126208.0]. Convert image to uint8 prior to saving to suppress this warning.\n",
      "WARNING:imageio:Lossy conversion from float32 to uint8. Range [12.462117195129395, 18062309376.0]. Convert image to uint8 prior to saving to suppress this warning.\n",
      "WARNING:imageio:Lossy conversion from float32 to uint8. Range [8.276505470275879, 60745388032.0]. Convert image to uint8 prior to saving to suppress this warning.\n",
      "WARNING:imageio:Lossy conversion from float32 to uint8. Range [4.586851119995117, 1308814344192.0]. Convert image to uint8 prior to saving to suppress this warning.\n",
      "WARNING:imageio:Lossy conversion from float32 to uint8. Range [6.32203483581543, 536866783232.0]. Convert image to uint8 prior to saving to suppress this warning.\n",
      "WARNING:imageio:Lossy conversion from float32 to uint8. Range [9.114272117614746, 62955925504.0]. Convert image to uint8 prior to saving to suppress this warning.\n",
      "WARNING:imageio:Lossy conversion from float32 to uint8. Range [3.1172537803649902, 15504081920.0]. Convert image to uint8 prior to saving to suppress this warning.\n",
      "WARNING:imageio:Lossy conversion from float32 to uint8. Range [8.257891654968262, 10184423424.0]. Convert image to uint8 prior to saving to suppress this warning.\n",
      "WARNING:imageio:Lossy conversion from float32 to uint8. Range [41.58905792236328, 8496321536.0]. Convert image to uint8 prior to saving to suppress this warning.\n",
      "WARNING:imageio:Lossy conversion from float32 to uint8. Range [24.69231605529785, 3553713408.0]. Convert image to uint8 prior to saving to suppress this warning.\n",
      "WARNING:imageio:Lossy conversion from float32 to uint8. Range [6.162311553955078, 5224497664.0]. Convert image to uint8 prior to saving to suppress this warning.\n",
      "WARNING:imageio:Lossy conversion from float32 to uint8. Range [3.190075159072876, 1895302784.0]. Convert image to uint8 prior to saving to suppress this warning.\n",
      "WARNING:imageio:Lossy conversion from float32 to uint8. Range [29.02827262878418, 3017709056.0]. Convert image to uint8 prior to saving to suppress this warning.\n",
      "WARNING:imageio:Lossy conversion from float32 to uint8. Range [13.635116577148438, 1119037952.0]. Convert image to uint8 prior to saving to suppress this warning.\n",
      "WARNING:imageio:Lossy conversion from float32 to uint8. Range [1.6074432134628296, 1589952128.0]. Convert image to uint8 prior to saving to suppress this warning.\n",
      "WARNING:imageio:Lossy conversion from float32 to uint8. Range [128.43502807617188, 797284480.0]. Convert image to uint8 prior to saving to suppress this warning.\n",
      "WARNING:imageio:Lossy conversion from float32 to uint8. Range [73.18870544433594, 601225792.0]. Convert image to uint8 prior to saving to suppress this warning.\n",
      "WARNING:imageio:Lossy conversion from float32 to uint8. Range [10.095344543457031, 1293302784.0]. Convert image to uint8 prior to saving to suppress this warning.\n",
      "WARNING:imageio:Lossy conversion from float32 to uint8. Range [299.5211181640625, 447564288.0]. Convert image to uint8 prior to saving to suppress this warning.\n",
      "WARNING:imageio:Lossy conversion from float32 to uint8. Range [161.8049774169922, 380500288.0]. Convert image to uint8 prior to saving to suppress this warning.\n",
      "WARNING:imageio:Lossy conversion from float32 to uint8. Range [110.28083801269531, 787532736.0]. Convert image to uint8 prior to saving to suppress this warning.\n",
      "WARNING:imageio:Lossy conversion from float32 to uint8. Range [137.0272216796875, 362668960.0]. Convert image to uint8 prior to saving to suppress this warning.\n",
      "WARNING:imageio:Lossy conversion from float32 to uint8. Range [203.19261169433594, 330330336.0]. Convert image to uint8 prior to saving to suppress this warning.\n",
      "WARNING:imageio:Lossy conversion from float32 to uint8. Range [169.69151306152344, 397696288.0]. Convert image to uint8 prior to saving to suppress this warning.\n",
      "WARNING:imageio:Lossy conversion from float32 to uint8. Range [738.0394287109375, 548461376.0]. Convert image to uint8 prior to saving to suppress this warning.\n",
      "WARNING:imageio:Lossy conversion from float32 to uint8. Range [585.2339477539062, 234468320.0]. Convert image to uint8 prior to saving to suppress this warning.\n",
      "WARNING:imageio:Lossy conversion from float32 to uint8. Range [269.8375244140625, 224618432.0]. Convert image to uint8 prior to saving to suppress this warning.\n",
      "WARNING:imageio:Lossy conversion from float32 to uint8. Range [884.6749877929688, 239820576.0]. Convert image to uint8 prior to saving to suppress this warning.\n",
      "WARNING:imageio:Lossy conversion from float32 to uint8. Range [407.6423645019531, 367668736.0]. Convert image to uint8 prior to saving to suppress this warning.\n",
      "                                                                                                  \r"
     ]
    },
    {
     "data": {
      "image/png": "[encoded data removed]",
      "text/plain": [
       "<Figure size 432x288 with 2 Axes>"
      ]
     },
     "metadata": {
      "needs_background": "light"
     },
     "output_type": "display_data"
    },
    {
     "data": {
      "image/png": "[encoded data removed]",
      "text/plain": [
       "<Figure size 720x540 with 6 Axes>"
      ]
     },
     "metadata": {
      "needs_background": "light"
     },
     "output_type": "display_data"
    },
    {
     "data": {
      "image/png": "[encoded data removed]",
      "text/plain": [
       "<Figure size 432x288 with 2 Axes>"
      ]
     },
     "metadata": {
      "needs_background": "light"
     },
     "output_type": "display_data"
    },
    {
     "data": {
      "image/png": "[encoded data removed]",
      "text/plain": [
       "<Figure size 432x216 with 2 Axes>"
      ]
     },
     "metadata": {
      "needs_background": "light"
     },
     "output_type": "display_data"
    }
   ],
   "source": [
    "%load_ext autoreload\n",
    "%autoreload 2\n",
    "\n",
    "from lens_simulation import utils, plotting\n",
    "from lens_simulation.beam import generate_beam\n",
    "from lens_simulation.Simulation import (propagate_wavefront, generate_beam_simulation_stage, generate_simulation_parameters, \n",
    "    generate_sq_freq_arr, calculate_wavefront, propagate_over_distance)\n",
    "from lens_simulation import Simulation\n",
    "from pprint import pprint\n",
    "from lens_simulation.Lens import Lens\n",
    "from scipy import fftpack\n",
    "from lens_simulation.structures import SimulationStage, SimulationParameters, SimulationOptions, SimulationResult\n",
    "from tqdm import tqdm\n",
    "import numpy as np\n",
    "import zarr\n",
    "import matplotlib.pyplot as plt\n",
    "\n",
    "path = \"test\"\n",
    "config = utils.load_config(\"example/sim_focus_2d.yaml\")\n",
    "config[\"log_dir\"] = path\n",
    "\n",
    "sim = Simulation.Simulation(config)\n",
    "sim.run_simulation()\n",
    "\n",
    "fig = plotting.plot_sim_propagation_v2(sim.options.log_dir)\n",
    "plt.show()\n"
   ]
  },
  {
   "cell_type": "code",
   "execution_count": null,
   "metadata": {},
   "outputs": [],
   "source": []
  }
 ],
 "metadata": {
  "interpreter": {
   "hash": "e02cff3bbd039842ce3f743c0fb602c20a11e2fd1dd75e38e8f89ff88823b7b6"
  },
  "kernelspec": {
   "display_name": "Python 3.8.13 ('lens_sim')",
   "language": "python",
   "name": "python3"
  },
  "language_info": {
   "codemirror_mode": {
    "name": "ipython",
    "version": 3
   },
   "file_extension": ".py",
   "mimetype": "text/x-python",
   "name": "python",
   "nbconvert_exporter": "python",
   "pygments_lexer": "ipython3",
   "version": "3.8.13"
  },
  "orig_nbformat": 4
 },
 "nbformat": 4,
 "nbformat_minor": 2
}
