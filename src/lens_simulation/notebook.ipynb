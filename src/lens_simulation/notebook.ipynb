{
 "cells": [
  {
   "cell_type": "code",
   "execution_count": null,
   "metadata": {},
   "outputs": [],
   "source": []
  },
  {
   "cell_type": "markdown",
   "metadata": {},
   "source": [
    "### Simulation Data Aggregation\n"
   ]
  },
  {
   "cell_type": "code",
   "execution_count": null,
   "metadata": {},
   "outputs": [],
   "source": [
    "%load_ext autoreload\n",
    "%autoreload 2\n",
    "\n",
    "import pandas as pd\n",
    "from lens_simulation import utils\n",
    "# path = r\"\\\\ad.monash.edu\\home\\User028\\pcle0002\\Documents\\repos\\lens_simulation\\src\\lens_simulation\\log\\duly-fancy-panda\\sweet-mako\"\n",
    "pd.set_option(\"display.max_rows\", None, \"display.max_columns\", None)\n",
    "\n",
    "directory = r\"\\\\ad.monash.edu\\home\\User028\\pcle0002\\Documents\\repos\\lens_simulation\\src\\lens_simulation\\log\\barely-ideal-zebra\"\n",
    "directory = r\"\\\\ad.monash.edu\\home\\User028\\pcle0002\\Documents\\repos\\lens_simulation\\src\\lens_simulation\\log\\lively-vital-duck\"\n",
    "\n",
    "\n",
    "df = utils.load_run_simulation_data(directory)\n",
    "\n",
    "print(f\"run: {os.path.basename(directory)}\")\n",
    "display(df.T)\n",
    "\n",
    "\n",
    "df.to_csv(\"data.csv\")"
   ]
  },
  {
   "cell_type": "code",
   "execution_count": null,
   "metadata": {},
   "outputs": [],
   "source": [
    "display(df[df[\"exponent\"] ==  2.1].T)\n"
   ]
  },
  {
   "cell_type": "code",
   "execution_count": null,
   "metadata": {},
   "outputs": [],
   "source": []
  },
  {
   "cell_type": "markdown",
   "metadata": {},
   "source": [
    "## Simulation Parameter Sweep\n"
   ]
  },
  {
   "cell_type": "code",
   "execution_count": null,
   "metadata": {},
   "outputs": [],
   "source": [
    "%load_ext autoreload\n",
    "%autoreload 2\n",
    "\n",
    "from lens_simulation import utils\n",
    "from pprint import pprint\n",
    "from copy import deepcopy\n",
    "\n",
    "# sweep\n",
    "config = utils.load_config(\"config.yaml\")\n",
    "\n",
    "config[\"sweep\"] = deepcopy(config)\n",
    "\n",
    "pprint(config)\n",
    "\n",
    "\n",
    "# config dict vs config yaml\n",
    "# yaml creates the sweeps\n",
    "# dicts create the objects\n",
    "\n",
    "\n"
   ]
  },
  {
   "cell_type": "code",
   "execution_count": null,
   "metadata": {},
   "outputs": [],
   "source": [
    "%load_ext autoreload\n",
    "%autoreload 2\n",
    "\n",
    "%load_ext autoreload \n",
    "%autoreload 2\n",
    "from lens_simulation import SimulationRunner\n",
    "\n",
    "\n",
    "sim_runner = SimulationRunner.SimulationRunner(\"sweep.yaml\")\n",
    "# sim_runner.initialise_simulation()\n",
    "sim_runner.setup_simulation()\n",
    "# sim_runner.run_simulations()\n"
   ]
  },
  {
   "cell_type": "code",
   "execution_count": null,
   "metadata": {},
   "outputs": [],
   "source": [
    "%load_ext autoreload\n",
    "%autoreload 2\n",
    "from lens_simulation.SimulationRunner import (get_lens_configurations, generate_lens_parameter_combinations, \n",
    "    generate_beam_parameter_combinations,  get_beam_configurations, generate_stage_parameter_combination, get_stage_configurations, \n",
    "    generate_simulation_parameter_sweep, sweep_custom_profiles)\n",
    "from lens_simulation import utils\n",
    "from lens_simulation.constants import LENS_SWEEPABLE_KEYS, MODIFICATION_SWEEPABLE_KEYS, BEAM_SWEEPABLE_KEYS, STAGE_SWEEPABLE_KEYS, GRATING_SWEEPABLE_KEYS, TRUNCATION_SWEEPABLE_KEYS, APERTURE_SWEEPABLE_KEYS\n",
    "from lens_simulation import validation\n",
    "from pprint import pprint\n",
    "from copy import deepcopy\n"
   ]
  },
  {
   "cell_type": "code",
   "execution_count": null,
   "metadata": {},
   "outputs": [],
   "source": [
    "config = utils.load_config(\"config.yaml\")\n",
    "info =  {\"run_id\": 9999, \"run_petname\": \"test-carry-mule\", \"log_dir\": \"log\"}\n",
    "\n",
    "\n",
    "lc = config[\"lenses\"][0]\n",
    "\n",
    "# print(\"profiles:\")\n",
    "# pprint(lc[\"custom\"])\n",
    "# print(\"-\"*50)\n",
    "cp = sweep_custom_profiles(lc[\"custom\"])\n",
    "\n",
    "# print(\"custom_params: \", cp)\n",
    "\n",
    "simulation_configurations = generate_simulation_parameter_sweep(config, info)\n",
    "\n",
    "for sc in simulation_configurations:\n",
    "    print(\"-\"*50)\n",
    "    for lc in sc[\"lenses\"]:\n",
    "        pprint(lc[\"custom\"])"
   ]
  },
  {
   "cell_type": "code",
   "execution_count": null,
   "metadata": {},
   "outputs": [],
   "source": [
    "from lens_simulation.Lens import generate_lens\n",
    "from lens_simulation.Medium import Medium\n",
    "from lens_simulation import utils\n",
    "import matplotlib.pyplot as plt\n",
    "\n",
    "for conf in simulation_configurations:\n",
    "\n",
    "    # pprint(conf)\n",
    "    lc = conf[\"lenses\"][0]\n",
    "    lens = generate_lens(lc, Medium(lc[\"medium\"]), conf[\"sim_parameters\"][\"pixel_size\"])\n",
    "\n",
    "    plotting.plot_lens_profile_2d(lens)\n",
    "    plt.show()\n",
    "\n",
    "    plotting.plot_lens_profile_slices(lens)\n",
    "    plt.show()\n",
    "\n"
   ]
  },
  {
   "cell_type": "code",
   "execution_count": null,
   "metadata": {},
   "outputs": [],
   "source": []
  },
  {
   "cell_type": "code",
   "execution_count": null,
   "metadata": {},
   "outputs": [],
   "source": [
    "\n",
    "\n"
   ]
  },
  {
   "cell_type": "code",
   "execution_count": null,
   "metadata": {},
   "outputs": [],
   "source": [
    "\n",
    "\n"
   ]
  },
  {
   "cell_type": "code",
   "execution_count": null,
   "metadata": {},
   "outputs": [],
   "source": []
  },
  {
   "cell_type": "code",
   "execution_count": null,
   "metadata": {},
   "outputs": [],
   "source": [
    "directory = r\"\\\\ad.monash.edu\\home\\User028\\pcle0002\\Documents\\repos\\lens_simulation\\src\\lens_simulation\\log\\hugely-subtle-drake\"\n",
    "df = utils.load_run_simulation_data(directory)\n",
    "\n",
    "display(df.T)"
   ]
  },
  {
   "cell_type": "code",
   "execution_count": null,
   "metadata": {},
   "outputs": [],
   "source": []
  },
  {
   "cell_type": "markdown",
   "metadata": {},
   "source": [
    "### ZARR\n"
   ]
  },
  {
   "cell_type": "code",
   "execution_count": null,
   "metadata": {},
   "outputs": [],
   "source": []
  },
  {
   "cell_type": "code",
   "execution_count": null,
   "metadata": {},
   "outputs": [],
   "source": []
  },
  {
   "cell_type": "code",
   "execution_count": null,
   "metadata": {},
   "outputs": [],
   "source": [
    "\n",
    "\n",
    "\n"
   ]
  },
  {
   "cell_type": "markdown",
   "metadata": {},
   "source": [
    "### New Simulation Config\n"
   ]
  },
  {
   "cell_type": "code",
   "execution_count": null,
   "metadata": {},
   "outputs": [],
   "source": [
    "%load_ext autoreload\n",
    "%autoreload 2\n",
    "\n",
    "from lens_simulation import utils\n",
    "from pprint import pprint\n",
    "from lens_simulation.beam import load_beam_config\n",
    "from lens_simulation.Simulation import generate_simulation_options, generate_simulation_parameters, load_sim_stage_config\n",
    "from lens_simulation.structures import SimulationConfig\n",
    "from lens_simulation.Lens import load_lens_config\n",
    "config = utils.load_config(\"sweep.yaml\")\n",
    "# conf_v2 = utils.load_config_struct(\"sweep.yaml\")\n",
    "\n"
   ]
  },
  {
   "cell_type": "code",
   "execution_count": null,
   "metadata": {},
   "outputs": [],
   "source": [
    "\n",
    "beam_settings = load_beam_config(config[\"beam\"])\n",
    "\n",
    "lenses = [load_lens_config(lc) for lc in config[\"lenses\"]]\n",
    "stages = [load_sim_stage_config(sc) for sc in config[\"stages\"]]\n",
    "\n",
    "options = generate_simulation_options(config, \"log\")\n",
    "parameters = generate_simulation_parameters(config)\n",
    "\n",
    "\n",
    "sim_config = SimulationConfig(\n",
    "    beam=beam_settings,\n",
    "    lenses=lenses,\n",
    "    stages=stages,\n",
    "    parameters=parameters,\n",
    "    options=options\n",
    ")\n",
    "\n",
    "\n",
    "print(\"SIM CONFIG:\")\n",
    "pprint(sim_config.beam)\n",
    "print(\"-\"*50)\n",
    "pprint(sim_config.lenses)\n",
    "print(\"-\"*50)\n",
    "pprint(sim_config.stages)\n",
    "print(\"-\"*50)\n",
    "pprint(sim_config.parameters)\n",
    "print(\"-\"*50)\n",
    "pprint(sim_config.options)\n",
    "\n"
   ]
  },
  {
   "cell_type": "code",
   "execution_count": null,
   "metadata": {},
   "outputs": [],
   "source": []
  },
  {
   "cell_type": "markdown",
   "metadata": {},
   "source": [
    "### DASK Experiments\n"
   ]
  },
  {
   "cell_type": "code",
   "execution_count": null,
   "metadata": {},
   "outputs": [],
   "source": [
    "import time\n",
    "import dask\n",
    "\n",
    "\n",
    "@dask.delayed\n",
    "def inc(x):\n",
    "    time.sleep(1)\n",
    "    return x + 1\n",
    "\n",
    "@dask.delayed\n",
    "def add(x, y):\n",
    "    time.sleep(1)\n",
    "    return x + y"
   ]
  },
  {
   "cell_type": "code",
   "execution_count": null,
   "metadata": {},
   "outputs": [],
   "source": [
    "%%time\n",
    "\n",
    "a = inc(1)\n",
    "b = inc(1)\n",
    "c = add(a, b)\n",
    "c.visualize(\"mydask.png\")\n",
    "# c.dask\n",
    "# c = c.compute()\n"
   ]
  },
  {
   "cell_type": "code",
   "execution_count": null,
   "metadata": {},
   "outputs": [],
   "source": []
  },
  {
   "cell_type": "code",
   "execution_count": null,
   "metadata": {},
   "outputs": [],
   "source": []
  },
  {
   "cell_type": "code",
   "execution_count": null,
   "metadata": {},
   "outputs": [],
   "source": []
  },
  {
   "cell_type": "code",
   "execution_count": null,
   "metadata": {},
   "outputs": [],
   "source": []
  },
  {
   "cell_type": "code",
   "execution_count": null,
   "metadata": {},
   "outputs": [],
   "source": []
  },
  {
   "cell_type": "code",
   "execution_count": null,
   "metadata": {},
   "outputs": [],
   "source": []
  },
  {
   "cell_type": "code",
   "execution_count": null,
   "metadata": {},
   "outputs": [],
   "source": [
    "## ZARR"
   ]
  },
  {
   "cell_type": "code",
   "execution_count": null,
   "metadata": {},
   "outputs": [],
   "source": [
    "import zarr\n",
    "z = zarr.zeros((10000, 10000), chunks=(1000, 1000), dtype='i4')\n",
    "print(z.info)\n",
    "\n",
    "z1 = zarr.open('data/example.zarr', mode='w', shape=(10000, 10000), chunks=(1000, 1000), dtype='i4')\n",
    "\n",
    "import numpy as np\n",
    "a = np.arange(10)\n",
    "zarr.save('data/example.zarr', a)\n",
    "zarr.load('data/example.zarr')"
   ]
  },
  {
   "cell_type": "code",
   "execution_count": null,
   "metadata": {},
   "outputs": [],
   "source": [
    "\n",
    "\n",
    "def save_simulation_zarr(arr, fname):\n",
    "    print(\"saving zarr\")\n",
    "    zarr.save(fname, arr)\n",
    "\n",
    "def load_simulation_zarr(fname):\n",
    "    print(\"loading zarr\")\n",
    "    arr = zarr.open(fname)\n",
    "    return arr"
   ]
  },
  {
   "cell_type": "code",
   "execution_count": null,
   "metadata": {},
   "outputs": [],
   "source": [
    "fname = \"data/zarr_test.zarr\"\n",
    "\n",
    "\n",
    "# sim = zarr.zeros(shape=(100, 10000, 10000), dtype=np.float32)\n",
    "sim = zarr.zeros(shape=(1000, 1000, 10000), chunks=(100, 100), dtype=np.float32)\n",
    "# save_simulation_zarr(sim, fname)\n",
    "\n",
    "# TODO: why doesnt this open work for slicing?\n",
    "sim = zarr.open(fname, mode=\"w\", shape=(1000, 1000, 10000), chunks=(1000, 1000), dtype=np.float32)\n",
    "\n"
   ]
  },
  {
   "cell_type": "code",
   "execution_count": null,
   "metadata": {},
   "outputs": [],
   "source": [
    "# arr = zarr.load(fname)  # load as np, bad"
   ]
  },
  {
   "cell_type": "code",
   "execution_count": null,
   "metadata": {},
   "outputs": [],
   "source": [
    "# sim = load_simulation_zarr(fname)\n",
    "\n",
    "print(sim.shape)\n",
    "print(type(sim))\n",
    "\n",
    "cy, cx = sim.shape[1] // 2, sim.shape[2] //2\n",
    "import matplotlib.pyplot as plt\n",
    "plt.imshow(sim[:, cy, :])\n",
    "plt.show()\n"
   ]
  },
  {
   "cell_type": "code",
   "execution_count": null,
   "metadata": {},
   "outputs": [],
   "source": [
    "\n",
    "ones = np.ones(shape=(sim.shape[1], sim.shape[2]))\n",
    "\n",
    "sweep = np.outer(np.arange(sim.shape[1]), np.arange(sim.shape[2]).T)\n",
    "\n",
    "plt.imshow(sweep)\n",
    "plt.show()\n",
    "\n",
    "print(ones.shape)\n"
   ]
  },
  {
   "cell_type": "code",
   "execution_count": null,
   "metadata": {},
   "outputs": [],
   "source": [
    "\n",
    "for i in range(sim.shape[0]):\n",
    "    print(\"step: \", i)\n",
    "    sim[i, :, :] = sweep * i\n",
    "\n"
   ]
  },
  {
   "cell_type": "code",
   "execution_count": null,
   "metadata": {},
   "outputs": [],
   "source": [
    "cy\n",
    "\n",
    "cw = 500\n",
    "\n",
    "fig = plt.figure(figsize=(12, 5))\n",
    "plt.imshow(sim[:, cw-100:cw+100, 500])\n",
    "plt.colorbar()\n",
    "plt.show()\n",
    "\n",
    "# # cx\n",
    "plt.imshow(sim[:, 500, cx-100:cx+100])\n",
    "plt.colorbar()\n",
    "plt.show()"
   ]
  },
  {
   "cell_type": "code",
   "execution_count": null,
   "metadata": {},
   "outputs": [],
   "source": []
  },
  {
   "cell_type": "code",
   "execution_count": null,
   "metadata": {},
   "outputs": [],
   "source": []
  },
  {
   "cell_type": "code",
   "execution_count": null,
   "metadata": {},
   "outputs": [],
   "source": []
  },
  {
   "cell_type": "code",
   "execution_count": null,
   "metadata": {},
   "outputs": [],
   "source": [
    "%load_ext autoreload\n",
    "%autoreload 2\n",
    "import numpy as np\n",
    "import matplotlib.pyplot as plt\n",
    "from lens_simulation import utils \n",
    "\n",
    "\n",
    "fname = \"data/example.npy\"\n",
    "arr = np.ones(shape=(100, 100))\n",
    "\n",
    "arr = np.pad(arr, 20, mode=\"constant\", constant_values=0)\n",
    "np.save(fname, arr)\n",
    "\n",
    "ap_fname = \"data/example.aperture.npy\"\n",
    "\n",
    "distance = utils.create_distance_map_px(arr.shape[1], arr.shape[0])\n",
    "\n",
    "ap = distance > 10\n",
    "plt.imshow(ap)\n",
    "plt.show()\n",
    "\n",
    "np.save(ap_fname, ap)\n",
    "\n",
    "\n",
    "arr2 = np.load(fname)\n",
    "\n",
    "plt.imshow(arr2)\n",
    "plt.colorbar()\n",
    "plt.show()\n"
   ]
  },
  {
   "cell_type": "code",
   "execution_count": null,
   "metadata": {},
   "outputs": [],
   "source": [
    "import os\n",
    "import glob\n",
    "\n",
    "from lens_simulation.SimulationRunner import sweep_custom_profiles\n",
    "\n",
    "profs = sweep_custom_profiles(os.path.dirname(fname))\n",
    "print(profs)\n",
    "\n"
   ]
  },
  {
   "cell_type": "code",
   "execution_count": null,
   "metadata": {},
   "outputs": [],
   "source": [
    "from lens_simulation.Lens import load_aperture, generate_lens\n",
    "from lens_simulation.Medium import Medium\n",
    "        \n",
    "config = utils.load_config(\"config.yaml\")\n",
    "\n",
    "# config[\"lenses\"][0][\"custom\"] = \"data/subdir/example2.npy\"\n",
    "config[\"lenses\"][0][\"custom\"] = \"data/example.npy\"\n",
    "\n",
    "\n",
    "lens = generate_lens(config[\"lenses\"][0], Medium(1), pixel_size=1.e-6)\n",
    "\n",
    "plt.imshow(lens.profile)\n",
    "plt.show()\n",
    "\n",
    "plt.imshow(lens.aperture)\n",
    "plt.show()\n"
   ]
  },
  {
   "cell_type": "code",
   "execution_count": null,
   "metadata": {},
   "outputs": [],
   "source": []
  },
  {
   "cell_type": "code",
   "execution_count": null,
   "metadata": {},
   "outputs": [],
   "source": []
  },
  {
   "cell_type": "code",
   "execution_count": null,
   "metadata": {},
   "outputs": [],
   "source": []
  },
  {
   "cell_type": "markdown",
   "metadata": {},
   "source": [
    "## Update GIF Functions"
   ]
  },
  {
   "cell_type": "code",
   "execution_count": null,
   "metadata": {},
   "outputs": [],
   "source": [
    "%load_ext autoreload\n",
    "%autoreload 2\n",
    "\n",
    "from lens_simulation import utils, plotting\n",
    "from IPython.display import Image\n",
    "import imageio\n",
    "\n",
    "path = r\"C:\\Users\\pcle0002\\Documents\\repos\\lens_simulation\\src\\lens_simulation\\log\\surely-ruling-tetra\\brief-macaw\\1/sim.zarr\"\n",
    "\n",
    "plotting.save_propagation_gif(path)\n",
    " \n",
    "Image(os.path.join(os.path.dirname(path), \"propagation.gif\"))\n"
   ]
  },
  {
   "cell_type": "code",
   "execution_count": null,
   "metadata": {},
   "outputs": [],
   "source": []
  }
 ],
 "metadata": {
  "interpreter": {
   "hash": "e02cff3bbd039842ce3f743c0fb602c20a11e2fd1dd75e38e8f89ff88823b7b6"
  },
  "kernelspec": {
   "display_name": "Python 3.8.13 ('lens_sim')",
   "language": "python",
   "name": "python3"
  },
  "language_info": {
   "codemirror_mode": {
    "name": "ipython",
    "version": 3
   },
   "file_extension": ".py",
   "mimetype": "text/x-python",
   "name": "python",
   "nbconvert_exporter": "python",
   "pygments_lexer": "ipython3",
   "version": "3.8.13"
  },
  "orig_nbformat": 4
 },
 "nbformat": 4,
 "nbformat_minor": 2
}
