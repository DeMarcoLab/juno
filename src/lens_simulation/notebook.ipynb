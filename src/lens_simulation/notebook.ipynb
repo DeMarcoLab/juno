{
 "cells": [
  {
   "cell_type": "code",
   "execution_count": null,
   "metadata": {},
   "outputs": [],
   "source": []
  },
  {
   "cell_type": "code",
   "execution_count": 1,
   "metadata": {},
   "outputs": [
    {
     "ename": "ImportError",
     "evalue": "cannot import name 'LithiumNiabate' from 'lens_simulation.Medium' (\\\\ad.monash.edu\\home\\user028\\pcle0002\\documents\\repos\\lens_simulation\\src\\lens_simulation\\Medium.py)",
     "output_type": "error",
     "traceback": [
      "\u001b[1;31m---------------------------------------------------------------------------\u001b[0m",
      "\u001b[1;31mImportError\u001b[0m                               Traceback (most recent call last)",
      "\u001b[1;32mhome\\User028\\pcle0002\\Documents\\repos\\lens_simulation\\src\\lens_simulation\\notebook.ipynb Cell 2'\u001b[0m in \u001b[0;36m<cell line: 4>\u001b[1;34m()\u001b[0m\n\u001b[0;32m      <a href='vscode-notebook-cell://ad.monash.edu/home/User028/pcle0002/Documents/repos/lens_simulation/src/lens_simulation/notebook.ipynb#ch0000001?line=1'>2</a>\u001b[0m get_ipython()\u001b[39m.\u001b[39mrun_line_magic(\u001b[39m'\u001b[39m\u001b[39mautoreload\u001b[39m\u001b[39m'\u001b[39m, \u001b[39m'\u001b[39m\u001b[39m2\u001b[39m\u001b[39m'\u001b[39m)\n\u001b[0;32m      <a href='vscode-notebook-cell://ad.monash.edu/home/User028/pcle0002/Documents/repos/lens_simulation/src/lens_simulation/notebook.ipynb#ch0000001?line=2'>3</a>\u001b[0m \u001b[39mfrom\u001b[39;00m \u001b[39mlens_simulation\u001b[39;00m\u001b[39m.\u001b[39;00m\u001b[39mLens\u001b[39;00m \u001b[39mimport\u001b[39;00m Lens, LensType, GratingSettings\n\u001b[1;32m----> <a href='vscode-notebook-cell://ad.monash.edu/home/User028/pcle0002/Documents/repos/lens_simulation/src/lens_simulation/notebook.ipynb#ch0000001?line=3'>4</a>\u001b[0m \u001b[39mfrom\u001b[39;00m \u001b[39mlens_simulation\u001b[39;00m\u001b[39m.\u001b[39;00m\u001b[39mMedium\u001b[39;00m \u001b[39mimport\u001b[39;00m Medium, LithiumNiabate\n\u001b[0;32m      <a href='vscode-notebook-cell://ad.monash.edu/home/User028/pcle0002/Documents/repos/lens_simulation/src/lens_simulation/notebook.ipynb#ch0000001?line=5'>6</a>\u001b[0m \u001b[39mfrom\u001b[39;00m \u001b[39mlens_simulation\u001b[39;00m\u001b[39m.\u001b[39;00m\u001b[39mstructures\u001b[39;00m \u001b[39mimport\u001b[39;00m SimulationOptions, SimulationParameters\n\u001b[0;32m      <a href='vscode-notebook-cell://ad.monash.edu/home/User028/pcle0002/Documents/repos/lens_simulation/src/lens_simulation/notebook.ipynb#ch0000001?line=6'>7</a>\u001b[0m \u001b[39mfrom\u001b[39;00m \u001b[39mlens_simulation\u001b[39;00m \u001b[39mimport\u001b[39;00m utils\n",
      "\u001b[1;31mImportError\u001b[0m: cannot import name 'LithiumNiabate' from 'lens_simulation.Medium' (\\\\ad.monash.edu\\home\\user028\\pcle0002\\documents\\repos\\lens_simulation\\src\\lens_simulation\\Medium.py)"
     ]
    }
   ],
   "source": [
    "%load_ext autoreload\n",
    "%autoreload 2\n",
    "from lens_simulation.Lens import Lens, LensType, GratingSettings\n",
    "from lens_simulation.Medium import Medium, LithiumNiabate\n",
    "\n",
    "from lens_simulation.structures import SimulationOptions, SimulationParameters\n",
    "from lens_simulation import utils\n",
    "import matplotlib.pyplot as plt\n",
    "\n",
    "import numpy as np\n"
   ]
  },
  {
   "cell_type": "code",
   "execution_count": null,
   "metadata": {},
   "outputs": [],
   "source": [
    "# create lens\n",
    "parameters = SimulationParameters(\n",
    "    A=10000,\n",
    "    pixel_size=1e-6,\n",
    "    sim_height=1000e-6,\n",
    "    sim_width=1000e-6,\n",
    "    sim_wavelength=488e-9,\n",
    "    lens_type=LensType.Spherical,\n",
    ")\n",
    "\n"
   ]
  },
  {
   "cell_type": "code",
   "execution_count": null,
   "metadata": {},
   "outputs": [],
   "source": [
    "\n",
    "from lens_simulation.Lens import test_escape_path_fits_inside_simulation\n",
    "from lens_simulation.Simulation import pad_simulation\n",
    "\n",
    "ep = 0.5\n",
    "lens_type = LensType.Cylindrical\n",
    "lens_type = LensType.Spherical\n",
    "\n",
    "lens = Lens(500e-6, 50e-6, 2.0, LithiumNiabate())\n",
    "lens.generate_profile(parameters.pixel_size, lens_type, length=200e-6)\n",
    "\n",
    "print(\"lens: \", lens.profile.shape)\n",
    "plt.imshow(lens.profile, cmap=\"plasma\")\n",
    "plt.title(\"lens profile\")\n",
    "plt.show()\n",
    "\n",
    "# aperture\n",
    "lens.create_custom_aperture(100e-6, 150e-6, type=\"radial\", inverted=False)\n",
    "\n",
    "# truncation\n",
    "lens.create_truncation_mask(truncation_height=49e-6, aperture=True)\n",
    "\n",
    "grating_settings = GratingSettings(\n",
    "    width = 25e-6,\n",
    "    distance = 50e-6,\n",
    "    depth = 20e-6,\n",
    "    centred = True\n",
    ")\n",
    "\n",
    "lens.create_grating_mask(grating_settings, True, True)\n",
    "\n",
    "lens.apply_masks(grating=True, truncation=True)\n",
    "\n",
    "# escape path\n",
    "lens.create_escape_path(parameters, ep)\n",
    "\n",
    "# pad simulation\n",
    "lens = pad_simulation(lens, parameters)\n",
    "\n",
    "# apply all mask\n",
    "lens.apply_aperture_masks()\n",
    "\n",
    "fig = utils.plot_apeture_masks(lens)\n",
    "plt.show()\n",
    "\n",
    "fig = utils.plot_lens_modifications(lens)\n",
    "plt.show()\n",
    "\n",
    "\n",
    "\n",
    "# TODO: add escape path to config\n"
   ]
  },
  {
   "cell_type": "code",
   "execution_count": null,
   "metadata": {},
   "outputs": [],
   "source": [
    "test_escape_path_fits_inside_simulation(lens, parameters, ep=0.1)\n",
    "test_escape_path_fits_inside_simulation(lens, parameters, ep=0.5)\n",
    "test_escape_path_fits_inside_simulation(lens, parameters, ep=1.5)"
   ]
  },
  {
   "cell_type": "code",
   "execution_count": null,
   "metadata": {},
   "outputs": [],
   "source": []
  },
  {
   "cell_type": "code",
   "execution_count": null,
   "metadata": {},
   "outputs": [],
   "source": [
    "from lens_simulation import utils, validation\n",
    "from lens_simulation.Lens import Lens, generate_lens, LensType\n",
    "from lens_simulation.Medium import LithiumNiabate\n",
    "from pprint import pprint\n",
    "\n",
    "lens_config = utils.load_yaml_config(\"lens.yaml\")\n",
    "\n",
    "print(\"before validation\")\n",
    "pprint(lens_config)\n",
    "\n",
    "lens_config = validation._validate_default_lens_config(lens_config)\n",
    "\n",
    "print(\"after validation\")\n",
    "pprint(lens_config)\n",
    "\n",
    "lens = generate_lens(lens_config, LithiumNiabate())\n",
    "\n",
    "lens.generate_profile(1e-6)\n",
    "\n",
    "# external pixel_size, lens_type\n",
    "\n",
    "import matplotlib.pyplot as plt\n",
    "plt.imshow(lens.profile)\n",
    "plt.show()\n",
    "\n"
   ]
  },
  {
   "cell_type": "code",
   "execution_count": null,
   "metadata": {},
   "outputs": [],
   "source": []
  },
  {
   "cell_type": "code",
   "execution_count": null,
   "metadata": {},
   "outputs": [],
   "source": []
  },
  {
   "cell_type": "markdown",
   "metadata": {},
   "source": [
    "#### Plot Slices as GIF\n",
    "Plot the simulation slices as gif\n",
    "\n"
   ]
  },
  {
   "cell_type": "code",
   "execution_count": null,
   "metadata": {},
   "outputs": [],
   "source": [
    "%load_ext autoreload\n",
    "%autoreload 2\n",
    "import os\n",
    "from lens_simulation import utils\n",
    "import glob\n",
    "import imageio\n",
    "import numpy as np\n",
    "import matplotlib.pyplot as plt\n",
    "\n",
    "\n",
    "print(os.getcwd())\n",
    "\n",
    "path = r\"\\\\ad.monash.edu\\home\\User028\\pcle0002\\Documents\\repos\\lens_simulation\\src\\lens_simulation\\log\\rarely-upward-ocelot\\safe-hound\"\n",
    "\n",
    "sim_path = os.path.join(path, str(0))\n",
    "utils.save_propagation_gif(sim_path)\n",
    "\n",
    "sim_path = os.path.join(path, str(1))\n",
    "utils.save_propagation_gif(sim_path)\n"
   ]
  },
  {
   "cell_type": "code",
   "execution_count": null,
   "metadata": {},
   "outputs": [],
   "source": [
    "\n",
    "# stack slices\n",
    "sim_path = os.path.join(path, str(1))\n",
    "\n",
    "utils.save_propagation_slices_gif(sim_path)"
   ]
  },
  {
   "cell_type": "code",
   "execution_count": null,
   "metadata": {},
   "outputs": [],
   "source": [
    "\n",
    "print(sim_path)\n",
    "\n",
    "filenames = sorted(glob.glob(os.path.join(sim_path, \"*mm.npy\")))\n",
    "\n",
    "# TODO: might not be possible for very large sims to load full sim, \n",
    "# will need to come up with another way to load slices in right format\n",
    "\n",
    "# sim = None\n",
    "# print(f\"{len(filenames)} slices.\")\n",
    "\n",
    "# vslice = None\n",
    "# hslice = None\n",
    "\n",
    "\n",
    "# for i each dim in slice (301)\n",
    "    # for each j slice (58)\n",
    "        # get slice column\n",
    "        # set to vslice arr column\n",
    "        # vslice[j, i] = slice[i,]\n",
    "\n",
    "# slice = np.load(filenames[0])\n",
    "# vslice = np.zeros(shape=(len(filenames), slice.shape[0]))\n",
    "\n",
    "\n",
    "# for i in range(slice.shape[0]):\n",
    "#     for j, fname in enumerate(filenames):\n",
    "\n",
    "#         slice = np.load(fname)\n",
    "        \n",
    "#         vslice[j, i] = slice[i, :] \n",
    "\n",
    "#         print(f\"{i}, {j}\")\n",
    "#         print(f\"fname: {os.path.basename(fname)}\")\n",
    "#         print(f\"shape: {slice.shape}\")\n",
    "#         print(f\"vslice: {vslice.shape})\")\n",
    "#         # print(f\"hslice: {hslice.shape})\")\n",
    "    \n",
    "\n",
    "\n"
   ]
  },
  {
   "cell_type": "code",
   "execution_count": null,
   "metadata": {},
   "outputs": [],
   "source": []
  },
  {
   "cell_type": "code",
   "execution_count": null,
   "metadata": {},
   "outputs": [],
   "source": []
  },
  {
   "cell_type": "code",
   "execution_count": null,
   "metadata": {},
   "outputs": [],
   "source": []
  },
  {
   "cell_type": "markdown",
   "metadata": {},
   "source": [
    "### Simulation Data Aggregation\n"
   ]
  },
  {
   "cell_type": "code",
   "execution_count": null,
   "metadata": {},
   "outputs": [],
   "source": [
    "import os\n",
    "import glob\n",
    "\n",
    "\n",
    "directory = r\"//ad.monash.edu/home/User028/pcle0002/Documents/repos/lens_simulation/src/lens_simulation/log/rarely-upward-ocelot\"\n",
    "\n",
    "sim_run_name = os.path.basename(directory)\n",
    "\n",
    "sim_directories = [path for path in os.listdir(directory) if os.path.isdir(os.path.join(directory, path))] \n",
    "\n",
    "print(\"directory: \", directory)\n",
    "print(\"sim_run_name: \", sim_run_name)\n",
    "print(\"sim_dir: \", sim_directories)\n",
    "\n",
    "\n",
    "\n",
    "\n"
   ]
  },
  {
   "cell_type": "code",
   "execution_count": null,
   "metadata": {},
   "outputs": [],
   "source": [
    "%load_ext autoreload\n",
    "%autoreload 2\n",
    "\n",
    "import pandas as pd\n",
    "from lens_simulation import utils\n",
    "path = r\"\\\\ad.monash.edu\\home\\User028\\pcle0002\\Documents\\repos\\lens_simulation\\src\\lens_simulation\\log\\duly-fancy-panda\\sweet-mako\"\n",
    "\n",
    "pd.set_option(\"display.max_rows\", None, \"display.max_columns\", None)\n",
    "\n",
    "# df_join = load_simulation_data(path)\n",
    "\n",
    "print(f\"path: {path}\")\n",
    "from pprint import pprint\n",
    "\n",
    "# print(\"stages: \")\n",
    "# display(df_stages)\n",
    "\n",
    "# print(\"lens: \")\n",
    "# display(df_lens)\n",
    "\n",
    "\n",
    "# print(\"beam: \")\n",
    "# display(df_beam)\n",
    "\n",
    "\n",
    "print(\"join\")\n",
    "# display(df_join)\n",
    "\n"
   ]
  },
  {
   "cell_type": "code",
   "execution_count": null,
   "metadata": {},
   "outputs": [],
   "source": [
    "%load_ext autoreload\n",
    "%autoreload 2\n",
    "\n",
    "import pandas as pd\n",
    "from lens_simulation import utils\n",
    "# path = r\"\\\\ad.monash.edu\\home\\User028\\pcle0002\\Documents\\repos\\lens_simulation\\src\\lens_simulation\\log\\duly-fancy-panda\\sweet-mako\"\n",
    "pd.set_option(\"display.max_rows\", None, \"display.max_columns\", None)\n",
    "\n",
    "directory = r\"\\\\ad.monash.edu\\home\\User028\\pcle0002\\Documents\\repos\\lens_simulation\\src\\lens_simulation\\log\\barely-ideal-zebra\"\n",
    "directory = r\"\\\\ad.monash.edu\\home\\User028\\pcle0002\\Documents\\repos\\lens_simulation\\src\\lens_simulation\\log\\lively-vital-duck\"\n",
    "\n",
    "\n",
    "df = utils.load_run_simulation_data(directory)\n",
    "\n",
    "print(f\"run: {os.path.basename(directory)}\")\n",
    "display(df.T)\n",
    "\n",
    "\n",
    "df.to_csv(\"data.csv\")"
   ]
  },
  {
   "cell_type": "code",
   "execution_count": null,
   "metadata": {},
   "outputs": [],
   "source": [
    "display(df[df[\"exponent\"] ==  2.1].T)\n"
   ]
  },
  {
   "cell_type": "code",
   "execution_count": null,
   "metadata": {},
   "outputs": [],
   "source": []
  },
  {
   "cell_type": "code",
   "execution_count": null,
   "metadata": {},
   "outputs": [],
   "source": []
  },
  {
   "cell_type": "code",
   "execution_count": null,
   "metadata": {},
   "outputs": [],
   "source": []
  },
  {
   "cell_type": "code",
   "execution_count": null,
   "metadata": {},
   "outputs": [],
   "source": []
  },
  {
   "cell_type": "code",
   "execution_count": null,
   "metadata": {},
   "outputs": [],
   "source": [
    "%load_ext autoreload\n",
    "%autoreload 2\n",
    "\n",
    "import lens_simulation\n",
    "from lens_simulation import utils\n",
    "from pprint import pprint\n",
    "import matplotlib.pyplot as plt\n",
    "from lens_simulation.Lens import generate_lens\n",
    "from lens_simulation.Medium import Medium\n",
    "\n",
    "\n",
    "config = utils.load_yaml_config(\"config.yaml\")\n",
    "\n",
    "# pprint(config)\n",
    "\n",
    "\n",
    "\n",
    "for stage_config in config[\"stages\"]:\n",
    "\n",
    "    lens_name = stage_config[\"lens\"]\n",
    "\n",
    "    for conf in config[\"lenses\"]:\n",
    "        if conf[\"name\"] == lens_name:\n",
    "            lens_config = conf\n",
    "    print(lens_name)\n",
    "    pprint(lens_config)\n",
    "\n",
    "    lens = generate_lens(lens_config, \n",
    "                Medium(lens_config[\"medium\"], config[\"sim_parameters\"][\"sim_wavelength\"]), \n",
    "                config[\"sim_parameters\"][\"pixel_size\"])\n",
    "\n",
    "    utils.plot_lens_profile_2D(lens)\n",
    "    plt.show()\n"
   ]
  },
  {
   "cell_type": "code",
   "execution_count": null,
   "metadata": {},
   "outputs": [],
   "source": []
  },
  {
   "cell_type": "code",
   "execution_count": null,
   "metadata": {},
   "outputs": [],
   "source": []
  },
  {
   "cell_type": "code",
   "execution_count": null,
   "metadata": {},
   "outputs": [],
   "source": []
  },
  {
   "cell_type": "code",
   "execution_count": null,
   "metadata": {},
   "outputs": [],
   "source": []
  },
  {
   "cell_type": "markdown",
   "metadata": {},
   "source": [
    "## Plot Simulation Setup"
   ]
  },
  {
   "cell_type": "code",
   "execution_count": null,
   "metadata": {},
   "outputs": [],
   "source": [
    "%load_ext autoreload\n",
    "%autoreload 2\n",
    "\n",
    "import numpy as np\n",
    "import matplotlib.pyplot as plt\n",
    "from lens_simulation import utils\n",
    "from pprint import pprint\n",
    "\n",
    "config = utils.load_yaml_config(\"config.yaml\")\n",
    "\n",
    "pprint(config[\"stages\"])\n",
    "\n",
    "\n",
    "\n",
    "fig = utils.plot_simulation_setup(config)\n",
    "plt.show()\n"
   ]
  },
  {
   "cell_type": "code",
   "execution_count": null,
   "metadata": {},
   "outputs": [],
   "source": []
  },
  {
   "cell_type": "code",
   "execution_count": null,
   "metadata": {},
   "outputs": [],
   "source": [
    "\n"
   ]
  },
  {
   "cell_type": "code",
   "execution_count": null,
   "metadata": {},
   "outputs": [],
   "source": [
    "\n"
   ]
  },
  {
   "cell_type": "code",
   "execution_count": null,
   "metadata": {},
   "outputs": [],
   "source": []
  },
  {
   "cell_type": "markdown",
   "metadata": {},
   "source": [
    "## Simulation Parameter Sweep\n"
   ]
  },
  {
   "cell_type": "code",
   "execution_count": null,
   "metadata": {},
   "outputs": [],
   "source": [
    "%load_ext autoreload\n",
    "%autoreload 2\n",
    "\n",
    "from lens_simulation import utils\n",
    "from pprint import pprint\n",
    "from copy import deepcopy\n",
    "\n",
    "# sweep\n",
    "config = utils.load_config(\"config.yaml\")\n",
    "\n",
    "config[\"sweep\"] = deepcopy(config)\n",
    "\n",
    "pprint(config)\n",
    "\n",
    "\n",
    "# config dict vs config yaml\n",
    "# yaml creates the sweeps\n",
    "# dicts create the objects\n",
    "\n",
    "\n"
   ]
  },
  {
   "cell_type": "code",
   "execution_count": null,
   "metadata": {},
   "outputs": [],
   "source": [
    "%load_ext autoreload\n",
    "%autoreload 2\n",
    "\n",
    "%load_ext autoreload \n",
    "%autoreload 2\n",
    "from lens_simulation import SimulationRunner\n",
    "\n",
    "\n",
    "sim_runner = SimulationRunner.SimulationRunner(\"sweep.yml\")\n",
    "# sim_runner.initialise_simulation()\n",
    "sim_runner.setup_simulation()\n",
    "# sim_runner.run_simulations()\n"
   ]
  },
  {
   "cell_type": "code",
   "execution_count": 13,
   "metadata": {},
   "outputs": [
    {
     "name": "stdout",
     "output_type": "stream",
     "text": [
      "The autoreload extension is already loaded. To reload it, use:\n",
      "  %reload_ext autoreload\n"
     ]
    }
   ],
   "source": [
    "%load_ext autoreload\n",
    "%autoreload 2\n",
    "from lens_simulation.SimulationRunner import (get_lens_configurations, generate_lens_parameter_combinations, \n",
    "    generate_beam_parameter_combinations,  get_beam_configurations, generate_stage_parameter_combination, get_stage_configurations, \n",
    "    generate_simulation_parameter_sweep)\n",
    "from lens_simulation import utils\n",
    "from lens_simulation.constants import LENS_SWEEPABLE_KEYS, MODIFICATION_SWEEPABLE_KEYS, BEAM_SWEEPABLE_KEYS, STAGE_SWEEPABLE_KEYS, GRATING_SWEEPABLE_KEYS, TRUNCATION_SWEEPABLE_KEYS, APERTURE_SWEEPABLE_KEYS\n",
    "from lens_simulation import validation\n",
    "from pprint import pprint\n",
    "from copy import deepcopy\n"
   ]
  },
  {
   "cell_type": "code",
   "execution_count": 15,
   "metadata": {},
   "outputs": [],
   "source": [
    "config = utils.load_config(\"sweep_missing.yaml\")\n",
    "info =  {\"run_id\": 9999, \"run_petname\": \"test-carry-mule\", \"log_dir\": \"log\"}\n",
    "\n",
    "simulation_configurations = generate_simulation_parameter_sweep(config, info)"
   ]
  },
  {
   "cell_type": "code",
   "execution_count": null,
   "metadata": {},
   "outputs": [],
   "source": [
    "from lens_simulation.Lens import generate_lens\n",
    "from lens_simulation.Medium import Medium\n",
    "from lens_simulation import utils\n",
    "import matplotlib.pyplot as plt\n",
    "\n",
    "for conf in simulation_configurations:\n",
    "\n",
    "    # pprint(conf)\n",
    "    lc = conf[\"lenses\"][0]\n",
    "    lens = generate_lens(lc, Medium(lc[\"medium\"]), conf[\"sim_parameters\"][\"pixel_size\"])\n",
    "\n",
    "    utils.plot_lens_profile_2D(lens)\n",
    "    plt.show()\n",
    "\n",
    "    utils.plot_lens_profile_slices(lens)\n",
    "    plt.show()\n",
    "\n"
   ]
  },
  {
   "cell_type": "code",
   "execution_count": null,
   "metadata": {},
   "outputs": [],
   "source": []
  },
  {
   "cell_type": "code",
   "execution_count": null,
   "metadata": {},
   "outputs": [],
   "source": [
    "directory = r\"\\\\ad.monash.edu\\home\\User028\\pcle0002\\Documents\\repos\\lens_simulation\\src\\lens_simulation\\log\\hugely-subtle-drake\"\n",
    "df = utils.load_run_simulation_data(directory)\n",
    "\n",
    "display(df.T)"
   ]
  },
  {
   "cell_type": "code",
   "execution_count": null,
   "metadata": {},
   "outputs": [],
   "source": []
  },
  {
   "cell_type": "markdown",
   "metadata": {},
   "source": [
    "### ZARR\n"
   ]
  },
  {
   "cell_type": "code",
   "execution_count": null,
   "metadata": {},
   "outputs": [],
   "source": [
    "import zarr\n",
    "z = zarr.zeros((10000, 10000), chunks=(1000, 1000), dtype='i4')\n",
    "print(z.info)\n",
    "\n",
    "z1 = zarr.open('data/example.zarr', mode='w', shape=(10000, 10000), chunks=(1000, 1000), dtype='i4')"
   ]
  },
  {
   "cell_type": "code",
   "execution_count": null,
   "metadata": {},
   "outputs": [],
   "source": [
    "import numpy as np\n",
    "a = np.arange(10)\n",
    "zarr.save('data/example.zarr', a)\n",
    "zarr.load('data/example.zarr')"
   ]
  },
  {
   "cell_type": "code",
   "execution_count": null,
   "metadata": {},
   "outputs": [],
   "source": [
    "\n",
    "\n",
    "\n"
   ]
  },
  {
   "cell_type": "code",
   "execution_count": null,
   "metadata": {},
   "outputs": [],
   "source": []
  },
  {
   "cell_type": "code",
   "execution_count": null,
   "metadata": {},
   "outputs": [],
   "source": []
  },
  {
   "cell_type": "code",
   "execution_count": 20,
   "metadata": {},
   "outputs": [
    {
     "name": "stdout",
     "output_type": "stream",
     "text": [
      "The autoreload extension is already loaded. To reload it, use:\n",
      "  %reload_ext autoreload\n",
      "----------- after -----------\n",
      "{'aperture': None,\n",
      " 'custom': None,\n",
      " 'diameter': 0.0003,\n",
      " 'diameter_step': None,\n",
      " 'diameter_stop': None,\n",
      " 'escape_path': None,\n",
      " 'exponent': 2.0,\n",
      " 'exponent_step': None,\n",
      " 'exponent_stop': None,\n",
      " 'grating': None,\n",
      " 'height': 5e-06,\n",
      " 'height_step': None,\n",
      " 'height_stop': None,\n",
      " 'inverted': False,\n",
      " 'length': None,\n",
      " 'lens_type': 'Spherical',\n",
      " 'medium': 2.348,\n",
      " 'medium_step': None,\n",
      " 'medium_stop': None,\n",
      " 'name': 'lens_1',\n",
      " 'truncation': None}\n",
      "{'beam': {'distance_mode': 'Direct',\n",
      "          'final_width': None,\n",
      "          'final_width_step': None,\n",
      "          'final_width_stop': None,\n",
      "          'focal_multiple': None,\n",
      "          'focal_multiple_step': None,\n",
      "          'focal_multiple_stop': None,\n",
      "          'height': 5e-05,\n",
      "          'height_step': None,\n",
      "          'height_stop': None,\n",
      "          'n_slices': 0,\n",
      "          'numerical_aperture': None,\n",
      "          'numerical_aperture_step': None,\n",
      "          'numerical_aperture_stop': None,\n",
      "          'output_medium': 1.0,\n",
      "          'position_x': 0.0,\n",
      "          'position_x_step': None,\n",
      "          'position_x_stop': None,\n",
      "          'position_y': 0.0,\n",
      "          'position_y_step': None,\n",
      "          'position_y_stop': None,\n",
      "          'shape': 'Circular',\n",
      "          'source_distance': 0.002,\n",
      "          'source_distance_step': None,\n",
      "          'source_distance_stop': None,\n",
      "          'spread': 'Plane',\n",
      "          'step_size': 0,\n",
      "          'theta': 0.0,\n",
      "          'theta_step': None,\n",
      "          'theta_stop': None,\n",
      "          'tilt_x': 0.0,\n",
      "          'tilt_x_step': None,\n",
      "          'tilt_x_stop': None,\n",
      "          'tilt_y': 0.0,\n",
      "          'tilt_y_step': None,\n",
      "          'tilt_y_stop': None,\n",
      "          'width': 0.0003,\n",
      "          'width_step': None,\n",
      "          'width_stop': None},\n",
      " 'lenses': [{'aperture': None,\n",
      "             'custom': None,\n",
      "             'diameter': 0.0003,\n",
      "             'diameter_step': None,\n",
      "             'diameter_stop': None,\n",
      "             'escape_path': None,\n",
      "             'exponent': 2.0,\n",
      "             'exponent_step': None,\n",
      "             'exponent_stop': None,\n",
      "             'grating': None,\n",
      "             'height': 5e-06,\n",
      "             'height_step': None,\n",
      "             'height_stop': None,\n",
      "             'inverted': False,\n",
      "             'length': None,\n",
      "             'lens_type': 'Spherical',\n",
      "             'medium': 2.348,\n",
      "             'medium_step': None,\n",
      "             'medium_stop': None,\n",
      "             'name': 'lens_1',\n",
      "             'truncation': None}],\n",
      " 'options': {'debug': False,\n",
      "             'log_dir': 'log',\n",
      "             'save': False,\n",
      "             'save_plot': True,\n",
      "             'verbose': False},\n",
      " 'sim_parameters': {'A': 10000,\n",
      "                    'pixel_size': 1e-06,\n",
      "                    'sim_height': 0.0005,\n",
      "                    'sim_wavelength': 4.88e-07,\n",
      "                    'sim_width': 0.0005},\n",
      " 'stages': [{'finish_distance': 0.01,\n",
      "             'finish_distance_step': None,\n",
      "             'finish_distance_stop': None,\n",
      "             'focal_distance_multiple': 1.0,\n",
      "             'focal_distance_multiple_step': None,\n",
      "             'focal_distance_multiple_stop': None,\n",
      "             'focal_distance_start_multiple': 0.0,\n",
      "             'focal_distance_start_multiple_step': None,\n",
      "             'focal_distance_start_multiple_stop': None,\n",
      "             'lens': 'lens_1',\n",
      "             'n_slices': 0,\n",
      "             'output': 'medium_2',\n",
      "             'output_step': None,\n",
      "             'output_stop': None,\n",
      "             'start_distance': 0,\n",
      "             'start_distance_step': None,\n",
      "             'start_distance_stop': None,\n",
      "             'step_size': 0.0001,\n",
      "             'use_equivalent_focal_distance': False}]}\n"
     ]
    }
   ],
   "source": [
    "%load_ext autoreload\n",
    "%autoreload 2\n",
    "from lens_simulation import utils\n",
    "import lens_simulation\n",
    "import os\n",
    "from pprint import pprint \n",
    "from lens_simulation.validation import DEFAULT_CONFIG\n",
    "\n",
    "\n",
    "# mc = utils.load_yaml_config(\"config_minimum.yaml\")\n",
    "# print(\"----------- before -----------\")\n",
    "# pprint(mc[\"lenses\"][0])\n",
    "\n",
    "config = utils.load_config(\"config_minimum.yaml\")\n",
    "\n",
    "lc = config[\"lenses\"][0]\n",
    "\n",
    "print(\"----------- after -----------\")\n",
    "pprint(lc)\n",
    "\n",
    "pprint(config)\n",
    "\n"
   ]
  },
  {
   "cell_type": "code",
   "execution_count": null,
   "metadata": {},
   "outputs": [],
   "source": []
  }
 ],
 "metadata": {
  "interpreter": {
   "hash": "e02cff3bbd039842ce3f743c0fb602c20a11e2fd1dd75e38e8f89ff88823b7b6"
  },
  "kernelspec": {
   "display_name": "Python 3.8.13 ('lens_sim')",
   "language": "python",
   "name": "python3"
  },
  "language_info": {
   "codemirror_mode": {
    "name": "ipython",
    "version": 3
   },
   "file_extension": ".py",
   "mimetype": "text/x-python",
   "name": "python",
   "nbconvert_exporter": "python",
   "pygments_lexer": "ipython3",
   "version": "3.8.13"
  },
  "orig_nbformat": 4
 },
 "nbformat": 4,
 "nbformat_minor": 2
}
