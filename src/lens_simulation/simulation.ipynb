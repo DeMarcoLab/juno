{
 "cells": [
  {
   "cell_type": "code",
   "execution_count": 52,
   "metadata": {},
   "outputs": [
    {
     "name": "stdout",
     "output_type": "stream",
     "text": [
      "The autoreload extension is already loaded. To reload it, use:\n",
      "  %reload_ext autoreload\n",
      "--------------------------------------------------\n",
      "\n",
      "Simulation Run: subtly-tight-zebra (dfef4f0d-42a3-4fc5-a911-be611f9f78c4)\n",
      "Data: \\\\ad.monash.edu\\home\\User028\\pcle0002\\Documents\\repos\\lens_simulation\\src\\lens_simulation\\log\\subtly-tight-zebra\n",
      "--------------------------------------------------\n",
      "\n",
      "6 Lens Configurations. 3 Stage Configurations\n",
      "Generating 18 Simulation Configurations\n"
     ]
    },
    {
     "name": "stderr",
     "output_type": "stream",
     "text": [
      "  0%|          | 0/6 [00:00<?, ?it/s]"
     ]
    },
    {
     "name": "stdout",
     "output_type": "stream",
     "text": [
      "{'lenses': [{'exponent': 0.0,\n",
      "             'height': 7e-05,\n",
      "             'medium': 'medium_1',\n",
      "             'name': 'lens_1'},\n",
      "            {'exponent': 2.0,\n",
      "             'height': 7.5e-05,\n",
      "             'medium': 'medium_1',\n",
      "             'name': 'lens_2'}],\n",
      " 'log_dir': '\\\\\\\\ad.monash.edu\\\\home\\\\User028\\\\pcle0002\\\\Documents\\\\repos\\\\lens_simulation\\\\src\\\\lens_simulation\\\\log\\\\subtly-tight-zebra',\n",
      " 'mediums': [{'name': 'medium_1', 'refractive_index': 2.348},\n",
      "             {'name': 'medium_2', 'refractive_index': 1.5}],\n",
      " 'options': {'save': False, 'save_plot': True, 'verbose': False},\n",
      " 'run_id': UUID('dfef4f0d-42a3-4fc5-a911-be611f9f78c4'),\n",
      " 'run_petname': 'subtly-tight-zebra',\n",
      " 'sim_parameters': {'A': 10000,\n",
      "                    'pixel_size': 1e-06,\n",
      "                    'sim_wavelength': 4.88e-07,\n",
      "                    'sim_width': 0.0045},\n",
      " 'stages': [{'finish_distance': 0.01,\n",
      "             'lens': 'lens_1',\n",
      "             'n_slices': 100,\n",
      "             'options': {'focal_distance_multiple': 2.0,\n",
      "                         'use_equivalent_focal_distance': True},\n",
      "             'output': 'medium_1',\n",
      "             'start_distance': 0},\n",
      "            {'finish_distance': 0.01,\n",
      "             'lens': 'lens_2',\n",
      "             'n_slices': 1000,\n",
      "             'options': {'focal_distance_multiple': 2.0,\n",
      "                         'use_equivalent_focal_distance': True},\n",
      "             'output': 'medium_2',\n",
      "             'start_distance': 0},\n",
      "            {'finish_distance': 0.01,\n",
      "             'lens': 'lens_2',\n",
      "             'n_slices': 1000,\n",
      "             'options': {'focal_distance_multiple': 2.0,\n",
      "                         'use_equivalent_focal_distance': False},\n",
      "             'output': 'medium_1',\n",
      "             'start_distance': 0},\n",
      "            {'finish_distance': 0.01,\n",
      "             'lens': 'lens_2',\n",
      "             'n_slices': 1000,\n",
      "             'options': {'focal_distance_multiple': 2.0,\n",
      "                         'use_equivalent_focal_distance': True},\n",
      "             'output': 'medium_2',\n",
      "             'start_distance': 0}]}\n",
      "Generated 1 simulation configurations.\n"
     ]
    },
    {
     "name": "stderr",
     "output_type": "stream",
     "text": [
      "\n"
     ]
    }
   ],
   "source": [
    "%load_ext autoreload \n",
    "%autoreload 2\n",
    "from lens_simulation import SimulationRunner\n",
    "\n",
    "\n",
    "sim_runner = SimulationRunner.SimulationRunner(\"config.yaml\")\n",
    "sim_runner.initialise_simulation()\n",
    "sim_runner.setup_simulation()\n",
    "# sim_runner.run_simulations()\n",
    "\n",
    "# Test github"
   ]
  },
  {
   "cell_type": "markdown",
   "metadata": {},
   "source": [
    "## Simulation Class\n",
    "Test example simulation\n",
    "\n"
   ]
  },
  {
   "cell_type": "code",
   "execution_count": null,
   "metadata": {},
   "outputs": [],
   "source": [
    "# %load_ext autoreload\n",
    "# %autoreload 2\n",
    "# from lens_simulation import Simulation\n",
    "# import uuid\n",
    "# import os\n",
    "# import yaml\n",
    "\n",
    "# with open(\"config.yaml\", \"r\") as f:\n",
    "#     conf = yaml.full_load(f)\n",
    "\n",
    "# run_id = uuid.uuid4()  # run_id is for when running a batch of sims, each sim has unique id\n",
    "# data_path = os.path.join(os.getcwd() , \"log\",  str(run_id))\n",
    "# config = {\"run_id\": run_id, \"parameters\": None, \"log_dir\": data_path, \n",
    "#             \"sim_parameters\": conf[\"sim_parameters\"], \"options\": conf[\"options\"],\n",
    "#             \"mediums\": conf[\"mediums\"], \"lenses\": conf[\"lenses\"],\n",
    "#             \"stages\": conf[\"stages\"]}\n",
    "\n",
    "# sim = Simulation.Simulation(config)\n",
    "# sim.run_simulation()"
   ]
  },
  {
   "cell_type": "code",
   "execution_count": null,
   "metadata": {},
   "outputs": [],
   "source": [
    "%load_ext autoreload\n",
    "%autoreload 2\n",
    "\n",
    "from lens_simulation.run_simulation import run_single_simulation\n",
    "\n",
    "\n",
    "run_single_simulation(\"config.yaml\")"
   ]
  },
  {
   "cell_type": "code",
   "execution_count": null,
   "metadata": {},
   "outputs": [],
   "source": []
  }
 ],
 "metadata": {
  "interpreter": {
   "hash": "9c059ec6bcfa5754e4bdc7a0641d1daa6023a22a449748e5dc7cf77ba0018324"
  },
  "kernelspec": {
   "display_name": "Python 3.7.12 ('lens_sim')",
   "language": "python",
   "name": "python3"
  },
  "language_info": {
   "codemirror_mode": {
    "name": "ipython",
    "version": 3
   },
   "file_extension": ".py",
   "mimetype": "text/x-python",
   "name": "python",
   "nbconvert_exporter": "python",
   "pygments_lexer": "ipython3",
   "version": "3.8.13"
  },
  "orig_nbformat": 4
 },
 "nbformat": 4,
 "nbformat_minor": 2
}
