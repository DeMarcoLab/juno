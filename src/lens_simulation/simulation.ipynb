{
 "cells": [
  {
   "cell_type": "code",
   "execution_count": 1,
   "metadata": {},
   "outputs": [],
   "source": [
    "%load_ext autoreload \n",
    "%autoreload 2\n",
    "from lens_simulation import SimulationRunner, Lens\n",
    "\n",
    "\n",
    "# sim_runner = SimulationRunner.SimulationRunner(\"config.yaml\")\n",
    "# sim_runner.initialise_simulation()\n",
    "# sim_runner.setup_simulation()\n",
    "# sim_runner.run_simulations()\n",
    "\n",
    "# Test github"
   ]
  },
  {
   "cell_type": "markdown",
   "metadata": {},
   "source": [
    "## Simulation Class\n",
    "Test example simulation\n",
    "\n"
   ]
  },
  {
   "cell_type": "code",
   "execution_count": null,
   "metadata": {},
   "outputs": [],
   "source": [
    "# %load_ext autoreload\n",
    "# %autoreload 2\n",
    "# from lens_simulation import Simulation\n",
    "# import uuid\n",
    "# import os\n",
    "# import yaml\n",
    "\n",
    "# with open(\"config.yaml\", \"r\") as f:\n",
    "#     conf = yaml.full_load(f)\n",
    "\n",
    "# run_id = uuid.uuid4()  # run_id is for when running a batch of sims, each sim has unique id\n",
    "# data_path = os.path.join(os.getcwd() , \"log\",  str(run_id))\n",
    "# config = {\"run_id\": run_id, \"parameters\": None, \"log_dir\": data_path, \n",
    "#             \"sim_parameters\": conf[\"sim_parameters\"], \"options\": conf[\"options\"],\n",
    "#             \"mediums\": conf[\"mediums\"], \"lenses\": conf[\"lenses\"],\n",
    "#             \"stages\": conf[\"stages\"]}\n",
    "\n",
    "# sim = Simulation.Simulation(config)\n",
    "# sim.run_simulation()"
   ]
  },
  {
   "cell_type": "code",
   "execution_count": 3,
   "metadata": {},
   "outputs": [
    {
     "name": "stdout",
     "output_type": "stream",
     "text": [
      "The autoreload extension is already loaded. To reload it, use:\n",
      "  %reload_ext autoreload\n"
     ]
    },
    {
     "ename": "TypeError",
     "evalue": "unsupported operand type(s) for /: 'list' and 'float'",
     "output_type": "error",
     "traceback": [
      "\u001b[1;31m---------------------------------------------------------------------------\u001b[0m",
      "\u001b[1;31mTypeError\u001b[0m                                 Traceback (most recent call last)",
      "\u001b[1;32m\\home\\User028\\pcle0002\\Documents\\repos\\lens_simulation\\src\\lens_simulation\\simulation.ipynb Cell 4'\u001b[0m in \u001b[0;36m<cell line: 7>\u001b[1;34m()\u001b[0m\n\u001b[0;32m      <a href='vscode-notebook-cell://ad.monash.edu/home/User028/pcle0002/Documents/repos/lens_simulation/src/lens_simulation/simulation.ipynb#ch0000003?line=1'>2</a>\u001b[0m get_ipython()\u001b[39m.\u001b[39mrun_line_magic(\u001b[39m'\u001b[39m\u001b[39mautoreload\u001b[39m\u001b[39m'\u001b[39m, \u001b[39m'\u001b[39m\u001b[39m2\u001b[39m\u001b[39m'\u001b[39m)\n\u001b[0;32m      <a href='vscode-notebook-cell://ad.monash.edu/home/User028/pcle0002/Documents/repos/lens_simulation/src/lens_simulation/simulation.ipynb#ch0000003?line=3'>4</a>\u001b[0m \u001b[39mfrom\u001b[39;00m \u001b[39mlens_simulation\u001b[39;00m\u001b[39m.\u001b[39;00m\u001b[39mrun_simulation\u001b[39;00m \u001b[39mimport\u001b[39;00m run_single_simulation\n\u001b[1;32m----> <a href='vscode-notebook-cell://ad.monash.edu/home/User028/pcle0002/Documents/repos/lens_simulation/src/lens_simulation/simulation.ipynb#ch0000003?line=6'>7</a>\u001b[0m run_single_simulation(\u001b[39m\"\u001b[39;49m\u001b[39mconfig.yaml\u001b[39;49m\u001b[39m\"\u001b[39;49m)\n",
      "File \u001b[1;32m\\\\ad.monash.edu\\home\\user028\\pcle0002\\documents\\repos\\lens_simulation\\src\\lens_simulation\\run_simulation.py:35\u001b[0m, in \u001b[0;36mrun_single_simulation\u001b[1;34m(config_filename)\u001b[0m\n\u001b[0;32m     <a href='file://ad.monash.edu/home/user028/pcle0002/documents/repos/lens_simulation/src/lens_simulation/run_simulation.py?line=23'>24</a>\u001b[0m data_path \u001b[39m=\u001b[39m os\u001b[39m.\u001b[39mpath\u001b[39m.\u001b[39mjoin(os\u001b[39m.\u001b[39mgetcwd(), \u001b[39m\"\u001b[39m\u001b[39mlog\u001b[39m\u001b[39m\"\u001b[39m, \u001b[39mstr\u001b[39m(run_id))\n\u001b[0;32m     <a href='file://ad.monash.edu/home/user028/pcle0002/documents/repos/lens_simulation/src/lens_simulation/run_simulation.py?line=24'>25</a>\u001b[0m config \u001b[39m=\u001b[39m {\n\u001b[0;32m     <a href='file://ad.monash.edu/home/user028/pcle0002/documents/repos/lens_simulation/src/lens_simulation/run_simulation.py?line=25'>26</a>\u001b[0m     \u001b[39m\"\u001b[39m\u001b[39mrun_id\u001b[39m\u001b[39m\"\u001b[39m: run_id,\n\u001b[0;32m     <a href='file://ad.monash.edu/home/user028/pcle0002/documents/repos/lens_simulation/src/lens_simulation/run_simulation.py?line=26'>27</a>\u001b[0m     \u001b[39m\"\u001b[39m\u001b[39mlog_dir\u001b[39m\u001b[39m\"\u001b[39m: data_path,\n\u001b[1;32m   (...)\u001b[0m\n\u001b[0;32m     <a href='file://ad.monash.edu/home/user028/pcle0002/documents/repos/lens_simulation/src/lens_simulation/run_simulation.py?line=31'>32</a>\u001b[0m     \u001b[39m\"\u001b[39m\u001b[39mstages\u001b[39m\u001b[39m\"\u001b[39m: conf[\u001b[39m\"\u001b[39m\u001b[39mstages\u001b[39m\u001b[39m\"\u001b[39m],\n\u001b[0;32m     <a href='file://ad.monash.edu/home/user028/pcle0002/documents/repos/lens_simulation/src/lens_simulation/run_simulation.py?line=32'>33</a>\u001b[0m }\n\u001b[1;32m---> <a href='file://ad.monash.edu/home/user028/pcle0002/documents/repos/lens_simulation/src/lens_simulation/run_simulation.py?line=34'>35</a>\u001b[0m sim \u001b[39m=\u001b[39m Simulation\u001b[39m.\u001b[39;49mSimulation(config)\n\u001b[0;32m     <a href='file://ad.monash.edu/home/user028/pcle0002/documents/repos/lens_simulation/src/lens_simulation/run_simulation.py?line=35'>36</a>\u001b[0m sim\u001b[39m.\u001b[39mrun_simulation()\n",
      "File \u001b[1;32m\\\\ad.monash.edu\\home\\user028\\pcle0002\\documents\\repos\\lens_simulation\\src\\lens_simulation\\Simulation.py:38\u001b[0m, in \u001b[0;36mSimulation.__init__\u001b[1;34m(self, config)\u001b[0m\n\u001b[0;32m     <a href='file://ad.monash.edu/home/user028/pcle0002/documents/repos/lens_simulation/src/lens_simulation/Simulation.py?line=35'>36</a>\u001b[0m \u001b[39mself\u001b[39m\u001b[39m.\u001b[39mpetname \u001b[39m=\u001b[39m petname\u001b[39m.\u001b[39mGenerate(\u001b[39m2\u001b[39m)  \n\u001b[0;32m     <a href='file://ad.monash.edu/home/user028/pcle0002/documents/repos/lens_simulation/src/lens_simulation/Simulation.py?line=36'>37</a>\u001b[0m \u001b[39mself\u001b[39m\u001b[39m.\u001b[39mread_configuration(config\u001b[39m=\u001b[39mconfig)\n\u001b[1;32m---> <a href='file://ad.monash.edu/home/user028/pcle0002/documents/repos/lens_simulation/src/lens_simulation/Simulation.py?line=37'>38</a>\u001b[0m \u001b[39mself\u001b[39;49m\u001b[39m.\u001b[39;49msetup_simulation()\n",
      "File \u001b[1;32m\\\\ad.monash.edu\\home\\user028\\pcle0002\\documents\\repos\\lens_simulation\\src\\lens_simulation\\Simulation.py:69\u001b[0m, in \u001b[0;36mSimulation.setup_simulation\u001b[1;34m(self)\u001b[0m\n\u001b[0;32m     <a href='file://ad.monash.edu/home/user028/pcle0002/documents/repos/lens_simulation/src/lens_simulation/Simulation.py?line=65'>66</a>\u001b[0m \u001b[39mself\u001b[39m\u001b[39m.\u001b[39mmedium_dict \u001b[39m=\u001b[39m \u001b[39mself\u001b[39m\u001b[39m.\u001b[39mgenerate_mediums()\n\u001b[0;32m     <a href='file://ad.monash.edu/home/user028/pcle0002/documents/repos/lens_simulation/src/lens_simulation/Simulation.py?line=67'>68</a>\u001b[0m \u001b[39m# generate all lenses for the simulations\u001b[39;00m\n\u001b[1;32m---> <a href='file://ad.monash.edu/home/user028/pcle0002/documents/repos/lens_simulation/src/lens_simulation/Simulation.py?line=68'>69</a>\u001b[0m \u001b[39mself\u001b[39m\u001b[39m.\u001b[39mlens_dict \u001b[39m=\u001b[39m \u001b[39mself\u001b[39;49m\u001b[39m.\u001b[39;49mgenerate_lenses()\n\u001b[0;32m     <a href='file://ad.monash.edu/home/user028/pcle0002/documents/repos/lens_simulation/src/lens_simulation/Simulation.py?line=70'>71</a>\u001b[0m \u001b[39m# generate all simulation stages\u001b[39;00m\n\u001b[0;32m     <a href='file://ad.monash.edu/home/user028/pcle0002/documents/repos/lens_simulation/src/lens_simulation/Simulation.py?line=71'>72</a>\u001b[0m \u001b[39mself\u001b[39m\u001b[39m.\u001b[39mgenerate_simulation_stages()\n",
      "File \u001b[1;32m\\\\ad.monash.edu\\home\\user028\\pcle0002\\documents\\repos\\lens_simulation\\src\\lens_simulation\\Simulation.py:217\u001b[0m, in \u001b[0;36mSimulation.generate_lenses\u001b[1;34m(self)\u001b[0m\n\u001b[0;32m    <a href='file://ad.monash.edu/home/user028/pcle0002/documents/repos/lens_simulation/src/lens_simulation/Simulation.py?line=209'>210</a>\u001b[0m     \u001b[39massert\u001b[39;00m lens[\u001b[39m\"\u001b[39m\u001b[39mmedium\u001b[39m\u001b[39m\"\u001b[39m] \u001b[39min\u001b[39;00m \u001b[39mself\u001b[39m\u001b[39m.\u001b[39mmedium_dict, \u001b[39m\"\u001b[39m\u001b[39mLens Medium not found in simulation mediums\u001b[39m\u001b[39m\"\u001b[39m\n\u001b[0;32m    <a href='file://ad.monash.edu/home/user028/pcle0002/documents/repos/lens_simulation/src/lens_simulation/Simulation.py?line=211'>212</a>\u001b[0m     lens_dict[lens[\u001b[39m\"\u001b[39m\u001b[39mname\u001b[39m\u001b[39m\"\u001b[39m]] \u001b[39m=\u001b[39m Lens\u001b[39m.\u001b[39mLens(\n\u001b[0;32m    <a href='file://ad.monash.edu/home/user028/pcle0002/documents/repos/lens_simulation/src/lens_simulation/Simulation.py?line=212'>213</a>\u001b[0m         diameter\u001b[39m=\u001b[39m\u001b[39mself\u001b[39m\u001b[39m.\u001b[39msim_width, height\u001b[39m=\u001b[39mlens[\u001b[39m\"\u001b[39m\u001b[39mheight\u001b[39m\u001b[39m\"\u001b[39m],\n\u001b[0;32m    <a href='file://ad.monash.edu/home/user028/pcle0002/documents/repos/lens_simulation/src/lens_simulation/Simulation.py?line=213'>214</a>\u001b[0m         exponent\u001b[39m=\u001b[39mlens[\u001b[39m\"\u001b[39m\u001b[39mexponent\u001b[39m\u001b[39m\"\u001b[39m], medium\u001b[39m=\u001b[39m\u001b[39mself\u001b[39m\u001b[39m.\u001b[39mmedium_dict[lens[\u001b[39m\"\u001b[39m\u001b[39mmedium\u001b[39m\u001b[39m\"\u001b[39m]]\n\u001b[0;32m    <a href='file://ad.monash.edu/home/user028/pcle0002/documents/repos/lens_simulation/src/lens_simulation/Simulation.py?line=214'>215</a>\u001b[0m     ) \n\u001b[1;32m--> <a href='file://ad.monash.edu/home/user028/pcle0002/documents/repos/lens_simulation/src/lens_simulation/Simulation.py?line=216'>217</a>\u001b[0m     lens_dict[lens[\u001b[39m\"\u001b[39;49m\u001b[39mname\u001b[39;49m\u001b[39m\"\u001b[39;49m]]\u001b[39m.\u001b[39;49mgenerate_profile(pixel_size\u001b[39m=\u001b[39;49m\u001b[39mself\u001b[39;49m\u001b[39m.\u001b[39;49mpixel_size)\n\u001b[0;32m    <a href='file://ad.monash.edu/home/user028/pcle0002/documents/repos/lens_simulation/src/lens_simulation/Simulation.py?line=218'>219</a>\u001b[0m \u001b[39mif\u001b[39;00m \u001b[39mself\u001b[39m\u001b[39m.\u001b[39moptions[\u001b[39m\"\u001b[39m\u001b[39mplot_lens\u001b[39m\u001b[39m\"\u001b[39m]:\n\u001b[0;32m    <a href='file://ad.monash.edu/home/user028/pcle0002/documents/repos/lens_simulation/src/lens_simulation/Simulation.py?line=219'>220</a>\u001b[0m     utils\u001b[39m.\u001b[39mplot_lenses(lens_dict)\n",
      "File \u001b[1;32m\\\\ad.monash.edu\\home\\user028\\pcle0002\\documents\\repos\\lens_simulation\\src\\lens_simulation\\Lens.py:61\u001b[0m, in \u001b[0;36mLens.generate_profile\u001b[1;34m(self, pixel_size)\u001b[0m\n\u001b[0;32m     <a href='file://ad.monash.edu/home/user028/pcle0002/documents/repos/lens_simulation/src/lens_simulation/Lens.py?line=56'>57</a>\u001b[0m radius_px \u001b[39m=\u001b[39m np\u001b[39m.\u001b[39mlinspace(\u001b[39m0\u001b[39m, radius, n_pixels)\n\u001b[0;32m     <a href='file://ad.monash.edu/home/user028/pcle0002/documents/repos/lens_simulation/src/lens_simulation/Lens.py?line=58'>59</a>\u001b[0m \u001b[39m# determine coefficent at boundary conditions\u001b[39;00m\n\u001b[0;32m     <a href='file://ad.monash.edu/home/user028/pcle0002/documents/repos/lens_simulation/src/lens_simulation/Lens.py?line=59'>60</a>\u001b[0m \u001b[39m# TODO: will be different for Hershel, Paraxial approximation)\u001b[39;00m\n\u001b[1;32m---> <a href='file://ad.monash.edu/home/user028/pcle0002/documents/repos/lens_simulation/src/lens_simulation/Lens.py?line=60'>61</a>\u001b[0m coefficient \u001b[39m=\u001b[39m \u001b[39mself\u001b[39;49m\u001b[39m.\u001b[39;49mheight \u001b[39m/\u001b[39;49m (radius\u001b[39m*\u001b[39;49m\u001b[39m*\u001b[39;49m\u001b[39mself\u001b[39;49m\u001b[39m.\u001b[39;49mexponent)\n\u001b[0;32m     <a href='file://ad.monash.edu/home/user028/pcle0002/documents/repos/lens_simulation/src/lens_simulation/Lens.py?line=62'>63</a>\u001b[0m \u001b[39m# generic lens formula\u001b[39;00m\n\u001b[0;32m     <a href='file://ad.monash.edu/home/user028/pcle0002/documents/repos/lens_simulation/src/lens_simulation/Lens.py?line=63'>64</a>\u001b[0m \u001b[39m# H = h - C*r ^ e\u001b[39;00m\n\u001b[0;32m     <a href='file://ad.monash.edu/home/user028/pcle0002/documents/repos/lens_simulation/src/lens_simulation/Lens.py?line=64'>65</a>\u001b[0m heights \u001b[39m=\u001b[39m \u001b[39mself\u001b[39m\u001b[39m.\u001b[39mheight \u001b[39m-\u001b[39m coefficient \u001b[39m*\u001b[39m radius_px\u001b[39m*\u001b[39m\u001b[39m*\u001b[39m\u001b[39mself\u001b[39m\u001b[39m.\u001b[39mexponent\n",
      "\u001b[1;31mTypeError\u001b[0m: unsupported operand type(s) for /: 'list' and 'float'"
     ]
    }
   ],
   "source": [
    "%load_ext autoreload\n",
    "%autoreload 2\n",
    "\n",
    "from lens_simulation.run_simulation import run_single_simulation\n",
    "\n",
    "\n",
    "run_single_simulation(\"config.yaml\")"
   ]
  },
  {
   "cell_type": "code",
   "execution_count": null,
   "metadata": {},
   "outputs": [],
   "source": []
  }
 ],
 "metadata": {
  "interpreter": {
   "hash": "9c059ec6bcfa5754e4bdc7a0641d1daa6023a22a449748e5dc7cf77ba0018324"
  },
  "kernelspec": {
   "display_name": "Python 3.7.12 ('lens_sim')",
   "language": "python",
   "name": "python3"
  },
  "language_info": {
   "codemirror_mode": {
    "name": "ipython",
    "version": 3
   },
   "file_extension": ".py",
   "mimetype": "text/x-python",
   "name": "python",
   "nbconvert_exporter": "python",
   "pygments_lexer": "ipython3",
   "version": "3.8.13"
  },
  "orig_nbformat": 4
 },
 "nbformat": 4,
 "nbformat_minor": 2
}
