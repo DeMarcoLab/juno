{
 "cells": [
  {
   "cell_type": "code",
   "execution_count": 52,
   "metadata": {},
   "outputs": [
    {
     "name": "stdout",
     "output_type": "stream",
     "text": [
      "The autoreload extension is already loaded. To reload it, use:\n",
      "  %reload_ext autoreload\n",
      "--------------------------------------------------\n",
      "\n",
      "Simulation Run: subtly-tight-zebra (dfef4f0d-42a3-4fc5-a911-be611f9f78c4)\n",
      "Data: \\\\ad.monash.edu\\home\\User028\\pcle0002\\Documents\\repos\\lens_simulation\\src\\lens_simulation\\log\\subtly-tight-zebra\n",
      "--------------------------------------------------\n",
      "\n",
      "6 Lens Configurations. 3 Stage Configurations\n",
      "Generating 18 Simulation Configurations\n"
     ]
    },
    {
     "name": "stderr",
     "output_type": "stream",
     "text": [
      "  0%|          | 0/6 [00:00<?, ?it/s]"
     ]
    },
    {
     "name": "stdout",
     "output_type": "stream",
     "text": [
      "{'lenses': [{'exponent': 0.0,\n",
      "             'height': 7e-05,\n",
      "             'medium': 'medium_1',\n",
      "             'name': 'lens_1'},\n",
      "            {'exponent': 2.0,\n",
      "             'height': 7.5e-05,\n",
      "             'medium': 'medium_1',\n",
      "             'name': 'lens_2'}],\n",
      " 'log_dir': '\\\\\\\\ad.monash.edu\\\\home\\\\User028\\\\pcle0002\\\\Documents\\\\repos\\\\lens_simulation\\\\src\\\\lens_simulation\\\\log\\\\subtly-tight-zebra',\n",
      " 'mediums': [{'name': 'medium_1', 'refractive_index': 2.348},\n",
      "             {'name': 'medium_2', 'refractive_index': 1.5}],\n",
      " 'options': {'save': False, 'save_plot': True, 'verbose': False},\n",
      " 'run_id': UUID('dfef4f0d-42a3-4fc5-a911-be611f9f78c4'),\n",
      " 'run_petname': 'subtly-tight-zebra',\n",
      " 'sim_parameters': {'A': 10000,\n",
      "                    'pixel_size': 1e-06,\n",
      "                    'sim_wavelength': 4.88e-07,\n",
      "                    'sim_width': 0.0045},\n",
      " 'stages': [{'finish_distance': 0.01,\n",
      "             'lens': 'lens_1',\n",
      "             'n_slices': 100,\n",
      "             'options': {'focal_distance_multiple': 2.0,\n",
      "                         'use_equivalent_focal_distance': True},\n",
      "             'output': 'medium_1',\n",
      "             'start_distance': 0},\n",
      "            {'finish_distance': 0.01,\n",
      "             'lens': 'lens_2',\n",
      "             'n_slices': 1000,\n",
      "             'options': {'focal_distance_multiple': 2.0,\n",
      "                         'use_equivalent_focal_distance': True},\n",
      "             'output': 'medium_2',\n",
      "             'start_distance': 0},\n",
      "            {'finish_distance': 0.01,\n",
      "             'lens': 'lens_2',\n",
      "             'n_slices': 1000,\n",
      "             'options': {'focal_distance_multiple': 2.0,\n",
      "                         'use_equivalent_focal_distance': False},\n",
      "             'output': 'medium_1',\n",
      "             'start_distance': 0},\n",
      "            {'finish_distance': 0.01,\n",
      "             'lens': 'lens_2',\n",
      "             'n_slices': 1000,\n",
      "             'options': {'focal_distance_multiple': 2.0,\n",
      "                         'use_equivalent_focal_distance': True},\n",
      "             'output': 'medium_2',\n",
      "             'start_distance': 0}]}\n",
      "Generated 1 simulation configurations.\n"
     ]
    },
    {
     "name": "stderr",
     "output_type": "stream",
     "text": [
      "\n"
     ]
    }
   ],
   "source": [
    "%load_ext autoreload \n",
    "%autoreload 2\n",
    "from lens_simulation import SimulationRunner\n",
    "\n",
    "\n",
    "sim_runner = SimulationRunner.SimulationRunner(\"config.yaml\")\n",
    "sim_runner.initialise_simulation()\n",
    "sim_runner.setup_simulation()\n",
    "# sim_runner.run_simulations()\n",
    "\n",
    "# Test github"
   ]
  },
  {
   "cell_type": "markdown",
   "metadata": {},
   "source": [
    "## Simulation Class\n",
    "Test example simulation\n",
    "\n"
   ]
  },
  {
   "cell_type": "code",
   "execution_count": 2,
   "metadata": {},
   "outputs": [
    {
     "ename": "TypeError",
     "evalue": "unsupported operand type(s) for /: 'list' and 'float'",
     "output_type": "error",
     "traceback": [
      "\u001b[1;31m---------------------------------------------------------------------------\u001b[0m",
      "\u001b[1;31mTypeError\u001b[0m                                 Traceback (most recent call last)",
      "\u001b[1;32m\\home\\User028\\pcle0002\\Documents\\repos\\lens_simulation\\src\\lens_simulation\\simulation.ipynb Cell 3'\u001b[0m in \u001b[0;36m<cell line: 18>\u001b[1;34m()\u001b[0m\n\u001b[0;32m     <a href='vscode-notebook-cell://ad.monash.edu/home/User028/pcle0002/Documents/repos/lens_simulation/src/lens_simulation/simulation.ipynb#ch0000002?line=11'>12</a>\u001b[0m data_path \u001b[39m=\u001b[39m os\u001b[39m.\u001b[39mpath\u001b[39m.\u001b[39mjoin(os\u001b[39m.\u001b[39mgetcwd() , \u001b[39m\"\u001b[39m\u001b[39mlog\u001b[39m\u001b[39m\"\u001b[39m,  \u001b[39mstr\u001b[39m(run_id))\n\u001b[0;32m     <a href='vscode-notebook-cell://ad.monash.edu/home/User028/pcle0002/Documents/repos/lens_simulation/src/lens_simulation/simulation.ipynb#ch0000002?line=12'>13</a>\u001b[0m config \u001b[39m=\u001b[39m {\u001b[39m\"\u001b[39m\u001b[39mrun_id\u001b[39m\u001b[39m\"\u001b[39m: run_id, \u001b[39m\"\u001b[39m\u001b[39mparameters\u001b[39m\u001b[39m\"\u001b[39m: \u001b[39mNone\u001b[39;00m, \u001b[39m\"\u001b[39m\u001b[39mlog_dir\u001b[39m\u001b[39m\"\u001b[39m: data_path, \n\u001b[0;32m     <a href='vscode-notebook-cell://ad.monash.edu/home/User028/pcle0002/Documents/repos/lens_simulation/src/lens_simulation/simulation.ipynb#ch0000002?line=13'>14</a>\u001b[0m             \u001b[39m\"\u001b[39m\u001b[39msim_parameters\u001b[39m\u001b[39m\"\u001b[39m: conf[\u001b[39m\"\u001b[39m\u001b[39msim_parameters\u001b[39m\u001b[39m\"\u001b[39m], \u001b[39m\"\u001b[39m\u001b[39moptions\u001b[39m\u001b[39m\"\u001b[39m: conf[\u001b[39m\"\u001b[39m\u001b[39moptions\u001b[39m\u001b[39m\"\u001b[39m],\n\u001b[0;32m     <a href='vscode-notebook-cell://ad.monash.edu/home/User028/pcle0002/Documents/repos/lens_simulation/src/lens_simulation/simulation.ipynb#ch0000002?line=14'>15</a>\u001b[0m             \u001b[39m\"\u001b[39m\u001b[39mmediums\u001b[39m\u001b[39m\"\u001b[39m: conf[\u001b[39m\"\u001b[39m\u001b[39mmediums\u001b[39m\u001b[39m\"\u001b[39m], \u001b[39m\"\u001b[39m\u001b[39mlenses\u001b[39m\u001b[39m\"\u001b[39m: conf[\u001b[39m\"\u001b[39m\u001b[39mlenses\u001b[39m\u001b[39m\"\u001b[39m],\n\u001b[0;32m     <a href='vscode-notebook-cell://ad.monash.edu/home/User028/pcle0002/Documents/repos/lens_simulation/src/lens_simulation/simulation.ipynb#ch0000002?line=15'>16</a>\u001b[0m             \u001b[39m\"\u001b[39m\u001b[39mstages\u001b[39m\u001b[39m\"\u001b[39m: conf[\u001b[39m\"\u001b[39m\u001b[39mstages\u001b[39m\u001b[39m\"\u001b[39m]}\n\u001b[1;32m---> <a href='vscode-notebook-cell://ad.monash.edu/home/User028/pcle0002/Documents/repos/lens_simulation/src/lens_simulation/simulation.ipynb#ch0000002?line=17'>18</a>\u001b[0m sim \u001b[39m=\u001b[39m Simulation\u001b[39m.\u001b[39;49mSimulation(config)\n",
      "File \u001b[1;32m\\\\ad.monash.edu\\home\\user028\\pcle0002\\documents\\repos\\lens_simulation\\src\\lens_simulation\\Simulation.py:56\u001b[0m, in \u001b[0;36mSimulation.__init__\u001b[1;34m(self, config)\u001b[0m\n\u001b[0;32m     <a href='file://ad.monash.edu/home/user028/pcle0002/documents/repos/lens_simulation/src/lens_simulation/Simulation.py?line=53'>54</a>\u001b[0m \u001b[39mself\u001b[39m\u001b[39m.\u001b[39mpetname \u001b[39m=\u001b[39m petname\u001b[39m.\u001b[39mGenerate(\u001b[39m2\u001b[39m)\n\u001b[0;32m     <a href='file://ad.monash.edu/home/user028/pcle0002/documents/repos/lens_simulation/src/lens_simulation/Simulation.py?line=54'>55</a>\u001b[0m \u001b[39mself\u001b[39m\u001b[39m.\u001b[39mread_configuration(config\u001b[39m=\u001b[39mconfig)\n\u001b[1;32m---> <a href='file://ad.monash.edu/home/user028/pcle0002/documents/repos/lens_simulation/src/lens_simulation/Simulation.py?line=55'>56</a>\u001b[0m \u001b[39mself\u001b[39;49m\u001b[39m.\u001b[39;49msetup_simulation()\n",
      "File \u001b[1;32m\\\\ad.monash.edu\\home\\user028\\pcle0002\\documents\\repos\\lens_simulation\\src\\lens_simulation\\Simulation.py:95\u001b[0m, in \u001b[0;36mSimulation.setup_simulation\u001b[1;34m(self)\u001b[0m\n\u001b[0;32m     <a href='file://ad.monash.edu/home/user028/pcle0002/documents/repos/lens_simulation/src/lens_simulation/Simulation.py?line=91'>92</a>\u001b[0m \u001b[39mself\u001b[39m\u001b[39m.\u001b[39mmedium_dict \u001b[39m=\u001b[39m \u001b[39mself\u001b[39m\u001b[39m.\u001b[39mgenerate_mediums()\n\u001b[0;32m     <a href='file://ad.monash.edu/home/user028/pcle0002/documents/repos/lens_simulation/src/lens_simulation/Simulation.py?line=93'>94</a>\u001b[0m \u001b[39m# generate all lenses for the simulations\u001b[39;00m\n\u001b[1;32m---> <a href='file://ad.monash.edu/home/user028/pcle0002/documents/repos/lens_simulation/src/lens_simulation/Simulation.py?line=94'>95</a>\u001b[0m \u001b[39mself\u001b[39m\u001b[39m.\u001b[39mlens_dict \u001b[39m=\u001b[39m \u001b[39mself\u001b[39;49m\u001b[39m.\u001b[39;49mgenerate_lenses()\n\u001b[0;32m     <a href='file://ad.monash.edu/home/user028/pcle0002/documents/repos/lens_simulation/src/lens_simulation/Simulation.py?line=96'>97</a>\u001b[0m \u001b[39m# generate all simulation stages\u001b[39;00m\n\u001b[0;32m     <a href='file://ad.monash.edu/home/user028/pcle0002/documents/repos/lens_simulation/src/lens_simulation/Simulation.py?line=97'>98</a>\u001b[0m \u001b[39mself\u001b[39m\u001b[39m.\u001b[39mgenerate_simulation_stages()\n",
      "File \u001b[1;32m\\\\ad.monash.edu\\home\\user028\\pcle0002\\documents\\repos\\lens_simulation\\src\\lens_simulation\\Simulation.py:300\u001b[0m, in \u001b[0;36mSimulation.generate_lenses\u001b[1;34m(self)\u001b[0m\n\u001b[0;32m    <a href='file://ad.monash.edu/home/user028/pcle0002/documents/repos/lens_simulation/src/lens_simulation/Simulation.py?line=288'>289</a>\u001b[0m     \u001b[39massert\u001b[39;00m (\n\u001b[0;32m    <a href='file://ad.monash.edu/home/user028/pcle0002/documents/repos/lens_simulation/src/lens_simulation/Simulation.py?line=289'>290</a>\u001b[0m         lens[\u001b[39m\"\u001b[39m\u001b[39mmedium\u001b[39m\u001b[39m\"\u001b[39m] \u001b[39min\u001b[39;00m \u001b[39mself\u001b[39m\u001b[39m.\u001b[39mmedium_dict\n\u001b[0;32m    <a href='file://ad.monash.edu/home/user028/pcle0002/documents/repos/lens_simulation/src/lens_simulation/Simulation.py?line=290'>291</a>\u001b[0m     ), \u001b[39m\"\u001b[39m\u001b[39mLens Medium not found in simulation mediums\u001b[39m\u001b[39m\"\u001b[39m\n\u001b[0;32m    <a href='file://ad.monash.edu/home/user028/pcle0002/documents/repos/lens_simulation/src/lens_simulation/Simulation.py?line=292'>293</a>\u001b[0m     lens_dict[lens[\u001b[39m\"\u001b[39m\u001b[39mname\u001b[39m\u001b[39m\"\u001b[39m]] \u001b[39m=\u001b[39m Lens(\n\u001b[0;32m    <a href='file://ad.monash.edu/home/user028/pcle0002/documents/repos/lens_simulation/src/lens_simulation/Simulation.py?line=293'>294</a>\u001b[0m         diameter\u001b[39m=\u001b[39m\u001b[39mself\u001b[39m\u001b[39m.\u001b[39mparameters\u001b[39m.\u001b[39msim_width,\n\u001b[0;32m    <a href='file://ad.monash.edu/home/user028/pcle0002/documents/repos/lens_simulation/src/lens_simulation/Simulation.py?line=294'>295</a>\u001b[0m         height\u001b[39m=\u001b[39mlens[\u001b[39m\"\u001b[39m\u001b[39mheight\u001b[39m\u001b[39m\"\u001b[39m],\n\u001b[0;32m    <a href='file://ad.monash.edu/home/user028/pcle0002/documents/repos/lens_simulation/src/lens_simulation/Simulation.py?line=295'>296</a>\u001b[0m         exponent\u001b[39m=\u001b[39mlens[\u001b[39m\"\u001b[39m\u001b[39mexponent\u001b[39m\u001b[39m\"\u001b[39m],\n\u001b[0;32m    <a href='file://ad.monash.edu/home/user028/pcle0002/documents/repos/lens_simulation/src/lens_simulation/Simulation.py?line=296'>297</a>\u001b[0m         medium\u001b[39m=\u001b[39m\u001b[39mself\u001b[39m\u001b[39m.\u001b[39mmedium_dict[lens[\u001b[39m\"\u001b[39m\u001b[39mmedium\u001b[39m\u001b[39m\"\u001b[39m]],\n\u001b[0;32m    <a href='file://ad.monash.edu/home/user028/pcle0002/documents/repos/lens_simulation/src/lens_simulation/Simulation.py?line=297'>298</a>\u001b[0m     )\n\u001b[1;32m--> <a href='file://ad.monash.edu/home/user028/pcle0002/documents/repos/lens_simulation/src/lens_simulation/Simulation.py?line=299'>300</a>\u001b[0m     lens_dict[lens[\u001b[39m\"\u001b[39;49m\u001b[39mname\u001b[39;49m\u001b[39m\"\u001b[39;49m]]\u001b[39m.\u001b[39;49mgenerate_profile(\n\u001b[0;32m    <a href='file://ad.monash.edu/home/user028/pcle0002/documents/repos/lens_simulation/src/lens_simulation/Simulation.py?line=300'>301</a>\u001b[0m         pixel_size\u001b[39m=\u001b[39;49m\u001b[39mself\u001b[39;49m\u001b[39m.\u001b[39;49mparameters\u001b[39m.\u001b[39;49mpixel_size\n\u001b[0;32m    <a href='file://ad.monash.edu/home/user028/pcle0002/documents/repos/lens_simulation/src/lens_simulation/Simulation.py?line=301'>302</a>\u001b[0m     )\n\u001b[0;32m    <a href='file://ad.monash.edu/home/user028/pcle0002/documents/repos/lens_simulation/src/lens_simulation/Simulation.py?line=303'>304</a>\u001b[0m \u001b[39mreturn\u001b[39;00m lens_dict\n",
      "File \u001b[1;32m\\\\ad.monash.edu\\home\\user028\\pcle0002\\documents\\repos\\lens_simulation\\src\\lens_simulation\\Lens.py:78\u001b[0m, in \u001b[0;36mLens.generate_profile\u001b[1;34m(self, pixel_size)\u001b[0m\n\u001b[0;32m     <a href='file://ad.monash.edu/home/user028/pcle0002/documents/repos/lens_simulation/src/lens_simulation/Lens.py?line=73'>74</a>\u001b[0m \u001b[39mself\u001b[39m\u001b[39m.\u001b[39mradius_px \u001b[39m=\u001b[39m radius_px\n\u001b[0;32m     <a href='file://ad.monash.edu/home/user028/pcle0002/documents/repos/lens_simulation/src/lens_simulation/Lens.py?line=75'>76</a>\u001b[0m \u001b[39m# determine coefficent at boundary conditions\u001b[39;00m\n\u001b[0;32m     <a href='file://ad.monash.edu/home/user028/pcle0002/documents/repos/lens_simulation/src/lens_simulation/Lens.py?line=76'>77</a>\u001b[0m \u001b[39m# TODO: will be different for Hershel, Paraxial approximation)\u001b[39;00m\n\u001b[1;32m---> <a href='file://ad.monash.edu/home/user028/pcle0002/documents/repos/lens_simulation/src/lens_simulation/Lens.py?line=77'>78</a>\u001b[0m coefficient \u001b[39m=\u001b[39m \u001b[39mself\u001b[39;49m\u001b[39m.\u001b[39;49mheight \u001b[39m/\u001b[39;49m (radius \u001b[39m*\u001b[39;49m\u001b[39m*\u001b[39;49m \u001b[39mself\u001b[39;49m\u001b[39m.\u001b[39;49mexponent)\n\u001b[0;32m     <a href='file://ad.monash.edu/home/user028/pcle0002/documents/repos/lens_simulation/src/lens_simulation/Lens.py?line=79'>80</a>\u001b[0m \u001b[39m# generic lens formula\u001b[39;00m\n\u001b[0;32m     <a href='file://ad.monash.edu/home/user028/pcle0002/documents/repos/lens_simulation/src/lens_simulation/Lens.py?line=80'>81</a>\u001b[0m \u001b[39m# H = h - C*r ^ e\u001b[39;00m\n\u001b[0;32m     <a href='file://ad.monash.edu/home/user028/pcle0002/documents/repos/lens_simulation/src/lens_simulation/Lens.py?line=81'>82</a>\u001b[0m heights \u001b[39m=\u001b[39m \u001b[39mself\u001b[39m\u001b[39m.\u001b[39mheight \u001b[39m-\u001b[39m coefficient \u001b[39m*\u001b[39m radius_px \u001b[39m*\u001b[39m\u001b[39m*\u001b[39m \u001b[39mself\u001b[39m\u001b[39m.\u001b[39mexponent\n",
      "\u001b[1;31mTypeError\u001b[0m: unsupported operand type(s) for /: 'list' and 'float'"
     ]
    }
   ],
   "source": [
    "%load_ext autoreload\n",
    "%autoreload 2\n",
    "from lens_simulation import Simulation\n",
    "import uuid\n",
    "import os\n",
    "import yaml\n",
    "\n",
    "with open(\"config.yaml\", \"r\") as f:\n",
    "    conf = yaml.full_load(f)\n",
    "\n",
    "run_id = uuid.uuid4()  # run_id is for when running a batch of sims, each sim has unique id\n",
    "data_path = os.path.join(os.getcwd() , \"log\",  str(run_id))\n",
    "config = {\"run_id\": run_id, \"parameters\": None, \"log_dir\": data_path, \n",
    "            \"sim_parameters\": conf[\"sim_parameters\"], \"options\": conf[\"options\"],\n",
    "            \"mediums\": conf[\"mediums\"], \"lenses\": conf[\"lenses\"],\n",
    "            \"stages\": conf[\"stages\"]}\n",
    "\n",
    "sim = Simulation.Simulation(config)\n",
    "# sim.run_simulation()\n",
    "\n",
    "# sim.propagate_wavefront()"
   ]
  },
  {
   "cell_type": "code",
   "execution_count": null,
   "metadata": {},
   "outputs": [],
   "source": [
    "%load_ext autoreload\n",
    "%autoreload 2\n",
    "\n",
    "from lens_simulation.run_simulation import run_single_simulation\n",
    "\n",
    "\n",
    "run_single_simulation(\"config.yaml\")"
   ]
  },
  {
   "cell_type": "code",
   "execution_count": null,
   "metadata": {},
   "outputs": [],
   "source": []
  }
 ],
 "metadata": {
  "interpreter": {
   "hash": "9c059ec6bcfa5754e4bdc7a0641d1daa6023a22a449748e5dc7cf77ba0018324"
  },
  "kernelspec": {
   "display_name": "Python 3.7.12 ('lens_sim')",
   "language": "python",
   "name": "python3"
  },
  "language_info": {
   "codemirror_mode": {
    "name": "ipython",
    "version": 3
   },
   "file_extension": ".py",
   "mimetype": "text/x-python",
   "name": "python",
   "nbconvert_exporter": "python",
   "pygments_lexer": "ipython3",
   "version": "3.8.13"
  },
  "orig_nbformat": 4
 },
 "nbformat": 4,
 "nbformat_minor": 2
}
