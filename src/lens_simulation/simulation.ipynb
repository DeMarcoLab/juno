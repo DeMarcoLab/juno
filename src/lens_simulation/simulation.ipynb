{
 "cells": [
  {
   "cell_type": "code",
   "execution_count": 72,
   "metadata": {},
   "outputs": [
    {
     "name": "stdout",
     "output_type": "stream",
     "text": [
      "The autoreload extension is already loaded. To reload it, use:\n",
      "  %reload_ext autoreload\n",
      "Hello Sim:  1bc9c1da-2686-4d96-840c-125578fb1d85\n",
      "Running 12 Simulation\n",
      "--------------------------------------------------\n",
      "Running Simulation main-hyena (32a2ceac4a)\n",
      "Parameters:  {'lens ':  Lens (diameter: 1, height: 2, medium: 2.0, 'medium': 3, 'another': 5}\n",
      "--------------------------------------------------\n",
      "--------------------------------------------------\n",
      "Running Simulation normal-mullet (98f575fe58)\n",
      "Parameters:  {'lens ':  Lens (diameter: 1, height: 2, medium: 2.0, 'medium': 3, 'another': 6}\n",
      "--------------------------------------------------\n",
      "--------------------------------------------------\n",
      "Running Simulation nearby-sawfly (00a0328553)\n",
      "Parameters:  {'lens ':  Lens (diameter: 1, height: 2, medium: 2.0, 'medium': 4, 'another': 5}\n",
      "--------------------------------------------------\n",
      "--------------------------------------------------\n",
      "Running Simulation sharp-guppy (765d1f5399)\n",
      "Parameters:  {'lens ':  Lens (diameter: 1, height: 2, medium: 2.0, 'medium': 4, 'another': 6}\n",
      "--------------------------------------------------\n",
      "--------------------------------------------------\n",
      "Running Simulation driven-baboon (68e7053a61)\n",
      "Parameters:  {'lens ':  Lens (diameter: 1, height: 2, medium: 2.1, 'medium': 3, 'another': 5}\n",
      "--------------------------------------------------\n",
      "--------------------------------------------------\n",
      "Running Simulation set-bee (25d7aa1881)\n",
      "Parameters:  {'lens ':  Lens (diameter: 1, height: 2, medium: 2.1, 'medium': 3, 'another': 6}\n",
      "--------------------------------------------------\n",
      "--------------------------------------------------\n",
      "Running Simulation cuddly-earwig (232174892c)\n",
      "Parameters:  {'lens ':  Lens (diameter: 1, height: 2, medium: 2.1, 'medium': 4, 'another': 5}\n",
      "--------------------------------------------------\n",
      "--------------------------------------------------\n",
      "Running Simulation saving-vervet (a7ccf58ec1)\n",
      "Parameters:  {'lens ':  Lens (diameter: 1, height: 2, medium: 2.1, 'medium': 4, 'another': 6}\n",
      "--------------------------------------------------\n",
      "--------------------------------------------------\n",
      "Running Simulation liked-emu (8bc8dddbdb)\n",
      "Parameters:  {'lens ':  Lens (diameter: 1, height: 2, medium: 2.2, 'medium': 3, 'another': 5}\n",
      "--------------------------------------------------\n",
      "--------------------------------------------------\n",
      "Running Simulation clean-macaw (dd701898fe)\n",
      "Parameters:  {'lens ':  Lens (diameter: 1, height: 2, medium: 2.2, 'medium': 3, 'another': 6}\n",
      "--------------------------------------------------\n",
      "--------------------------------------------------\n",
      "Running Simulation living-mullet (2d916adb7a)\n",
      "Parameters:  {'lens ':  Lens (diameter: 1, height: 2, medium: 2.2, 'medium': 4, 'another': 5}\n",
      "--------------------------------------------------\n",
      "--------------------------------------------------\n",
      "Running Simulation known-gopher (026e0fe163)\n",
      "Parameters:  {'lens ':  Lens (diameter: 1, height: 2, medium: 2.2, 'medium': 4, 'another': 6}\n",
      "--------------------------------------------------\n"
     ]
    }
   ],
   "source": [
    "%load_ext autoreload \n",
    "%autoreload 2\n",
    "from lens_simulation import SimulationRunner, Lens\n",
    "\n",
    "\n",
    "sim_runner = SimulationRunner.SimulationRunner()\n",
    "sim_runner.initialise_simulation()\n",
    "sim_runner.parameters = { \"lens \": [\n",
    "            Lens.Lens(1, 2, 2.0, Lens.Medium(2.348)), \n",
    "            Lens.Lens(1, 2, 2.1, Lens.Medium(2.348)),\n",
    "            Lens.Lens(1, 2, 2.2, Lens.Medium(2.348))\n",
    "        ],\n",
    "                            \"medium\": [3, 4], \n",
    "                            \"another\": [5, 6]\n",
    "        }\n",
    "sim_runner.setup_simulation()\n",
    "sim_runner.run_simulations()\n",
    "\n",
    "# Test github"
   ]
  },
  {
   "cell_type": "code",
   "execution_count": 59,
   "metadata": {},
   "outputs": [
    {
     "data": {
      "text/plain": [
       "'big-hyena'"
      ]
     },
     "execution_count": 59,
     "metadata": {},
     "output_type": "execute_result"
    }
   ],
   "source": []
  },
  {
   "cell_type": "code",
   "execution_count": null,
   "metadata": {},
   "outputs": [],
   "source": []
  }
 ],
 "metadata": {
  "interpreter": {
   "hash": "9c059ec6bcfa5754e4bdc7a0641d1daa6023a22a449748e5dc7cf77ba0018324"
  },
  "kernelspec": {
   "display_name": "Python 3.7.12 ('lens_sim')",
   "language": "python",
   "name": "python3"
  },
  "language_info": {
   "codemirror_mode": {
    "name": "ipython",
    "version": 3
   },
   "file_extension": ".py",
   "mimetype": "text/x-python",
   "name": "python",
   "nbconvert_exporter": "python",
   "pygments_lexer": "ipython3",
   "version": "3.7.11"
  },
  "orig_nbformat": 4
 },
 "nbformat": 4,
 "nbformat_minor": 2
}
