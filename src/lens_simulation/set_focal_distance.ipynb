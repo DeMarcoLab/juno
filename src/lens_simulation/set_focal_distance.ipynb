{
 "cells": [
  {
   "cell_type": "code",
   "execution_count": 3,
   "metadata": {},
   "outputs": [],
   "source": [
    "%load_ext autoreload\n",
    "%autoreload 2\n",
    "import matplotlib.pyplot as plt\n",
    "import numpy as np\n",
    "from lens_simulation import Lens, Simulation\n",
    "from scipy import fftpack\n",
    "from matplotlib import pyplot as plt"
   ]
  },
  {
   "cell_type": "code",
   "execution_count": 35,
   "metadata": {},
   "outputs": [
    {
     "data": {
      "image/png": "[encoded data removed]",
      "text/plain": [
       "<Figure size 432x288 with 1 Axes>"
      ]
     },
     "metadata": {
      "needs_background": "light"
     },
     "output_type": "display_data"
    }
   ],
   "source": [
    "amplitude = 10000\n",
    "sim_width = 120e-6\n",
    "pixel_size = 0.1e-6 \n",
    "n_slices = 1000\n",
    "\n",
    "lens = Lens.Lens(\n",
    "    diameter=sim_width,\n",
    "    height=12.248e-6,\n",
    "    exponent=2.,\n",
    "    medium=Lens.Medium(2.348)\n",
    ")\n",
    "lens.generate_profile(pixel_size=pixel_size)\n",
    "\n",
    "centre_px = (len(lens.profile)-1)//2\n",
    "\n",
    "plt.plot(lens.profile)\n",
    "plt.show()"
   ]
  },
  {
   "cell_type": "code",
   "execution_count": 36,
   "metadata": {},
   "outputs": [
    {
     "name": "stdout",
     "output_type": "stream",
     "text": [
      "Lens diameter: 0.00012\n",
      "focal distance: 0.20000530780375197\n",
      "f: 0.2\n",
      "Height to get focal distance of: 0.2mm is: 12.248micron)\n"
     ]
    }
   ],
   "source": [
    "medium = Lens.Medium(1.33)\n",
    "\n",
    "equivalent_radius_of_curvature = 0.5 * (lens.height + (lens.diameter / 2) ** 2 / lens.height)\n",
    "equivalent_focal_distance = (equivalent_radius_of_curvature * medium.refractive_index) / (lens.medium.refractive_index - medium.refractive_index)\n",
    "\n",
    "print(f'Lens diameter: {lens.diameter}')\n",
    "\n",
    "print(f'focal distance: {equivalent_focal_distance*1e3}')\n",
    "f=200e-6\n",
    "print(f'f: {f*1e3}')\n",
    "\n",
    "a = 1\n",
    "b = -2*f*(lens.medium.refractive_index-medium.refractive_index)/medium.refractive_index\n",
    "c = (lens.diameter/2)**2\n",
    "\n",
    "# print(f'a: {a}')\n",
    "# print(f'b: {b}')\n",
    "# print(f'c: {c}')\n",
    "\n",
    "# h1 = (-b + np.sqrt(b**2 - 4*a*c))/(2*a)\n",
    "h2 = (-b - np.sqrt(b**2 - 4*a*c))/(2*a)\n",
    "# print(h1)\n",
    "print(f'Height to get focal distance of: {f*1e3}mm is: {round(h2*1e6, 3)}micron)')\n"
   ]
  },
  {
   "cell_type": "code",
   "execution_count": 7,
   "metadata": {},
   "outputs": [
    {
     "name": "stdout",
     "output_type": "stream",
     "text": [
      "nan\n"
     ]
    }
   ],
   "source": [
    "lens_h1 = Lens.Lens(\n",
    "    diameter=sim_width,\n",
    "    height=h1,\n",
    "    exponent=2.,\n",
    "    medium=Lens.Medium(2.348)\n",
    ")\n",
    "lens_h1.generate_profile(pixel_size=pixel_size)\n",
    "\n",
    "print(Simulation.calculate_equivalent_focal_distance(lens_h1, medium))\n"
   ]
  },
  {
   "cell_type": "code",
   "execution_count": 23,
   "metadata": {},
   "outputs": [
    {
     "name": "stdout",
     "output_type": "stream",
     "text": [
      "-0.060000002090327346\n"
     ]
    }
   ],
   "source": [
    "lens_h2 = Lens.Lens(\n",
    "    diameter=sim_width,\n",
    "    height=h2,\n",
    "    exponent=2.,\n",
    "    medium=Lens.Medium(2.348)\n",
    ")\n",
    "lens_h2.generate_profile(pixel_size=pixel_size)\n",
    "\n",
    "print(Simulation.calculate_equivalent_focal_distance(lens_h2, medium))\n"
   ]
  },
  {
   "cell_type": "code",
   "execution_count": null,
   "metadata": {},
   "outputs": [],
   "source": []
  }
 ],
 "metadata": {
  "interpreter": {
   "hash": "aa473ee46a880190276ac19c980d9149e7cd9d9de4b1446ef8df316f0e97c011"
  },
  "kernelspec": {
   "display_name": "Python 3.7.11 ('lens_simulation')",
   "language": "python",
   "name": "python3"
  },
  "language_info": {
   "codemirror_mode": {
    "name": "ipython",
    "version": 3
   },
   "file_extension": ".py",
   "mimetype": "text/x-python",
   "name": "python",
   "nbconvert_exporter": "python",
   "pygments_lexer": "ipython3",
   "version": "3.7.11"
  },
  "orig_nbformat": 4
 },
 "nbformat": 4,
 "nbformat_minor": 2
}
