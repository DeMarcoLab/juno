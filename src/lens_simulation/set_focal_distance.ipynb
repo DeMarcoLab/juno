{
 "cells": [
  {
   "cell_type": "markdown",
   "metadata": {},
   "source": [
    "# Imports"
   ]
  },
  {
   "cell_type": "code",
   "execution_count": 213,
   "metadata": {},
   "outputs": [
    {
     "name": "stdout",
     "output_type": "stream",
     "text": [
      "The autoreload extension is already loaded. To reload it, use:\n",
      "  %reload_ext autoreload\n"
     ]
    }
   ],
   "source": [
    "%load_ext autoreload\n",
    "%autoreload 2\n",
    "import matplotlib.pyplot as plt\n",
    "import numpy as np\n",
    "from lens_simulation import Lens, Simulation, utils\n",
    "from scipy import fftpack\n",
    "from matplotlib import pyplot as plt\n",
    "from enum import Enum, auto\n"
   ]
  },
  {
   "cell_type": "markdown",
   "metadata": {},
   "source": [
    "### Regular simulation settings"
   ]
  },
  {
   "cell_type": "code",
   "execution_count": 214,
   "metadata": {},
   "outputs": [],
   "source": [
    "amplitude = 10000\n",
    "sim_wavelength = 488e-9\n",
    "sim_width = 1000e-6\n",
    "pixel_size = 0.1e-6\n",
    "output_medium = Lens.Medium(1.33)"
   ]
  },
  {
   "cell_type": "markdown",
   "metadata": {},
   "source": [
    "### Convergence/Divergence Class/Functions"
   ]
  },
  {
   "cell_type": "code",
   "execution_count": 255,
   "metadata": {},
   "outputs": [],
   "source": [
    "class BeamSpread(Enum):\n",
    "    Plane = auto()\n",
    "    Diverging = auto()\n",
    "    Converging = auto()\n",
    "\n",
    "class DistanceMode(Enum):\n",
    "    Direct = auto()\n",
    "    Width = auto()\n",
    "\n",
    "def theta_from_NA(numerical_aperture: float, output_medium: Lens.Medium):\n",
    "    import numpy as np\n",
    "    return np.arcsin(numerical_aperture/output_medium.refractive_index)\n",
    "\n",
    "def focal_distance_from_theta(aperture: Lens, theta: float):\n",
    "    return aperture.diameter/2 / np.tan(theta)\n",
    "\n",
    "def height_from_focal_distance(aperture: Lens, output_medium: Lens.Medium, focal_distance: float):\n",
    "    a = 1\n",
    "    b = -2*focal_distance*(aperture.medium.refractive_index-output_medium.refractive_index)/output_medium.refractive_index\n",
    "    c = (aperture.diameter/2)**2\n",
    "\n",
    "    if (b**2 - 4*a*c < 0):\n",
    "        raise ValueError(\"Negative value encountered in sqrt.  Can't find a lens height to give this focal distance\")\n",
    "    else: return (-b - np.sqrt(b**2 - 4*a*c))/(2*a)"
   ]
  },
  {
   "cell_type": "markdown",
   "metadata": {},
   "source": [
    "### Aperture/Beam definition"
   ]
  },
  {
   "cell_type": "code",
   "execution_count": 284,
   "metadata": {},
   "outputs": [],
   "source": [
    "# Beam settings chosen by user\n",
    "aperture_width = 400e-6\n",
    "# position given relative to optical axis\n",
    "aperture_position = -100e-6\n",
    "\n",
    "# this is selected by DistanceMode flag in config\n",
    "distance_mode = DistanceMode.Width\n",
    "\n",
    "# type of beam spread\n",
    "beam_spread = BeamSpread.Converging\n",
    "\n",
    "# calculate theta for non plane waves\n",
    "if beam_spread is not BeamSpread.Plane:\n",
    "    # Theta can either be specified directly, or by numerical aperture (config flag probably)\n",
    "    theta = np.deg2rad(10) \n",
    "    # OR\n",
    "    theta = theta_from_NA(numerical_aperture=0.4, output_medium=output_medium)\n",
    "\n",
    "# perpendicular distance of source from the first lens can be defined directly (aperture distance) \n",
    "# or based on a desired beam width at the lens plane \n",
    "source_aperture_distance = 200e-6\n",
    "final_beam_width = 80e-6\n",
    "if beam_spread is BeamSpread.Plane:\n",
    "    final_beam_width = aperture_width\n",
    "\n",
    "# set tilt enabled based off flag\n",
    "tilt_enabled = True\n",
    "tilt_angle = np.deg2rad(85)\n",
    "\n",
    "# Default beam specifications\n",
    "aperture = Lens.Lens(\n",
    "    diameter=aperture_width,\n",
    "    height=0.,\n",
    "    exponent=2,\n",
    "    medium=Lens.Medium(100)\n",
    ")\n",
    "\n",
    "# ERROR CHECKING #\n",
    "# quick check on aperture validity\n",
    "if (aperture_position + aperture_width/2) > sim_width:\n",
    "    raise ValueError('Aperture cannot exist outside of simulation') \n",
    "# if using diverging beam spread and DistanceMode.Width, the aperture must be smaller than the final_width\n",
    "if beam_spread is BeamSpread.Diverging and distance_mode is DistanceMode.Width and final_beam_width < aperture_width:\n",
    "    raise ValueError('Diverging beam final width cannot be smaller than aperture width')\n",
    "# likewise for using converging beam spread and DistanceMode.Width, the aperture must be larger than the final_width\n",
    "if beam_spread is BeamSpread.Converging and distance_mode is DistanceMode.Width and final_beam_width > aperture_width:\n",
    "    raise ValueError('Diverging beam final width cannot be smaller than aperture width')\n"
   ]
  },
  {
   "cell_type": "markdown",
   "metadata": {},
   "source": [
    "#### Calculation of Convergence/Divergence"
   ]
  },
  {
   "cell_type": "code",
   "execution_count": 285,
   "metadata": {},
   "outputs": [],
   "source": [
    "if beam_spread is not BeamSpread.Plane:\n",
    "    # calculate the equivalent focal distance of the required convergence angle\n",
    "    focal_distance = focal_distance_from_theta(aperture=aperture, theta=theta)\n",
    "\n",
    "    # calculate and set the height of the apertures 'virtual' lens, re-generate the profile with new height\n",
    "    aperture.height = height_from_focal_distance(aperture, output_medium=output_medium, focal_distance=focal_distance)\n",
    "    \n",
    "    printing = False\n",
    "    if printing:\n",
    "        # Just some debugging prints, can remove if you want\n",
    "        print(f'Angle of convergence: {np.rad2deg(theta)}')\n",
    "        print(f'Focal distance wanted: {round(focal_distance*1e3, 3)}mm')\n",
    "        print(f'Aperture height: {round(aperture.height*1e6, 3)}um')\n",
    "        print(f'New Focal Distance: {round(Simulation.calculate_equivalent_focal_distance(aperture, output_medium)*1e3, 3)}mm')\n",
    "\n",
    "aperture.generate_profile(pixel_size=pixel_size)\n",
    "\n",
    "# possibly just invert lens\n",
    "if beam_spread is BeamSpread.Diverging:\n",
    "    aperture.profile = -aperture.profile + np.max(aperture.profile) "
   ]
  },
  {
   "cell_type": "markdown",
   "metadata": {},
   "source": [
    "### Calculation of aperture position and padding"
   ]
  },
  {
   "cell_type": "code",
   "execution_count": 286,
   "metadata": {},
   "outputs": [],
   "source": [
    "\n",
    "# calculate the relative position of the aperture in pixels\n",
    "relative_position = int(aperture_position/pixel_size)\n",
    "\n",
    "# pad the aperture to the sim width\n",
    "# plus one here is to make it 10001, not 9999\n",
    "pad_width = (int(sim_width/pixel_size)-len(aperture.profile))//2 + 1 \n",
    "\n",
    "# update the aperture profile\n",
    "aperture.profile = np.pad(aperture.profile, (pad_width+relative_position, pad_width-relative_position), 'constant', constant_values=(0))\n",
    "# plt.plot(aperture.profile)"
   ]
  },
  {
   "cell_type": "markdown",
   "metadata": {},
   "source": [
    "#### Calculation of Propagation Distance"
   ]
  },
  {
   "cell_type": "code",
   "execution_count": 287,
   "metadata": {},
   "outputs": [],
   "source": [
    "# Start distance of beam always = 0\n",
    "start_distance = 0\n",
    "\n",
    "# If you just want the source to be a certain distance away:\n",
    "if distance_mode is DistanceMode.Direct or beam_spread is BeamSpread.Plane:\n",
    "    finish_distance = source_aperture_distance\n",
    "\n",
    "# if you want the beam to converge/diverge to a specific width\n",
    "elif distance_mode is DistanceMode.Width:\n",
    "    beam_radius = final_beam_width/2\n",
    "    if beam_spread is BeamSpread.Converging:\n",
    "        finish_distance = focal_distance - (beam_radius/np.tan(theta))\n",
    "    else:\n",
    "        finish_distance = ((beam_radius-(aperture.diameter/2))/np.tan(theta))\n",
    "else:\n",
    "    raise ValueError('DistanceMode set incorrectly')"
   ]
  },
  {
   "cell_type": "markdown",
   "metadata": {},
   "source": [
    "### Delta, Tilt, Phase"
   ]
  },
  {
   "cell_type": "code",
   "execution_count": 288,
   "metadata": {},
   "outputs": [],
   "source": [
    "# regular delta calculation\n",
    "delta = (aperture.medium.refractive_index-output_medium.refractive_index) * aperture.profile\n",
    "\n",
    "# tilt the beam\n",
    "if tilt_enabled:\n",
    "    x = np.arange(len(aperture.profile))*pixel_size\n",
    "    # modify the optical path of the light based on tilt\n",
    "    delta = delta + x * np.tan(np.deg2rad(15))\n",
    "\n",
    "# regular phase calculation\n",
    "phase = (2 * np.pi * delta / sim_wavelength)# % (2 * np.pi)"
   ]
  },
  {
   "cell_type": "markdown",
   "metadata": {},
   "source": [
    "### Wavefront Calculation"
   ]
  },
  {
   "cell_type": "code",
   "execution_count": 289,
   "metadata": {},
   "outputs": [],
   "source": [
    "# regular wavefront calculation\n",
    "wavefront = amplitude * np.exp(1j * phase)\n",
    "\n",
    "# asymmetric aperturing (apply aperture mask)\n",
    "wavefront[:pad_width + relative_position] = 0 + 0j\n",
    "wavefront[-(pad_width - relative_position):] = 0 + 0j\n",
    "\n",
    "# regular wavefront FFT\n",
    "wavefront = fftpack.fft(wavefront)"
   ]
  },
  {
   "cell_type": "markdown",
   "metadata": {},
   "source": [
    "### Simulation"
   ]
  },
  {
   "cell_type": "code",
   "execution_count": 290,
   "metadata": {},
   "outputs": [
    {
     "data": {
      "image/png": "[encoded data removed]",
      "text/plain": [
       "<Figure size 432x288 with 2 Axes>"
      ]
     },
     "metadata": {
      "needs_background": "light"
     },
     "output_type": "display_data"
    }
   ],
   "source": [
    "# regular frequency array creation\n",
    "frequency_array = Simulation.generate_squared_frequency_array(n_pixels=len(aperture.profile), pixel_size=pixel_size)\n",
    "\n",
    "n_slices_1 = 100\n",
    "\n",
    "sim = np.ones(shape=((n_slices_1), len(aperture.profile)))\n",
    "distances_1 = np.linspace(start_distance, finish_distance, n_slices_1)\n",
    "for i, z in enumerate(distances_1):\n",
    "    prop_1 = np.exp(1j * output_medium.wave_number * z) * np.exp(\n",
    "        (-1j * 2 * np.pi ** 2 * z * frequency_array) / output_medium.wave_number\n",
    "    )\n",
    "    # print(\"prop shape: \", prop.shape)\n",
    "    propagation = fftpack.ifft(prop_1 * wavefront)\n",
    "\n",
    "    output = np.sqrt(propagation.real ** 2 + propagation.imag ** 2)\n",
    "\n",
    "    sim[i] = np.round(output, 10)\n",
    "\n",
    "\n",
    "utils.plot_simulation(sim, sim.shape[1], sim.shape[0], pixel_size, start_distance, finish_distance)\n",
    "plt.show()"
   ]
  },
  {
   "cell_type": "code",
   "execution_count": null,
   "metadata": {},
   "outputs": [],
   "source": []
  }
 ],
 "metadata": {
  "interpreter": {
   "hash": "48a972ebef31a878bd9232498c9a77a5a7a7566f6894db2c86c59a94f8eed921"
  },
  "kernelspec": {
   "display_name": "Python 3.7.11 ('lens_simulation')",
   "language": "python",
   "name": "python3"
  },
  "language_info": {
   "codemirror_mode": {
    "name": "ipython",
    "version": 3
   },
   "file_extension": ".py",
   "mimetype": "text/x-python",
   "name": "python",
   "nbconvert_exporter": "python",
   "pygments_lexer": "ipython3",
   "version": "3.7.11"
  },
  "orig_nbformat": 4
 },
 "nbformat": 4,
 "nbformat_minor": 2
}
