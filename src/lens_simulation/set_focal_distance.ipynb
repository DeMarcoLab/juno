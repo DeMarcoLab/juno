{
 "cells": [
  {
   "cell_type": "code",
   "execution_count": 1,
   "metadata": {},
   "outputs": [],
   "source": [
    "%load_ext autoreload\n",
    "%autoreload 2\n",
    "import matplotlib.pyplot as plt\n",
    "import numpy as np\n",
    "from lens_simulation import Lens, Simulation\n",
    "from scipy import fftpack\n",
    "from matplotlib import pyplot as plt"
   ]
  },
  {
   "cell_type": "code",
   "execution_count": 48,
   "metadata": {},
   "outputs": [
    {
     "data": {
      "image/png": "[encoded data removed]",
      "text/plain": [
       "<Figure size 432x288 with 1 Axes>"
      ]
     },
     "metadata": {
      "needs_background": "light"
     },
     "output_type": "display_data"
    }
   ],
   "source": [
    "amplitude = 10000\n",
    "sim_width = 450e-6\n",
    "pixel_size = 1e-6 \n",
    "n_slices = 1000\n",
    "\n",
    "lens = Lens.Lens(\n",
    "    diameter=sim_width,\n",
    "    height=70e-6,\n",
    "    exponent=2.,\n",
    "    medium=Lens.Medium(2.348)\n",
    ")\n",
    "lens.generate_profile(pixel_size=pixel_size)\n",
    "\n",
    "centre_px = (len(lens.profile)-1)//2\n",
    "\n",
    "plt.plot(lens.profile)\n",
    "plt.show()"
   ]
  },
  {
   "cell_type": "code",
   "execution_count": 49,
   "metadata": {},
   "outputs": [
    {
     "name": "stdout",
     "output_type": "stream",
     "text": [
      "0.3966071428571429\n",
      "0.2942189487070793\n",
      "height to get f:\n",
      "0.40219392011192806\n",
      "0.16176031296304433\n",
      "-3.1296304435490807e-07\n"
     ]
    }
   ],
   "source": [
    "f=60e-3\n",
    "\n",
    "equivalent_radius_of_curvature = 0.5 * (\n",
    "    lens.height + (lens.diameter / 2) ** 2 / lens.height\n",
    ")\n",
    "\n",
    "print(equivalent_radius_of_curvature*1e3)\n",
    "\n",
    "# print((lens.height**2 + (lens.diameter/2)**2)/(2*lens.height))\n",
    "\n",
    "medium = Lens.Medium(1.0)\n",
    "\n",
    "equivalent_focal_distance = (\n",
    "    equivalent_radius_of_curvature * medium.refractive_index\n",
    ") / (lens.medium.refractive_index - medium.refractive_index)\n",
    "\n",
    "print(equivalent_focal_distance*1e3)\n",
    "\n",
    "print('height to get f:')\n",
    "height=np.sqrt((2*f*(lens.medium.refractive_index-medium.refractive_index))/medium.refractive_index-(lens.diameter/2)**2)\n",
    "print(height)\n",
    "\n",
    "a = 1\n",
    "b = -2*f*(lens.medium.refractive_index-medium.refractive_index)/medium.refractive_index\n",
    "c = -(lens.diameter/2)**2\n",
    "\n",
    "h1 = (-b + np.sqrt(b**2 - 4*a*c))/(2*a)\n",
    "h2 = (-b - np.sqrt(b**2 - 4*a*c))/(2*a)\n",
    "print(h1)\n",
    "print(h2)\n"
   ]
  },
  {
   "cell_type": "code",
   "execution_count": 46,
   "metadata": {},
   "outputs": [
    {
     "name": "stdout",
     "output_type": "stream",
     "text": [
      "60.00023216843052\n"
     ]
    }
   ],
   "source": [
    "lens_h1 = Lens.Lens(\n",
    "    diameter=sim_width,\n",
    "    height=h1,\n",
    "    exponent=2.,\n",
    "    medium=Lens.Medium(2.348)\n",
    ")\n",
    "lens_h1.generate_profile(pixel_size=pixel_size)\n",
    "\n",
    "print(Simulation.calculate_equivalent_focal_distance(lens_h1, medium)*1e3)\n"
   ]
  },
  {
   "cell_type": "code",
   "execution_count": 41,
   "metadata": {},
   "outputs": [
    {
     "name": "stdout",
     "output_type": "stream",
     "text": [
      "-0.04003481018509463\n"
     ]
    }
   ],
   "source": [
    "lens_h2 = Lens.Lens(\n",
    "    diameter=sim_width,\n",
    "    height=h2,\n",
    "    exponent=2.,\n",
    "    medium=Lens.Medium(2.348)\n",
    ")\n",
    "lens_h2.generate_profile(pixel_size=pixel_size)\n",
    "\n",
    "print(Simulation.calculate_equivalent_focal_distance(lens_h2, medium))\n"
   ]
  },
  {
   "cell_type": "code",
   "execution_count": null,
   "metadata": {},
   "outputs": [],
   "source": []
  }
 ],
 "metadata": {
  "interpreter": {
   "hash": "aa473ee46a880190276ac19c980d9149e7cd9d9de4b1446ef8df316f0e97c011"
  },
  "kernelspec": {
   "display_name": "Python 3.7.11 ('lens_simulation')",
   "language": "python",
   "name": "python3"
  },
  "language_info": {
   "codemirror_mode": {
    "name": "ipython",
    "version": 3
   },
   "file_extension": ".py",
   "mimetype": "text/x-python",
   "name": "python",
   "nbconvert_exporter": "python",
   "pygments_lexer": "ipython3",
   "version": "3.7.11"
  },
  "orig_nbformat": 4
 },
 "nbformat": 4,
 "nbformat_minor": 2
}
