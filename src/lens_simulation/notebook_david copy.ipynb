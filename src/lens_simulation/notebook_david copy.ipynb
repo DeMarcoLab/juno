{
 "cells": [
  {
   "cell_type": "markdown",
   "metadata": {},
   "source": [
    "# Imports\n"
   ]
  },
  {
   "cell_type": "code",
   "execution_count": 1,
   "metadata": {},
   "outputs": [],
   "source": [
    "%load_ext autoreload\n",
    "%autoreload 2\n",
    "import matplotlib.pyplot as plt\n",
    "import numpy as np\n",
    "from lens_simulation import Lens, Simulation\n",
    "from scipy import fftpack"
   ]
  },
  {
   "cell_type": "markdown",
   "metadata": {},
   "source": [
    "## Constants"
   ]
  },
  {
   "cell_type": "code",
   "execution_count": 68,
   "metadata": {},
   "outputs": [],
   "source": [
    "\n",
    "amplitude = 10000\n",
    "sim_width = 4500e-6\n",
    "pixel_size = 1e-6 \n",
    "n_slices = 3000\n",
    "\n",
    "lens = Lens.Lens(\n",
    "    diameter=sim_width,\n",
    "    height=70e-6,\n",
    "    exponent=2.0,\n",
    "    medium=Lens.Medium(2.348)\n",
    ")\n"
   ]
  },
  {
   "cell_type": "code",
   "execution_count": 71,
   "metadata": {},
   "outputs": [
    {
     "data": {
      "image/png": "[encoded data removed]",
      "text/plain": [
       "<Figure size 288x288 with 2 Axes>"
      ]
     },
     "metadata": {
      "needs_background": "light"
     },
     "output_type": "display_data"
    }
   ],
   "source": [
    "z_step = 0.01\n",
    "# z_step = 0.1\n",
    "rounding = 0\n",
    "medium = Lens.Medium(1.0)\n",
    "lens.generate_profile(pixel_size=pixel_size)\n",
    "# plt.plot(lens.profile)\n",
    "# plt.show()\n",
    "\n",
    "phase_diff_profile = Simulation.generate_differential_refractive_index_profile(\n",
    "    lens=lens, z_resolution=z_step, previous_slice=len(lens.profile) * [1.33], output_medium=medium, pixel_size=pixel_size\n",
    ")\n",
    "\n",
    "size = 4\n",
    "\n",
    "plt.figure(figsize=(size, size))\n",
    "plt.imshow(phase_diff_profile, aspect=\"auto\", interpolation=\"none\", cmap=\"Blues\")\n",
    "plt.colorbar()\n",
    "plt.show()"
   ]
  },
  {
   "cell_type": "code",
   "execution_count": 73,
   "metadata": {},
   "outputs": [
    {
     "name": "stderr",
     "output_type": "stream",
     "text": [
      "c:\\Users\\David  Dierickx\\.conda\\envs\\lens_simulation\\lib\\site-packages\\ipykernel_launcher.py:21: ComplexWarning: Casting complex values to real discards the imaginary part\n"
     ]
    },
    {
     "data": {
      "image/png": "[encoded data removed]",
      "text/plain": [
       "<Figure size 432x288 with 1 Axes>"
      ]
     },
     "metadata": {
      "needs_background": "light"
     },
     "output_type": "display_data"
    },
    {
     "data": {
      "image/png": "[encoded data removed]",
      "text/plain": [
       "<Figure size 432x288 with 1 Axes>"
      ]
     },
     "metadata": {
      "needs_background": "light"
     },
     "output_type": "display_data"
    }
   ],
   "source": [
    "\n",
    "freq_array = Simulation.generate_squared_frequency_array(n_pixels=len(lens.profile), pixel_size=pixel_size)\n",
    "\n",
    "wavefronts = np.zeros(shape=phase_diff_profile.shape)\n",
    "outputs = np.zeros(shape=phase_diff_profile.shape)\n",
    "\n",
    "\n",
    "for i, slice in enumerate(phase_diff_profile):\n",
    "    delta = slice * z_step\n",
    "    phase = (2 * np.pi * delta / medium.wavelength_medium ) % (2 * np.pi)\n",
    "\n",
    "    if i == 0:\n",
    "        wavefront = 10000 * np.exp(1j*phase)\n",
    "    else:\n",
    "        current_wavefront = 1 * np.exp(1j * phase)\n",
    "        wavefront = current_wavefront * wavefronts[i-1]\n",
    "\n",
    "    propagator = np.exp(1j * medium.wave_number * z_step * (i))  * np.exp( (-1j * 2 * np.pi ** 2 * (z_step * (i)) * freq_array) / medium.wave_number)\n",
    "    propagation = fftpack.ifft(propagator * wavefront)\n",
    "\n",
    "    output = np.sqrt(propagation.real**2 + propagation.imag**2)\n",
    "    wavefronts[i] = propagation\n",
    "    outputs[i] = output\n",
    "\n",
    "plt.imshow(outputs, aspect='auto')\n",
    "plt.show()\n",
    "\n",
    "sim = np.ones(shape=(n_slices, len(lens.profile)))\n",
    "\n",
    "equivalent_focal_distance = Simulation.calculate_equivalent_focal_distance(lens, medium)\n",
    "start_distance = 0.8 * equivalent_focal_distance  # 25e-3\n",
    "finish_distance = 1.2 * equivalent_focal_distance  # 28e-3\n",
    "\n",
    "#####\n",
    "\n",
    "delta = (lens.medium.refractive_index - medium.refractive_index) * lens.profile\n",
    "phase = (2 * np.pi * delta / medium.wavelength_medium) % (2 * np.pi)\n",
    "wavefront = 10000 * np.exp(1j * phase)\n",
    "\n",
    "# print(\"Wavefront shape: \", wavefront.shape)\n",
    "wavefront = fftpack.fft(wavefront)\n",
    "\n",
    "\n",
    "#####\n",
    "distances = np.linspace(start_distance, finish_distance, n_slices)\n",
    "for i, z in enumerate(distances):\n",
    "    # wavefront = fftpack.fft(wavefronts[-1])\n",
    "    # wavefront = wavefronts[-1]\n",
    "    prop = np.exp(1j * medium.wave_number * z)  * np.exp( (-1j * 2 * np.pi ** 2 * z * freq_array) / medium.wave_number)\n",
    "    # print(\"prop shape: \", prop.shape)\n",
    "    propagation = fftpack.ifft(prop * wavefront)\n",
    "\n",
    "    output = np.sqrt(propagation.real**2 + propagation.imag**2)\n",
    "\n",
    "    sim[i] = output\n",
    "    # print(f'Slice: {i} complete')\n",
    "\n",
    "plt.imshow(sim, aspect='auto')\n",
    "plt.show()\n",
    "\n"
   ]
  },
  {
   "cell_type": "code",
   "execution_count": 34,
   "metadata": {},
   "outputs": [
    {
     "name": "stdout",
     "output_type": "stream",
     "text": [
      "CENTRE_PX:  2250\n",
      "n_pixels_in_sim:  4501  pixel_size:  1e-06\n",
      "Prop Size:  4501\n"
     ]
    },
    {
     "data": {
      "image/png": "[encoded data removed]",
      "text/plain": [
       "<Figure size 432x288 with 1 Axes>"
      ]
     },
     "metadata": {
      "needs_background": "light"
     },
     "output_type": "display_data"
    }
   ],
   "source": [
    "from lens_simulation import Lens, Simulation\n",
    "\n",
    "import matplotlib.pyplot as plt\n",
    "import numpy as np\n",
    "from scipy import fftpack\n",
    "\n",
    "\n",
    "A = 10000\n",
    "\n",
    "from lens_simulation import Simulation\n",
    "\n",
    "\n",
    "# n_pixels need to be consistent\n",
    "\n",
    "sim_width = 4500e-6\n",
    "pixel_size = 1e-6  # 450e-6\n",
    "# n_pixels = int(sim_width / pixel_size)\n",
    "\n",
    "# # n_pixels must be odd (symmetry).\n",
    "# if n_pixels % 2 == 0:\n",
    "#     n_pixels += 1\n",
    "\n",
    "# print(n_pixels)\n",
    "\n",
    "lens = Lens.Lens(\n",
    "    diameter=sim_width, height=70e-6, exponent=2.0, medium=Lens.Medium(2.348)\n",
    ")\n",
    "profile = lens.generate_profile(pixel_size)\n",
    "\n",
    "\n",
    "# pixels size is defined by the sim\n",
    "# define a simulation width (includes padding)\n",
    "# TODO: minimum padding?\n",
    "# escape path: 10%\n",
    "# padding: 30%\n",
    "# pad the sides of the profile to match the sim width\n",
    "\n",
    "centre_px = (len(profile) - 1) // 2\n",
    "print(\"CENTRE_PX: \", centre_px)\n",
    "\n",
    "medium = Lens.Medium(refractive_index=1.0)\n",
    "\n",
    "print(\"n_pixels_in_sim: \", len(profile), \" pixel_size: \", pixel_size)\n",
    "\n",
    "freq_array = Simulation.generate_squared_frequency_array(\n",
    "    n_pixels=len(profile), pixel_size=pixel_size\n",
    ")\n",
    "\n",
    "delta = (lens.medium.refractive_index - medium.refractive_index) * profile\n",
    "phase = (2 * np.pi * delta / medium.wavelength_medium) % (2 * np.pi)\n",
    "wavefront = A * np.exp(1j * phase)\n",
    "\n",
    "# print(\"Wavefront shape: \", wavefront.shape)\n",
    "wavefront = fftpack.fft(wavefront)\n",
    "\n",
    "equivalent_focal_distance = Simulation.calculate_equivalent_focal_distance(lens, medium)\n",
    "start_distance = 0.8 * equivalent_focal_distance  # 25e-3\n",
    "finish_distance = 1.2 * equivalent_focal_distance  # 28e-3\n",
    "\n",
    "n_slices = 1000\n",
    "sim = np.ones(shape=(n_slices, len(profile)))\n",
    "distances = np.linspace(start_distance, finish_distance, n_slices)\n",
    "for i, z in enumerate(distances):\n",
    "\n",
    "    prop = np.exp(1j * medium.wave_number * z) * np.exp(\n",
    "        (-1j * 2 * np.pi ** 2 * z * freq_array) / medium.wave_number\n",
    "    )\n",
    "    # print(\"prop shape: \", prop.shape)\n",
    "    propagation = fftpack.ifft(prop * wavefront)\n",
    "\n",
    "    output = np.sqrt(propagation.real ** 2 + propagation.imag ** 2)\n",
    "\n",
    "    sim[i] = output\n",
    "\n",
    "print(\"Prop Size: \", len(prop))\n",
    "\n",
    "plt.imshow(sim)\n",
    "plt.show()\n",
    "\n",
    "# fig = utils.plot_interactive_simulation(sim)\n",
    "# fig.show()\n"
   ]
  },
  {
   "cell_type": "code",
   "execution_count": null,
   "metadata": {},
   "outputs": [],
   "source": []
  }
 ],
 "metadata": {
  "interpreter": {
   "hash": "9c059ec6bcfa5754e4bdc7a0641d1daa6023a22a449748e5dc7cf77ba0018324"
  },
  "kernelspec": {
   "display_name": "Python 3.7.12 64-bit ('lens_sim': conda)",
   "language": "python",
   "name": "python3"
  },
  "language_info": {
   "codemirror_mode": {
    "name": "ipython",
    "version": 3
   },
   "file_extension": ".py",
   "mimetype": "text/x-python",
   "name": "python",
   "nbconvert_exporter": "python",
   "pygments_lexer": "ipython3",
   "version": "3.7.11"
  },
  "orig_nbformat": 4
 },
 "nbformat": 4,
 "nbformat_minor": 2
}
