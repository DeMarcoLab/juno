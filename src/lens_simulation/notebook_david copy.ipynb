{
 "cells": [
  {
   "cell_type": "markdown",
   "metadata": {},
   "source": [
    "# Imports\n"
   ]
  },
  {
   "cell_type": "code",
   "execution_count": 1,
   "metadata": {},
   "outputs": [],
   "source": [
    "%load_ext autoreload\n",
    "%autoreload 2\n",
    "import matplotlib.pyplot as plt\n",
    "import numpy as np\n",
    "from lens_simulation import Lens, Simulation\n",
    "from scipy import fftpack"
   ]
  },
  {
   "cell_type": "code",
   "execution_count": 2,
   "metadata": {},
   "outputs": [],
   "source": [
    "amplitude = 10000\n",
    "sim_width = 450e-6\n",
    "pixel_size = 0.01e-6 \n",
    "n_slices = 1000\n",
    "\n",
    "lens = Lens.Lens(\n",
    "    diameter=sim_width,\n",
    "    height=70e-6,\n",
    "    exponent=2.,\n",
    "    medium=Lens.Medium(2.348)\n",
    ")\n",
    "lens.generate_profile(pixel_size=pixel_size)\n",
    "output_medium = Lens.Medium(1.33)\n",
    "sim_wavelength = 488e-9\n",
    "\n",
    "step_size = 0.19e-6"
   ]
  },
  {
   "cell_type": "code",
   "execution_count": null,
   "metadata": {},
   "outputs": [],
   "source": []
  },
  {
   "cell_type": "code",
   "execution_count": null,
   "metadata": {},
   "outputs": [],
   "source": []
  }
 ],
 "metadata": {
  "interpreter": {
   "hash": "9c059ec6bcfa5754e4bdc7a0641d1daa6023a22a449748e5dc7cf77ba0018324"
  },
  "kernelspec": {
   "display_name": "Python 3.7.12 64-bit ('lens_sim': conda)",
   "language": "python",
   "name": "python3"
  },
  "language_info": {
   "codemirror_mode": {
    "name": "ipython",
    "version": 3
   },
   "file_extension": ".py",
   "mimetype": "text/x-python",
   "name": "python",
   "nbconvert_exporter": "python",
   "pygments_lexer": "ipython3",
   "version": "3.7.11"
  },
  "orig_nbformat": 4
 },
 "nbformat": 4,
 "nbformat_minor": 2
}
